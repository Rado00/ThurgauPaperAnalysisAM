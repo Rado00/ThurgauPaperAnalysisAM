{
 "cells": [
  {
   "cell_type": "code",
   "execution_count": 1,
   "id": "b9b8b338-7880-4f12-aeed-cbd41ce96337",
   "metadata": {},
   "outputs": [],
   "source": [
    "# All these are copied from 05_plot_the_clean_csv_files.py script\n",
    "import pandas as pd\n",
    "import warnings\n",
    "import plotly.express as px\n",
    "import plotly.graph_objects as go\n",
    "from plotly.subplots import make_subplots\n",
    "pd.set_option('display.max_columns', None)\n",
    "pd.set_option('display.max_rows', None)"
   ]
  },
  {
   "cell_type": "code",
   "execution_count": 2,
   "id": "2fd1ad26-3d8d-4131-a270-c3e2c32279f0",
   "metadata": {},
   "outputs": [],
   "source": [
    "data_path_clean = 'C:\\\\AMIR\\\\Corrado\\\\2023_ABMT_Data\\\\Frauenfeld\\\\1_Cleaned_CSVs\\\\100pct'\n",
    "pre_processed_data_path = "
   ]
  },
  {
   "cell_type": "code",
   "execution_count": 3,
   "id": "bf64b45b-2506-4eca-996f-f8ffda9d723e",
   "metadata": {},
   "outputs": [
    {
     "ename": "NameError",
     "evalue": "name 'pre_processed_data_path' is not defined",
     "output_type": "error",
     "traceback": [
      "\u001B[1;31m---------------------------------------------------------------------------\u001B[0m",
      "\u001B[1;31mNameError\u001B[0m                                 Traceback (most recent call last)",
      "Cell \u001B[1;32mIn[3], line 15\u001B[0m\n\u001B[0;32m     12\u001B[0m df_legs_synt \u001B[38;5;241m=\u001B[39m pd\u001B[38;5;241m.\u001B[39mread_csv(\u001B[38;5;124mf\u001B[39m\u001B[38;5;124m'\u001B[39m\u001B[38;5;132;01m{\u001B[39;00mdata_path_clean\u001B[38;5;132;01m}\u001B[39;00m\u001B[38;5;130;01m\\\\\u001B[39;00m\u001B[38;5;124mlegs_clean_synt.csv\u001B[39m\u001B[38;5;124m'\u001B[39m)\n\u001B[0;32m     13\u001B[0m df_legs_sim \u001B[38;5;241m=\u001B[39m pd\u001B[38;5;241m.\u001B[39mread_csv(\u001B[38;5;124mf\u001B[39m\u001B[38;5;124m'\u001B[39m\u001B[38;5;132;01m{\u001B[39;00mdata_path_clean\u001B[38;5;132;01m}\u001B[39;00m\u001B[38;5;130;01m\\\\\u001B[39;00m\u001B[38;5;124mlegs_clean_sim.csv\u001B[39m\u001B[38;5;124m'\u001B[39m)\n\u001B[1;32m---> 15\u001B[0m df_households_synt \u001B[38;5;241m=\u001B[39m pd\u001B[38;5;241m.\u001B[39mread_csv(\u001B[38;5;124mf\u001B[39m\u001B[38;5;124m'\u001B[39m\u001B[38;5;132;01m{\u001B[39;00m\u001B[43mpre_processed_data_path\u001B[49m\u001B[38;5;132;01m}\u001B[39;00m\u001B[38;5;130;01m\\\\\u001B[39;00m\u001B[38;5;124mdf_households_synt.csv\u001B[39m\u001B[38;5;124m'\u001B[39m)\n\u001B[0;32m     16\u001B[0m df_activity_synt \u001B[38;5;241m=\u001B[39m pd\u001B[38;5;241m.\u001B[39mread_csv(\u001B[38;5;124mf\u001B[39m\u001B[38;5;124m'\u001B[39m\u001B[38;5;132;01m{\u001B[39;00mpre_processed_data_path\u001B[38;5;132;01m}\u001B[39;00m\u001B[38;5;130;01m\\\\\u001B[39;00m\u001B[38;5;124mdf_activity_synt.csv\u001B[39m\u001B[38;5;124m'\u001B[39m)\n\u001B[0;32m     17\u001B[0m df_activity_sim \u001B[38;5;241m=\u001B[39m pd\u001B[38;5;241m.\u001B[39mread_csv(\u001B[38;5;124mf\u001B[39m\u001B[38;5;124m'\u001B[39m\u001B[38;5;132;01m{\u001B[39;00mpre_processed_data_path\u001B[38;5;132;01m}\u001B[39;00m\u001B[38;5;130;01m\\\\\u001B[39;00m\u001B[38;5;124mdf_activity_sim.csv\u001B[39m\u001B[38;5;124m'\u001B[39m)\n",
      "\u001B[1;31mNameError\u001B[0m: name 'pre_processed_data_path' is not defined"
     ]
    }
   ],
   "source": [
    "df_trips_mic = pd.read_csv(f'{data_path_clean}\\\\trips_mic.csv')\n",
    "df_trips_synt = pd.read_csv(f'{data_path_clean}\\\\trips_synt.csv')\n",
    "df_trips_sim = pd.read_csv(f'{data_path_clean}\\\\trips_sim.csv')\n",
    "\n",
    "df_activity_chains_syn = pd.read_csv(f'{data_path_clean}\\\\activity_chains_syn.csv')\n",
    "df_activity_chains_sim = pd.read_csv(f'{data_path_clean}\\\\activity_chains_sim.csv')\n",
    "df_activity_chains_mic = pd.read_csv(f'{data_path_clean}\\\\activity_chains_mic.csv')\n",
    "\n",
    "df_population_mic = pd.read_csv(f'{data_path_clean}\\\\population_clean_mic.csv')\n",
    "df_persons_synt = pd.read_csv(f'{data_path_clean}\\\\population_clean_synth.csv')\n",
    "df_persons_sim = pd.read_csv(f'{data_path_clean}\\\\population_clean_sim.csv')\n",
    "df_legs_synt = pd.read_csv(f'{data_path_clean}\\\\legs_clean_synt.csv')\n",
    "df_legs_sim = pd.read_csv(f'{data_path_clean}\\\\legs_clean_sim.csv')\n",
    "\n",
    "df_households_synt = pd.read_csv(f'{pre_processed_data_path}\\\\df_households_synt.csv')\n",
    "df_activity_synt = pd.read_csv(f'{pre_processed_data_path}\\\\df_activity_synt.csv')\n",
    "df_activity_sim = pd.read_csv(f'{pre_processed_data_path}\\\\df_activity_sim.csv')"
   ]
  },
  {
   "cell_type": "code",
   "execution_count": null,
   "id": "9fbf8f13-5fa8-4387-82a7-040aca038d4e",
   "metadata": {},
   "outputs": [],
   "source": []
  }
 ],
 "metadata": {
  "kernelspec": {
   "display_name": "Python 3 (ipykernel)",
   "language": "python",
   "name": "python3"
  },
  "language_info": {
   "codemirror_mode": {
    "name": "ipython",
    "version": 3
   },
   "file_extension": ".py",
   "mimetype": "text/x-python",
   "name": "python",
   "nbconvert_exporter": "python",
   "pygments_lexer": "ipython3",
   "version": "3.11.8"
  }
 },
 "nbformat": 4,
 "nbformat_minor": 5
}
