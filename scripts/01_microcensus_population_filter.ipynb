{
 "cells": [
  {
   "cell_type": "code",
   "execution_count": 1,
   "metadata": {},
   "outputs": [],
   "source": [
    "import numpy as np\n",
    "import pandas as pd\n",
    "import pyproj\n",
    "import os\n",
    "import math\n",
    "import plotly.express as px\n",
    "import geopandas as gpd\n",
    "from shapely.geometry import Point\n",
    "import plotly.graph_objs as go\n",
    "from plotly.subplots import make_subplots"
   ]
  },
  {
   "cell_type": "code",
   "execution_count": 2,
   "metadata": {},
   "outputs": [],
   "source": [
    "# !pip install scikit-learn\n",
    "\n",
    "# USE Python 3.10 in Miniconda as Kernel (for now)\n"
   ]
  },
  {
   "cell_type": "code",
   "execution_count": 4,
   "metadata": {},
   "outputs": [
    {
     "ename": "ModuleNotFoundError",
     "evalue": "No module named 'sklearn'",
     "output_type": "error",
     "traceback": [
      "\u001b[1;31m---------------------------------------------------------------------------\u001b[0m",
      "\u001b[1;31mModuleNotFoundError\u001b[0m                       Traceback (most recent call last)",
      "Cell \u001b[1;32mIn[4], line 16\u001b[0m\n\u001b[0;32m     14\u001b[0m \u001b[38;5;28;01mimport\u001b[39;00m \u001b[38;5;21;01mconstants\u001b[39;00m \u001b[38;5;28;01mas\u001b[39;00m \u001b[38;5;21;01mc\u001b[39;00m\n\u001b[0;32m     15\u001b[0m \u001b[38;5;28;01mimport\u001b[39;00m \u001b[38;5;21;01mspatial\u001b[39;00m\u001b[38;5;21;01m.\u001b[39;00m\u001b[38;5;21;01mcantons\u001b[39;00m\n\u001b[1;32m---> 16\u001b[0m \u001b[38;5;28;01mimport\u001b[39;00m \u001b[38;5;21;01mspatial\u001b[39;00m\u001b[38;5;21;01m.\u001b[39;00m\u001b[38;5;21;01mmunicipalities\u001b[39;00m\n\u001b[0;32m     17\u001b[0m \u001b[38;5;28;01mimport\u001b[39;00m \u001b[38;5;21;01mspatial\u001b[39;00m\u001b[38;5;21;01m.\u001b[39;00m\u001b[38;5;21;01mmunicipality_types\u001b[39;00m\n\u001b[0;32m     18\u001b[0m \u001b[38;5;28;01mimport\u001b[39;00m \u001b[38;5;21;01mspatial\u001b[39;00m\u001b[38;5;21;01m.\u001b[39;00m\u001b[38;5;21;01movgk\u001b[39;00m\n",
      "File \u001b[1;32mc:\\Users\\muaa\\Documents\\3_MIEI\\ThurgauPaperAnalysisAM\\scripts\\dataFunctions\\spatial\\municipalities.py:4\u001b[0m\n\u001b[0;32m      2\u001b[0m \u001b[38;5;28;01mimport\u001b[39;00m \u001b[38;5;21;01mnumpy\u001b[39;00m \u001b[38;5;28;01mas\u001b[39;00m \u001b[38;5;21;01mnp\u001b[39;00m\n\u001b[0;32m      3\u001b[0m \u001b[38;5;28;01mimport\u001b[39;00m \u001b[38;5;21;01mpandas\u001b[39;00m \u001b[38;5;28;01mas\u001b[39;00m \u001b[38;5;21;01mpd\u001b[39;00m\n\u001b[1;32m----> 4\u001b[0m \u001b[38;5;28;01mfrom\u001b[39;00m \u001b[38;5;21;01msklearn\u001b[39;00m\u001b[38;5;21;01m.\u001b[39;00m\u001b[38;5;21;01mneighbors\u001b[39;00m \u001b[38;5;28;01mimport\u001b[39;00m KDTree\n\u001b[0;32m      7\u001b[0m \u001b[38;5;28;01mdef\u001b[39;00m \u001b[38;5;21mconfigure\u001b[39m(context):\n\u001b[0;32m      8\u001b[0m     context\u001b[38;5;241m.\u001b[39mconfig(\u001b[38;5;124m\"\u001b[39m\u001b[38;5;124mdata_path\u001b[39m\u001b[38;5;124m\"\u001b[39m)\n",
      "\u001b[1;31mModuleNotFoundError\u001b[0m: No module named 'sklearn'"
     ]
    }
   ],
   "source": [
    "import sys\n",
    "import os\n",
    "\n",
    "# Get the path to the current script folder\n",
    "current_script_folder = os.getcwd()\n",
    "\n",
    "# Determine the path to the parallel 'data' folder\n",
    "data_folder_path = os.path.join(current_script_folder, 'dataFunctions')\n",
    "\n",
    "# Add the 'data' folder to the system path\n",
    "sys.path.append(os.path.abspath(data_folder_path))\n",
    "\n",
    "# Now you can import the modules from the 'data' folder\n",
    "import constants as c\n",
    "import spatial.cantons\n",
    "import spatial.municipalities\n",
    "import spatial.municipality_types\n",
    "import spatial.ovgk\n",
    "import spatial.utils\n",
    "import spatial.zones\n",
    "import utils"
   ]
  },
  {
   "cell_type": "markdown",
   "metadata": {},
   "source": [
    "### Prepare Data"
   ]
  },
  {
   "cell_type": "markdown",
   "metadata": {},
   "source": [
    "#### Define Functions"
   ]
  },
  {
   "cell_type": "code",
   "execution_count": 3,
   "metadata": {},
   "outputs": [],
   "source": [
    "#CHECK THIS FOR THE PATH\n",
    "\n",
    "# place = \"Frauenfeld\"\n",
    "# shapeFileName = 'Frauenfeld_proj.shp'\n",
    "place = \"Weinfelden\"\n",
    "shapeFileName = 'Weinfelden_proj.shp'\n",
    "# place = \"Thurgau\"\n",
    "# shapeFileName = 'ThurgauKanton_Connected.shp'"
   ]
  },
  {
   "cell_type": "code",
   "execution_count": 4,
   "metadata": {},
   "outputs": [],
   "source": [
    "import os\n",
    "import platform\n",
    "\n",
    "def get_data_folder_path():\n",
    "    # Get the current operating system\n",
    "    os_type = platform.system()\n",
    "    user_name = os.getlogin()\n",
    "\n",
    "    # Define data folder paths for different systems\n",
    "    if os_type == 'Windows' and user_name == 'muaa':\n",
    "        data_folder_path = f\"C://Users//{user_name}//Documents//3_MIEI//2023_ABMT_Data//{place}//\"    \n",
    "    elif os_type == 'Linux' and user_name == 'comura':\n",
    "        data_folder_path = '/cluster/home/comura/.../'\n",
    "    elif os_type == 'Linux' and user_name == 'cmuratori':\n",
    "        data_folder_path = '/cluster/home/cmuratori/.../'\n",
    "    elif os_type == 'Linux' and user_name == 'muaa':\n",
    "        data_folder_path = '/cluster/home/muaa/.../'\n",
    "    else:\n",
    "        raise Exception(\"Unsupported system configuration\")\n",
    "\n",
    "    return data_folder_path"
   ]
  },
  {
   "cell_type": "code",
   "execution_count": 5,
   "metadata": {},
   "outputs": [],
   "source": [
    "def configure(context):\n",
    "    context.config(\"data_path\")\n",
    "    context.stage(\"data.spatial.municipalities\")\n",
    "    context.stage(\"data.spatial.zones\")\n",
    "    context.stage(\"data.spatial.municipality_types\")\n",
    "    context.stage(\"data.statpop.density\")\n",
    "    context.stage(\"data.spatial.ovgk\")"
   ]
  },
  {
   "cell_type": "code",
   "execution_count": 6,
   "metadata": {},
   "outputs": [],
   "source": [
    "def fix_marital_status(df):\n",
    "    \"\"\" Makes young people, who are separated, be treated as single! \"\"\"\n",
    "    df.loc[\n",
    "        (df[\"marital_status\"] == c.MARITAL_STATUS_SEPARATE) & (df[\"age\"] < c.SEPARATE_SINGLE_THRESHOLD)\n",
    "        , \"marital_status\"] = c.MARITAL_STATUS_SINGLE\n",
    "    df.loc[:, \"marital_status\"] = df.loc[:, \"marital_status\"].astype(int)"
   ]
  },
  {
   "cell_type": "code",
   "execution_count": 7,
   "metadata": {},
   "outputs": [],
   "source": [
    "def execute_person(path):\n",
    "    data_path = path\n",
    "\n",
    "    df_mz_persons = pd.read_csv(\n",
    "        \"%s/microzensus/zielpersonen.csv\" % data_path,\n",
    "        sep = \",\", encoding = \"latin1\", parse_dates = [\"USTag\"]\n",
    "    )\n",
    "\n",
    "    df_mz_persons[\"age\"] = df_mz_persons[\"alter\"]\n",
    "    df_mz_persons[\"sex\"] = df_mz_persons[\"gesl\"] - 1 # Make zero-based\n",
    "    df_mz_persons[\"person_id\"] = df_mz_persons[\"HHNR\"]\n",
    "    df_mz_persons[\"person_weight\"] = df_mz_persons[\"WP\"]\n",
    "    df_mz_persons[\"date\"] = df_mz_persons[\"USTag\"]\n",
    "\n",
    "    # Marital status\n",
    "    df_mz_persons.loc[df_mz_persons[\"zivil\"] == 1, \"marital_status\"] = c.MARITAL_STATUS_SINGLE\n",
    "    df_mz_persons.loc[df_mz_persons[\"zivil\"] == 2, \"marital_status\"] = c.MARITAL_STATUS_MARRIED\n",
    "    df_mz_persons.loc[df_mz_persons[\"zivil\"] == 3, \"marital_status\"] = c.MARITAL_STATUS_SEPARATE\n",
    "    df_mz_persons.loc[df_mz_persons[\"zivil\"] == 4, \"marital_status\"] = c.MARITAL_STATUS_SEPARATE\n",
    "    df_mz_persons.loc[df_mz_persons[\"zivil\"] == 5, \"marital_status\"] = c.MARITAL_STATUS_SINGLE\n",
    "    df_mz_persons.loc[df_mz_persons[\"zivil\"] == 6, \"marital_status\"] = c.MARITAL_STATUS_MARRIED\n",
    "    df_mz_persons.loc[df_mz_persons[\"zivil\"] == 7, \"marital_status\"] = c.MARITAL_STATUS_SEPARATE\n",
    "\n",
    "    # Driving license\n",
    "    df_mz_persons[\"driving_license\"] = df_mz_persons[\"f20400a\"] == 1\n",
    "\n",
    "    # Car availability\n",
    "    df_mz_persons[\"car_availability\"] = c.CAR_AVAILABILITY_NEVER\n",
    "    df_mz_persons.loc[df_mz_persons[\"f42100e\"] == 1, \"car_availability\"] = c.CAR_AVAILABILITY_ALWAYS\n",
    "    df_mz_persons.loc[df_mz_persons[\"f42100e\"] == 2, \"car_availability\"] = c.CAR_AVAILABILITY_SOMETIMES\n",
    "    df_mz_persons.loc[df_mz_persons[\"f42100e\"] == 3, \"car_availability\"] = c.CAR_AVAILABILITY_NEVER\n",
    "\n",
    "    # Employment (TODO: I know that LIMA uses a more fine-grained category here)\n",
    "    df_mz_persons[\"employed\"] = df_mz_persons[\"f40800_01\"] != -99\n",
    "\n",
    "    # Infer age class\n",
    "    df_mz_persons[\"age_class\"] = np.digitize(df_mz_persons[\"age\"], c.AGE_CLASS_UPPER_BOUNDS)\n",
    "\n",
    "    # Fix marital status\n",
    "    fix_marital_status(df_mz_persons)\n",
    "\n",
    "    # Day of the observation\n",
    "    df_mz_persons[\"weekend\"] = False\n",
    "    df_mz_persons.loc[df_mz_persons[\"tag\"] == 6, \"weekend\"] = True\n",
    "    df_mz_persons.loc[df_mz_persons[\"tag\"] == 7, \"weekend\"] = True\n",
    "\n",
    "    # Here we extract a bit more than Kirill, but most likely it will be useful later\n",
    "\n",
    "    df_mz_persons[\"subscriptions_ga\"] = df_mz_persons[\"f41610a\"] == 1\n",
    "    df_mz_persons[\"subscriptions_halbtax\"] = df_mz_persons[\"f41610b\"] == 1\n",
    "    df_mz_persons[\"subscriptions_verbund\"] = df_mz_persons[\"f41610c\"] == 1\n",
    "    df_mz_persons[\"subscriptions_strecke\"] = df_mz_persons[\"f41610d\"] == 1\n",
    "    df_mz_persons[\"subscriptions_gleis7\"] = df_mz_persons[\"f41610e\"] == 1\n",
    "    df_mz_persons[\"subscriptions_junior\"] = df_mz_persons[\"f41610f\"] == 1\n",
    "    df_mz_persons[\"subscriptions_other\"] = df_mz_persons[\"f41610g\"] == 1\n",
    "\n",
    "    df_mz_persons[\"subscriptions_ga_class\"] = df_mz_persons[\"f41651\"] == 1\n",
    "    df_mz_persons[\"subscriptions_verbund_class\"] = df_mz_persons[\"f41653\"] == 1\n",
    "    df_mz_persons[\"subscriptions_strecke_class\"] = df_mz_persons[\"f41654\"] == 1\n",
    "\n",
    "    # Education\n",
    "    df_mz_persons[\"highest_education\"] = np.nan\n",
    "    df_mz_persons.loc[df_mz_persons[\"HAUSB\"].isin([1, 2, 3, 4]), \"highest_education\"] = \"primary\"\n",
    "    df_mz_persons.loc[df_mz_persons[\"HAUSB\"].isin([5, 6, 7, 8, 9, 10, 11, 12]), \"highest_education\"] = \"secondary\"\n",
    "    df_mz_persons.loc[df_mz_persons[\"HAUSB\"].isin([13, 14, 15, 16]), \"highest_education\"] = \"tertiary_professional\"\n",
    "    df_mz_persons.loc[df_mz_persons[\"HAUSB\"].isin([17, 18, 19]), \"highest_education\"] = \"tertiary_academic\"\n",
    "    df_mz_persons[\"highest_education\"] = df_mz_persons[\"highest_education\"].astype(\"category\")\n",
    "\n",
    "    # Parking\n",
    "    df_mz_persons[\"parking_work\"] = \"unknown\"\n",
    "    df_mz_persons.loc[df_mz_persons[\"f41300\"] == 1, \"parking_work\"] = \"free\"\n",
    "    df_mz_persons.loc[df_mz_persons[\"f41300\"] == 2, \"parking_work\"] = \"paid\"\n",
    "    df_mz_persons.loc[df_mz_persons[\"f41300\"] == 3, \"parking_work\"] = \"no\"\n",
    "    df_mz_persons[\"parking_work\"] = df_mz_persons[\"parking_work\"].astype(\"category\")\n",
    "\n",
    "    df_mz_persons[\"parking_education\"] = \"unknown\"\n",
    "    df_mz_persons.loc[df_mz_persons[\"f41301\"] == 1, \"parking_education\"] = \"free\"\n",
    "    df_mz_persons.loc[df_mz_persons[\"f41301\"] == 2, \"parking_education\"] = \"paid\"\n",
    "    df_mz_persons.loc[df_mz_persons[\"f41301\"] == 3, \"parking_education\"] = \"no\"\n",
    "    df_mz_persons[\"parking_education\"] = df_mz_persons[\"parking_education\"].astype(\"category\")\n",
    "\n",
    "    df_mz_persons[\"parking_cost_work\"] = np.maximum(0, df_mz_persons[\"f41400\"].astype(float))\n",
    "    df_mz_persons[\"parking_cost_education\"] = np.maximum(0, df_mz_persons[\"f41401\"].astype(float))\n",
    "\n",
    "    # Wrap up\n",
    "    df_mz_persons = df_mz_persons[[\n",
    "        \"person_id\",\n",
    "        \"age\", \"sex\",\n",
    "        \"marital_status\",\n",
    "        \"driving_license\",\n",
    "        \"car_availability\",\n",
    "        \"employed\",\n",
    "        \"highest_education\",\n",
    "        \"parking_work\", \"parking_cost_work\",\n",
    "        \"parking_education\", \"parking_cost_education\",\n",
    "        \"subscriptions_ga\",\n",
    "        \"subscriptions_halbtax\",\n",
    "        \"subscriptions_verbund\",\n",
    "        \"subscriptions_strecke\",\n",
    "        \"subscriptions_gleis7\",\n",
    "        \"subscriptions_junior\",\n",
    "        \"subscriptions_other\",\n",
    "        \"subscriptions_ga_class\",\n",
    "        \"subscriptions_verbund_class\",\n",
    "        \"subscriptions_strecke_class\",\n",
    "        \"age_class\", \"person_weight\",\n",
    "        \"weekend\", \"date\"\n",
    "    ]]\n",
    "\n",
    "    # # Merge in the other data sets\n",
    "    # df_mz_households = context.stage(\"data.microcensus.households\")\n",
    "    # df_mz_trips = context.stage(\"data.microzensus.trips\")\n",
    "\n",
    "    # df_mz_persons = pd.merge(df_mz_persons, df_mz_households)\n",
    "    # df_mz_persons = data.microzensus.income.impute(df_mz_persons)\n",
    "\n",
    "    # remove_ids = set(df_mz_persons[\"person_id\"]) - set(df_mz_trips[\"person_id\"])\n",
    "    # initial_size = len(df_mz_persons)\n",
    "\n",
    "    # df_mz_persons = df_mz_persons[~df_mz_persons[\"person_id\"].isin(remove_ids)]\n",
    "\n",
    "    # # Note: Around 7000 of them are those, which do not even have an activity chain in the first place\n",
    "    # # because they have not been asked.\n",
    "    # print(\"  Removed %d (%.2f%%) persons from MZ because of insufficient trip data\" % (\n",
    "    #     len(remove_ids), 100.0 * len(remove_ids) / initial_size\n",
    "    # ))\n",
    "\n",
    "    # # Add car passenger flag\n",
    "    # car_passenger_ids = df_mz_trips.loc[df_mz_trips[\"mode\"] == \"car_passenger\", \"person_id\"].unique()\n",
    "    # df_mz_persons[\"is_car_passenger\"] = df_mz_persons[\"person_id\"].isin(car_passenger_ids)\n",
    "\n",
    "    return df_mz_persons"
   ]
  },
  {
   "cell_type": "code",
   "execution_count": 13,
   "metadata": {},
   "outputs": [],
   "source": [
    "def execute_household(path):\n",
    "    data_path = path\n",
    "\n",
    "    df_mz_households = pd.read_csv(\n",
    "        \"%s/microzensus/haushalte.csv\" % data_path, sep=\",\", encoding=\"latin1\")\n",
    "\n",
    "    # Simple attributes\n",
    "    df_mz_households[\"home_structure\"] = df_mz_households[\"W_STRUKTUR_AGG_2000\"]\n",
    "    df_mz_households[\"household_size\"] = df_mz_households[\"hhgr\"]\n",
    "    df_mz_households[\"number_of_cars\"] = np.maximum(0, df_mz_households[\"f30100\"])\n",
    "    df_mz_households[\"number_of_bikes\"] = df_mz_households[\"f32200a\"]\n",
    "    df_mz_households[\"person_id\"] = df_mz_households[\"HHNR\"]\n",
    "    df_mz_households[\"household_weight\"] = df_mz_households[\"WM\"]\n",
    "\n",
    "    # Income\n",
    "    df_mz_households[\"income_class\"] = df_mz_households[\"F20601\"] - 1  # Turn into zero-based class\n",
    "    df_mz_households[\"income_class\"] = np.maximum(-1, df_mz_households[\"income_class\"])  # Make all \"invalid\" entries -1\n",
    "\n",
    "    # Convert coordinates to LV95\n",
    "    coords = df_mz_households[[\"W_X_CH1903\", \"W_Y_CH1903\"]].values\n",
    "    transformer = pyproj.Transformer.from_crs(c.CH1903, c.CH1903_PLUS)\n",
    "    x, y = transformer.transform(coords[:, 0], coords[:, 1])\n",
    "    df_mz_households.loc[:, \"home_x\"] = x\n",
    "    df_mz_households.loc[:, \"home_y\"] = y\n",
    "\n",
    "    # Class variable for number of cars\n",
    "    df_mz_households[\"number_of_cars_class\"] = 0\n",
    "    df_mz_households.loc[df_mz_households[\"number_of_cars\"] > 0, \"number_of_cars_class\"] = np.minimum(\n",
    "        c.MAX_NUMBER_OF_CARS_CLASS, df_mz_households[\"number_of_cars\"])\n",
    "\n",
    "    # Bike availability depends on household size. (TODO: Would it make sense to use the same concept for cars?)\n",
    "    df_mz_households[\"number_of_bikes_class\"] = c.BIKE_AVAILABILITY_FOR_NONE\n",
    "    df_mz_households.loc[\n",
    "        df_mz_households[\"number_of_bikes\"] > 0, \"number_of_bikes_class\"] = c.BIKE_AVAILABILITY_FOR_SOME\n",
    "    df_mz_households.loc[\n",
    "        df_mz_households[\"number_of_bikes\"] >= df_mz_households[\"household_size\"],\n",
    "        \"number_of_bikes_class\"] = c.BIKE_AVAILABILITY_FOR_ALL\n",
    "\n",
    "    # Household size class\n",
    "    utils.assign_household_class(df_mz_households)\n",
    "\n",
    "    # Region information\n",
    "    # (acc. to Analyse der SP-Befragung 2015 zur Verkehrsmodus- und Routenwahl)\n",
    "    df_mz_households[\"canton_id\"] = df_mz_households[\"W_KANTON\"]\n",
    "    df_mz_households = spatial.cantons.impute_sp_region(df_mz_households)\n",
    "\n",
    "    # # Impute spatial information\n",
    "    # df_municipalities = context.stage(\"data.spatial.municipalities\")[0]\n",
    "    # df_zones = context.stage(\"data.spatial.zones\")\n",
    "    # df_municipality_types = context.stage(\"data.spatial.municipality_types\")\n",
    "\n",
    "    # df_spatial = pd.DataFrame(df_mz_households[[\"person_id\", \"home_x\", \"home_y\"]])\n",
    "    # df_spatial = data.spatial.utils.to_gpd(context, df_spatial, \"home_x\", \"home_y\")\n",
    "    # df_spatial = data.spatial.utils.impute(context, df_spatial, df_municipalities, \"person_id\", \"municipality_id\")\n",
    "    # df_spatial = data.spatial.zones.impute(df_spatial, df_zones)\n",
    "    # df_spatial = data.spatial.municipality_types.impute(df_spatial, df_municipality_types)\n",
    "\n",
    "    # df_mz_households = pd.merge(\n",
    "    #     df_mz_households, df_spatial[[\"person_id\", \"zone_id\", \"municipality_type\"]],\n",
    "    #     on=\"person_id\"\n",
    "    # )\n",
    "\n",
    "    # df_mz_households[\"home_zone_id\"] = df_mz_households[\"zone_id\"]\n",
    "\n",
    "    # # Impute density\n",
    "    # data.statpop.density.impute(context.stage(\"data.statpop.density\"), df_mz_households, \"home_x\", \"home_y\")\n",
    "\n",
    "    # # Impute OV Guteklasse\n",
    "    # print(\"Imputing ÖV Güteklasse ...\")\n",
    "    # df_ovgk = context.stage(\"data.spatial.ovgk\")\n",
    "    # df_spatial = data.spatial.ovgk.impute(context, df_ovgk, df_spatial, [\"person_id\"])\n",
    "    # df_mz_households = pd.merge(df_mz_households, df_spatial[[\"person_id\", \"ovgk\"]], on=[\"person_id\"], how=\"left\")\n",
    "\n",
    "    # Wrap it up\n",
    "    return df_mz_households[[\n",
    "        \"person_id\", \"household_size\", \"number_of_cars\", \"number_of_bikes\", \"income_class\",\n",
    "        \"home_x\", \"home_y\", \"household_size_class\", \"number_of_cars_class\", \"number_of_bikes_class\", \"household_weight\",\n",
    "        \"sp_region\", \"canton_id\"]]\n"
   ]
  },
  {
   "cell_type": "markdown",
   "metadata": {},
   "source": [
    "#### Run Preparation and Merge"
   ]
  },
  {
   "cell_type": "code",
   "execution_count": 14,
   "metadata": {},
   "outputs": [
    {
     "name": "stderr",
     "output_type": "stream",
     "text": [
      "C:\\Users\\muaa\\AppData\\Local\\Temp\\ipykernel_34904\\2244168608.py:63: FutureWarning: Setting an item of incompatible dtype is deprecated and will raise in a future error of pandas. Value 'primary' has dtype incompatible with float64, please explicitly cast to a compatible dtype first.\n",
      "  df_mz_persons.loc[df_mz_persons[\"HAUSB\"].isin([1, 2, 3, 4]), \"highest_education\"] = \"primary\"\n"
     ]
    }
   ],
   "source": [
    "data_folder_path = get_data_folder_path()\n",
    "df_mz_persons = execute_person(data_folder_path)\n",
    "df_mz_households = execute_household(data_folder_path)"
   ]
  },
  {
   "cell_type": "code",
   "execution_count": 15,
   "metadata": {},
   "outputs": [],
   "source": [
    "df = pd.merge(df_mz_persons, df_mz_households, on='person_id', how='left')\n"
   ]
  },
  {
   "cell_type": "code",
   "execution_count": 16,
   "metadata": {},
   "outputs": [
    {
     "data": {
      "text/html": [
       "<div>\n",
       "<style scoped>\n",
       "    .dataframe tbody tr th:only-of-type {\n",
       "        vertical-align: middle;\n",
       "    }\n",
       "\n",
       "    .dataframe tbody tr th {\n",
       "        vertical-align: top;\n",
       "    }\n",
       "\n",
       "    .dataframe thead th {\n",
       "        text-align: right;\n",
       "    }\n",
       "</style>\n",
       "<table border=\"1\" class=\"dataframe\">\n",
       "  <thead>\n",
       "    <tr style=\"text-align: right;\">\n",
       "      <th></th>\n",
       "      <th>person_id</th>\n",
       "      <th>age</th>\n",
       "      <th>sex</th>\n",
       "      <th>marital_status</th>\n",
       "      <th>driving_license</th>\n",
       "      <th>car_availability</th>\n",
       "      <th>employed</th>\n",
       "      <th>highest_education</th>\n",
       "      <th>parking_work</th>\n",
       "      <th>parking_cost_work</th>\n",
       "      <th>...</th>\n",
       "      <th>number_of_bikes</th>\n",
       "      <th>income_class</th>\n",
       "      <th>home_x</th>\n",
       "      <th>home_y</th>\n",
       "      <th>household_size_class</th>\n",
       "      <th>number_of_cars_class</th>\n",
       "      <th>number_of_bikes_class</th>\n",
       "      <th>household_weight</th>\n",
       "      <th>sp_region</th>\n",
       "      <th>canton_id</th>\n",
       "    </tr>\n",
       "  </thead>\n",
       "  <tbody>\n",
       "    <tr>\n",
       "      <th>0</th>\n",
       "      <td>100004</td>\n",
       "      <td>50</td>\n",
       "      <td>1</td>\n",
       "      <td>1.0</td>\n",
       "      <td>True</td>\n",
       "      <td>0</td>\n",
       "      <td>True</td>\n",
       "      <td>secondary</td>\n",
       "      <td>unknown</td>\n",
       "      <td>0.0</td>\n",
       "      <td>...</td>\n",
       "      <td>3</td>\n",
       "      <td>3</td>\n",
       "      <td>2655083.0</td>\n",
       "      <td>1255417.0</td>\n",
       "      <td>2</td>\n",
       "      <td>1</td>\n",
       "      <td>2</td>\n",
       "      <td>0.781952</td>\n",
       "      <td>3</td>\n",
       "      <td>19</td>\n",
       "    </tr>\n",
       "    <tr>\n",
       "      <th>1</th>\n",
       "      <td>100010</td>\n",
       "      <td>8</td>\n",
       "      <td>1</td>\n",
       "      <td>0.0</td>\n",
       "      <td>False</td>\n",
       "      <td>2</td>\n",
       "      <td>False</td>\n",
       "      <td>NaN</td>\n",
       "      <td>unknown</td>\n",
       "      <td>0.0</td>\n",
       "      <td>...</td>\n",
       "      <td>2</td>\n",
       "      <td>-1</td>\n",
       "      <td>2724147.0</td>\n",
       "      <td>1119943.0</td>\n",
       "      <td>1</td>\n",
       "      <td>1</td>\n",
       "      <td>2</td>\n",
       "      <td>0.394216</td>\n",
       "      <td>2</td>\n",
       "      <td>21</td>\n",
       "    </tr>\n",
       "    <tr>\n",
       "      <th>2</th>\n",
       "      <td>100021</td>\n",
       "      <td>68</td>\n",
       "      <td>1</td>\n",
       "      <td>1.0</td>\n",
       "      <td>True</td>\n",
       "      <td>1</td>\n",
       "      <td>False</td>\n",
       "      <td>primary</td>\n",
       "      <td>unknown</td>\n",
       "      <td>0.0</td>\n",
       "      <td>...</td>\n",
       "      <td>2</td>\n",
       "      <td>1</td>\n",
       "      <td>2758533.0</td>\n",
       "      <td>1249882.0</td>\n",
       "      <td>1</td>\n",
       "      <td>1</td>\n",
       "      <td>2</td>\n",
       "      <td>0.548396</td>\n",
       "      <td>3</td>\n",
       "      <td>17</td>\n",
       "    </tr>\n",
       "    <tr>\n",
       "      <th>3</th>\n",
       "      <td>100028</td>\n",
       "      <td>61</td>\n",
       "      <td>1</td>\n",
       "      <td>1.0</td>\n",
       "      <td>True</td>\n",
       "      <td>0</td>\n",
       "      <td>True</td>\n",
       "      <td>tertiary_academic</td>\n",
       "      <td>unknown</td>\n",
       "      <td>0.0</td>\n",
       "      <td>...</td>\n",
       "      <td>4</td>\n",
       "      <td>3</td>\n",
       "      <td>2547342.0</td>\n",
       "      <td>1178977.0</td>\n",
       "      <td>1</td>\n",
       "      <td>2</td>\n",
       "      <td>2</td>\n",
       "      <td>0.930521</td>\n",
       "      <td>2</td>\n",
       "      <td>22</td>\n",
       "    </tr>\n",
       "    <tr>\n",
       "      <th>4</th>\n",
       "      <td>100037</td>\n",
       "      <td>30</td>\n",
       "      <td>1</td>\n",
       "      <td>1.0</td>\n",
       "      <td>False</td>\n",
       "      <td>2</td>\n",
       "      <td>False</td>\n",
       "      <td>primary</td>\n",
       "      <td>unknown</td>\n",
       "      <td>0.0</td>\n",
       "      <td>...</td>\n",
       "      <td>0</td>\n",
       "      <td>2</td>\n",
       "      <td>2501774.0</td>\n",
       "      <td>1116555.0</td>\n",
       "      <td>3</td>\n",
       "      <td>1</td>\n",
       "      <td>0</td>\n",
       "      <td>1.337850</td>\n",
       "      <td>1</td>\n",
       "      <td>25</td>\n",
       "    </tr>\n",
       "    <tr>\n",
       "      <th>...</th>\n",
       "      <td>...</td>\n",
       "      <td>...</td>\n",
       "      <td>...</td>\n",
       "      <td>...</td>\n",
       "      <td>...</td>\n",
       "      <td>...</td>\n",
       "      <td>...</td>\n",
       "      <td>...</td>\n",
       "      <td>...</td>\n",
       "      <td>...</td>\n",
       "      <td>...</td>\n",
       "      <td>...</td>\n",
       "      <td>...</td>\n",
       "      <td>...</td>\n",
       "      <td>...</td>\n",
       "      <td>...</td>\n",
       "      <td>...</td>\n",
       "      <td>...</td>\n",
       "      <td>...</td>\n",
       "      <td>...</td>\n",
       "      <td>...</td>\n",
       "    </tr>\n",
       "    <tr>\n",
       "      <th>57085</th>\n",
       "      <td>499969</td>\n",
       "      <td>15</td>\n",
       "      <td>0</td>\n",
       "      <td>0.0</td>\n",
       "      <td>False</td>\n",
       "      <td>2</td>\n",
       "      <td>False</td>\n",
       "      <td>primary</td>\n",
       "      <td>unknown</td>\n",
       "      <td>0.0</td>\n",
       "      <td>...</td>\n",
       "      <td>2</td>\n",
       "      <td>-1</td>\n",
       "      <td>2499969.0</td>\n",
       "      <td>1116573.0</td>\n",
       "      <td>4</td>\n",
       "      <td>1</td>\n",
       "      <td>1</td>\n",
       "      <td>0.162240</td>\n",
       "      <td>1</td>\n",
       "      <td>25</td>\n",
       "    </tr>\n",
       "    <tr>\n",
       "      <th>57086</th>\n",
       "      <td>499994</td>\n",
       "      <td>10</td>\n",
       "      <td>0</td>\n",
       "      <td>0.0</td>\n",
       "      <td>False</td>\n",
       "      <td>2</td>\n",
       "      <td>False</td>\n",
       "      <td>NaN</td>\n",
       "      <td>unknown</td>\n",
       "      <td>0.0</td>\n",
       "      <td>...</td>\n",
       "      <td>5</td>\n",
       "      <td>-1</td>\n",
       "      <td>2666611.0</td>\n",
       "      <td>1225863.0</td>\n",
       "      <td>4</td>\n",
       "      <td>1</td>\n",
       "      <td>2</td>\n",
       "      <td>0.185661</td>\n",
       "      <td>2</td>\n",
       "      <td>3</td>\n",
       "    </tr>\n",
       "    <tr>\n",
       "      <th>57087</th>\n",
       "      <td>499995</td>\n",
       "      <td>48</td>\n",
       "      <td>0</td>\n",
       "      <td>2.0</td>\n",
       "      <td>True</td>\n",
       "      <td>0</td>\n",
       "      <td>True</td>\n",
       "      <td>tertiary_academic</td>\n",
       "      <td>unknown</td>\n",
       "      <td>0.0</td>\n",
       "      <td>...</td>\n",
       "      <td>0</td>\n",
       "      <td>8</td>\n",
       "      <td>2498130.0</td>\n",
       "      <td>1114995.0</td>\n",
       "      <td>1</td>\n",
       "      <td>1</td>\n",
       "      <td>0</td>\n",
       "      <td>0.616858</td>\n",
       "      <td>1</td>\n",
       "      <td>25</td>\n",
       "    </tr>\n",
       "    <tr>\n",
       "      <th>57088</th>\n",
       "      <td>499996</td>\n",
       "      <td>68</td>\n",
       "      <td>1</td>\n",
       "      <td>2.0</td>\n",
       "      <td>True</td>\n",
       "      <td>0</td>\n",
       "      <td>False</td>\n",
       "      <td>tertiary_academic</td>\n",
       "      <td>unknown</td>\n",
       "      <td>0.0</td>\n",
       "      <td>...</td>\n",
       "      <td>0</td>\n",
       "      <td>2</td>\n",
       "      <td>2685661.0</td>\n",
       "      <td>1248720.0</td>\n",
       "      <td>0</td>\n",
       "      <td>1</td>\n",
       "      <td>0</td>\n",
       "      <td>2.901484</td>\n",
       "      <td>1</td>\n",
       "      <td>1</td>\n",
       "    </tr>\n",
       "    <tr>\n",
       "      <th>57089</th>\n",
       "      <td>499998</td>\n",
       "      <td>63</td>\n",
       "      <td>0</td>\n",
       "      <td>1.0</td>\n",
       "      <td>True</td>\n",
       "      <td>2</td>\n",
       "      <td>False</td>\n",
       "      <td>secondary</td>\n",
       "      <td>unknown</td>\n",
       "      <td>0.0</td>\n",
       "      <td>...</td>\n",
       "      <td>2</td>\n",
       "      <td>1</td>\n",
       "      <td>2697385.0</td>\n",
       "      <td>1260923.0</td>\n",
       "      <td>1</td>\n",
       "      <td>0</td>\n",
       "      <td>2</td>\n",
       "      <td>0.836014</td>\n",
       "      <td>1</td>\n",
       "      <td>1</td>\n",
       "    </tr>\n",
       "  </tbody>\n",
       "</table>\n",
       "<p>57090 rows × 38 columns</p>\n",
       "</div>"
      ],
      "text/plain": [
       "       person_id  age  sex  marital_status  driving_license  car_availability  \\\n",
       "0         100004   50    1             1.0             True                 0   \n",
       "1         100010    8    1             0.0            False                 2   \n",
       "2         100021   68    1             1.0             True                 1   \n",
       "3         100028   61    1             1.0             True                 0   \n",
       "4         100037   30    1             1.0            False                 2   \n",
       "...          ...  ...  ...             ...              ...               ...   \n",
       "57085     499969   15    0             0.0            False                 2   \n",
       "57086     499994   10    0             0.0            False                 2   \n",
       "57087     499995   48    0             2.0             True                 0   \n",
       "57088     499996   68    1             2.0             True                 0   \n",
       "57089     499998   63    0             1.0             True                 2   \n",
       "\n",
       "       employed  highest_education parking_work  parking_cost_work  ...  \\\n",
       "0          True          secondary      unknown                0.0  ...   \n",
       "1         False                NaN      unknown                0.0  ...   \n",
       "2         False            primary      unknown                0.0  ...   \n",
       "3          True  tertiary_academic      unknown                0.0  ...   \n",
       "4         False            primary      unknown                0.0  ...   \n",
       "...         ...                ...          ...                ...  ...   \n",
       "57085     False            primary      unknown                0.0  ...   \n",
       "57086     False                NaN      unknown                0.0  ...   \n",
       "57087      True  tertiary_academic      unknown                0.0  ...   \n",
       "57088     False  tertiary_academic      unknown                0.0  ...   \n",
       "57089     False          secondary      unknown                0.0  ...   \n",
       "\n",
       "      number_of_bikes  income_class     home_x     home_y  \\\n",
       "0                   3             3  2655083.0  1255417.0   \n",
       "1                   2            -1  2724147.0  1119943.0   \n",
       "2                   2             1  2758533.0  1249882.0   \n",
       "3                   4             3  2547342.0  1178977.0   \n",
       "4                   0             2  2501774.0  1116555.0   \n",
       "...               ...           ...        ...        ...   \n",
       "57085               2            -1  2499969.0  1116573.0   \n",
       "57086               5            -1  2666611.0  1225863.0   \n",
       "57087               0             8  2498130.0  1114995.0   \n",
       "57088               0             2  2685661.0  1248720.0   \n",
       "57089               2             1  2697385.0  1260923.0   \n",
       "\n",
       "       household_size_class  number_of_cars_class  number_of_bikes_class  \\\n",
       "0                         2                     1                      2   \n",
       "1                         1                     1                      2   \n",
       "2                         1                     1                      2   \n",
       "3                         1                     2                      2   \n",
       "4                         3                     1                      0   \n",
       "...                     ...                   ...                    ...   \n",
       "57085                     4                     1                      1   \n",
       "57086                     4                     1                      2   \n",
       "57087                     1                     1                      0   \n",
       "57088                     0                     1                      0   \n",
       "57089                     1                     0                      2   \n",
       "\n",
       "       household_weight  sp_region  canton_id  \n",
       "0              0.781952          3         19  \n",
       "1              0.394216          2         21  \n",
       "2              0.548396          3         17  \n",
       "3              0.930521          2         22  \n",
       "4              1.337850          1         25  \n",
       "...                 ...        ...        ...  \n",
       "57085          0.162240          1         25  \n",
       "57086          0.185661          2          3  \n",
       "57087          0.616858          1         25  \n",
       "57088          2.901484          1          1  \n",
       "57089          0.836014          1          1  \n",
       "\n",
       "[57090 rows x 38 columns]"
      ]
     },
     "execution_count": 16,
     "metadata": {},
     "output_type": "execute_result"
    }
   ],
   "source": [
    "df"
   ]
  },
  {
   "cell_type": "markdown",
   "metadata": {},
   "source": [
    "#### Filter Data for Scenario"
   ]
  },
  {
   "cell_type": "code",
   "execution_count": 17,
   "metadata": {},
   "outputs": [],
   "source": [
    "# Load geographic data from a shapefile\n",
    "shapefile_path = os.path.join(data_folder_path, f\"ShapeFiles/{shapeFileName}\")  # please replace with your shapefile path\n",
    "\n",
    "\n",
    "gdf = gpd.read_file(shapefile_path)\n",
    "\n",
    "# Ensure the GeoDataFrame is in the CH1903 coordinate system\n",
    "# If the gdf is not in CH1903, you would convert it like this:\n",
    "# gdf = gdf.to_crs(epsg=21781)  # EPSG 21781 is the code for CH1903/LV03\n",
    "\n",
    "# Get the polygon the area\n",
    "# area_polygon = gdf[gdf['scenario'] == 'zurich_city'].iloc[0]['geometry']\n",
    "area_polygon = gdf.iloc[0]['geometry']\n",
    "\n",
    "\n",
    "# Create Point geometries for home locations\n",
    "df['home_point'] = df.apply(lambda row: Point(row['home_x'], row['home_y']), axis=1)\n",
    "\n",
    "# Convert the DataFrame to a GeoDataFrame\n",
    "gdf_points = gpd.GeoDataFrame(df, geometry='home_point', crs=gdf.crs)\n",
    "\n",
    "# Filter trips where home points are within the Zurich city polygon\n",
    "df = gdf_points[gdf_points['home_point'].within(area_polygon)]\n",
    "df = pd.DataFrame(df.drop(columns='home_point'))\n"
   ]
  },
  {
   "cell_type": "code",
   "execution_count": 18,
   "metadata": {},
   "outputs": [],
   "source": [
    "df.to_csv(data_folder_path + '/microzensus/population.csv')"
   ]
  },
  {
   "cell_type": "markdown",
   "metadata": {},
   "source": [
    "### Plot Data"
   ]
  },
  {
   "cell_type": "code",
   "execution_count": null,
   "metadata": {},
   "outputs": [
    {
     "name": "stdout",
     "output_type": "stream",
     "text": [
      "5.10.4\n"
     ]
    }
   ],
   "source": [
    "# !pip install --upgrade nbformat\n",
    "\n",
    "import nbformat\n",
    "print(nbformat.__version__)\n",
    "\n"
   ]
  },
  {
   "cell_type": "code",
   "execution_count": null,
   "metadata": {},
   "outputs": [
    {
     "data": {
      "application/vnd.plotly.v1+json": {
       "config": {
        "plotlyServerURL": "https://plot.ly"
       },
       "data": [
        {
         "name": "person_id",
         "type": "histogram",
         "x": [
          105664,
          109720,
          109974,
          112906,
          116980,
          117043,
          136531,
          138036,
          139179,
          146087,
          157700,
          158325,
          158899,
          159154,
          164301,
          171721,
          173977,
          175155,
          178866,
          180051,
          183202,
          198224,
          223915,
          228818,
          231217,
          235899,
          247882,
          252938,
          268871,
          270554,
          279637,
          279919,
          280999,
          285516,
          290110,
          296555,
          296610,
          302180,
          304815,
          316366,
          333421,
          342286,
          344864,
          355682,
          356547,
          356560,
          364071,
          366272,
          374905,
          381424,
          400799,
          406094,
          409300,
          409784,
          427198,
          429763,
          432122,
          441338,
          453367,
          458647,
          462594,
          473782,
          478594
         ],
         "xaxis": "x",
         "yaxis": "y"
        },
        {
         "name": "household_size",
         "type": "histogram",
         "x": [
          5,
          2,
          3,
          3,
          2,
          2,
          4,
          2,
          6,
          2,
          1,
          1,
          4,
          1,
          4,
          2,
          4,
          4,
          4,
          2,
          2,
          5,
          4,
          1,
          4,
          4,
          3,
          1,
          4,
          1,
          3,
          1,
          5,
          5,
          2,
          3,
          1,
          2,
          4,
          3,
          5,
          6,
          2,
          1,
          5,
          2,
          3,
          2,
          4,
          2,
          5,
          4,
          1,
          6,
          2,
          2,
          3,
          4,
          4,
          2,
          2,
          5,
          1
         ],
         "xaxis": "x2",
         "yaxis": "y2"
        },
        {
         "name": "number_of_cars",
         "type": "histogram",
         "x": [
          1,
          2,
          3,
          1,
          0,
          3,
          2,
          3,
          1,
          1,
          0,
          1,
          2,
          1,
          2,
          2,
          2,
          2,
          2,
          1,
          2,
          0,
          1,
          0,
          0,
          1,
          0,
          1,
          1,
          1,
          2,
          1,
          1,
          1,
          1,
          1,
          0,
          2,
          3,
          2,
          3,
          1,
          1,
          1,
          2,
          2,
          2,
          1,
          1,
          1,
          2,
          1,
          1,
          0,
          1,
          1,
          1,
          2,
          2,
          1,
          0,
          2,
          0
         ],
         "xaxis": "x3",
         "yaxis": "y3"
        },
        {
         "name": "number_of_bikes",
         "type": "histogram",
         "x": [
          5,
          2,
          3,
          3,
          2,
          2,
          2,
          0,
          8,
          3,
          2,
          1,
          4,
          0,
          2,
          2,
          5,
          3,
          11,
          3,
          2,
          5,
          7,
          1,
          5,
          4,
          3,
          1,
          3,
          0,
          8,
          2,
          5,
          5,
          2,
          3,
          0,
          2,
          4,
          5,
          7,
          1,
          5,
          0,
          5,
          2,
          0,
          2,
          2,
          0,
          9,
          5,
          0,
          6,
          3,
          2,
          0,
          5,
          2,
          2,
          2,
          4,
          1
         ],
         "xaxis": "x4",
         "yaxis": "y4"
        },
        {
         "name": "income_class",
         "type": "histogram",
         "x": [
          -1,
          -1,
          5,
          -1,
          1,
          6,
          3,
          4,
          -1,
          5,
          3,
          1,
          6,
          -1,
          -1,
          8,
          7,
          -1,
          4,
          -1,
          5,
          -1,
          5,
          -1,
          4,
          -1,
          4,
          4,
          4,
          -1,
          2,
          3,
          -1,
          5,
          4,
          -1,
          -1,
          1,
          8,
          3,
          4,
          -1,
          8,
          1,
          6,
          6,
          4,
          2,
          2,
          -1,
          6,
          8,
          3,
          3,
          1,
          3,
          2,
          8,
          3,
          3,
          -1,
          -1,
          3
         ],
         "xaxis": "x5",
         "yaxis": "y5"
        },
        {
         "name": "home_x",
         "type": "histogram",
         "x": [
          2726175,
          2725620,
          2727694,
          2725980,
          2725459,
          2725727,
          2725500,
          2724868,
          2726254,
          2725606,
          2725612,
          2726237,
          2725564,
          2724969,
          2724925,
          2725849,
          2725230,
          2726696,
          2724880,
          2726793,
          2724900,
          2725341,
          2725339,
          2724834,
          2726741,
          2725545,
          2725892,
          2725118,
          2726876,
          2726350,
          2725834,
          2725444,
          2725652,
          2725833,
          2725675,
          2725669,
          2725890,
          2726402,
          2726070,
          2726702,
          2725823,
          2726644,
          2726644,
          2725697,
          2726020,
          2725247,
          2725356,
          2725356,
          2725657,
          2725062,
          2724944,
          2725098,
          2726200,
          2725669,
          2725355,
          2725498,
          2725220,
          2725230,
          2725543,
          2725675,
          2727414,
          2727775,
          2725691
         ],
         "xaxis": "x6",
         "yaxis": "y6"
        },
        {
         "name": "home_y",
         "type": "histogram",
         "x": [
          1269690.999999998,
          1270546.0000000023,
          1270277.999999998,
          1269082,
          1269474.0000000023,
          1268952.0000000014,
          1269255.9999999984,
          1270309.9999999993,
          1269568.0000000005,
          1268966.0000000002,
          1269075.9999999984,
          1269839.999999999,
          1268845.9999999998,
          1270355.9999999963,
          1270374.000000002,
          1269712.9999999956,
          1268967.0000000026,
          1269582.0000000019,
          1270763.999999998,
          1269814.9999999972,
          1270347.0000000037,
          1269393.9999999993,
          1270323.000000002,
          1269643.9999999984,
          1269167.9999999984,
          1269321.0000000007,
          1269997.0000000005,
          1270303.0000000007,
          1269554.000000002,
          1269520.0000000033,
          1269042.9999999984,
          1270377.0000000016,
          1270521.0000000047,
          1270050.9999999974,
          1269964.9999999998,
          1269377.9999999963,
          1270136.0000000012,
          1269384,
          1270026.0000000028,
          1269679.0000000016,
          1269429.000000005,
          1269722,
          1269816.0000000005,
          1269583.9999999986,
          1269068.0000000014,
          1270520.0000000005,
          1268954.9999999986,
          1268905.9999999972,
          1269448.9999999998,
          1270310.0000000007,
          1269761.9999999998,
          1270601.9999999986,
          1269676.9999999986,
          1270237.9999999995,
          1270017.9999999984,
          1269383.9999999986,
          1269469.9999999981,
          1270088.0000000035,
          1268887.999999999,
          1269964.9999999998,
          1270715.0000000005,
          1269926.0000000002,
          1270035.0000000014
         ],
         "xaxis": "x7",
         "yaxis": "y7"
        },
        {
         "name": "household_size_class",
         "type": "histogram",
         "x": [
          4,
          1,
          2,
          2,
          1,
          1,
          3,
          1,
          4,
          1,
          0,
          0,
          3,
          0,
          3,
          1,
          3,
          3,
          3,
          1,
          1,
          4,
          3,
          0,
          3,
          3,
          2,
          0,
          3,
          0,
          2,
          0,
          4,
          4,
          1,
          2,
          0,
          1,
          3,
          2,
          4,
          4,
          1,
          0,
          4,
          1,
          2,
          1,
          3,
          1,
          4,
          3,
          0,
          4,
          1,
          1,
          2,
          3,
          3,
          1,
          1,
          4,
          0
         ],
         "xaxis": "x8",
         "yaxis": "y8"
        },
        {
         "name": "number_of_cars_class",
         "type": "histogram",
         "x": [
          1,
          2,
          3,
          1,
          0,
          3,
          2,
          3,
          1,
          1,
          0,
          1,
          2,
          1,
          2,
          2,
          2,
          2,
          2,
          1,
          2,
          0,
          1,
          0,
          0,
          1,
          0,
          1,
          1,
          1,
          2,
          1,
          1,
          1,
          1,
          1,
          0,
          2,
          3,
          2,
          3,
          1,
          1,
          1,
          2,
          2,
          2,
          1,
          1,
          1,
          2,
          1,
          1,
          0,
          1,
          1,
          1,
          2,
          2,
          1,
          0,
          2,
          0
         ],
         "xaxis": "x9",
         "yaxis": "y9"
        },
        {
         "name": "number_of_bikes_class",
         "type": "histogram",
         "x": [
          2,
          2,
          2,
          2,
          2,
          2,
          1,
          0,
          2,
          2,
          2,
          2,
          2,
          0,
          1,
          2,
          2,
          1,
          2,
          2,
          2,
          2,
          2,
          2,
          2,
          2,
          2,
          2,
          1,
          0,
          2,
          2,
          2,
          2,
          2,
          2,
          0,
          2,
          2,
          2,
          2,
          1,
          2,
          0,
          2,
          2,
          0,
          2,
          1,
          0,
          2,
          2,
          0,
          2,
          2,
          2,
          0,
          2,
          1,
          2,
          2,
          1,
          2
         ],
         "xaxis": "x10",
         "yaxis": "y10"
        },
        {
         "name": "household_weight",
         "type": "histogram",
         "x": [
          0.475477738427961,
          0.557941567473253,
          0.673417414915112,
          0.97124258214568,
          1.5094361813876,
          1.70077329982494,
          1.60369999862724,
          2.40550610847756,
          0.35800643503769,
          0.8162973433485,
          2.01454351435396,
          3.53156792867548,
          0.727824465852609,
          2.61598457595947,
          0.683693292503321,
          1.84020983756297,
          0.51016614416293,
          0.535819978938834,
          0.475477738427961,
          0.904674864936165,
          1.84020983756297,
          1.06931370397978,
          0.538096889797011,
          2.17970425199785,
          0.632775962381411,
          0.511634932953776,
          0.713481250539745,
          3.49852832919128,
          0.815616793517659,
          3.86764016356657,
          0.754675850689574,
          4.95864830355674,
          0.291423352133081,
          0.354981120711684,
          1.14709087081521,
          0.631464571348208,
          4.14425104347263,
          1.04445255019929,
          0.409081707241521,
          0.776993953626144,
          0.442276983737935,
          0.394230595041863,
          2.04175236097017,
          2.07047119564441,
          2.83954422730626,
          0.915135245732684,
          1.54982246121854,
          1.31281818247355,
          0.870205559770347,
          1.79181567943659,
          0.354981120711684,
          0.484563568357907,
          2.17970425199785,
          0.354981120711684,
          1.7096693929429,
          0.952907612427521,
          1.54982246121854,
          1.78455796001843,
          0.795513832342958,
          0.952907612427521,
          0.878993030592946,
          0.491896561642421,
          2.01454351435396
         ],
         "xaxis": "x11",
         "yaxis": "y11"
        },
        {
         "name": "sp_region",
         "type": "histogram",
         "x": [
          3,
          3,
          3,
          3,
          3,
          3,
          3,
          3,
          3,
          3,
          3,
          3,
          3,
          3,
          3,
          3,
          3,
          3,
          3,
          3,
          3,
          3,
          3,
          3,
          3,
          3,
          3,
          3,
          3,
          3,
          3,
          3,
          3,
          3,
          3,
          3,
          3,
          3,
          3,
          3,
          3,
          3,
          3,
          3,
          3,
          3,
          3,
          3,
          3,
          3,
          3,
          3,
          3,
          3,
          3,
          3,
          3,
          3,
          3,
          3,
          3,
          3,
          3
         ],
         "xaxis": "x12",
         "yaxis": "y12"
        },
        {
         "name": "canton_id",
         "type": "histogram",
         "x": [
          20,
          20,
          20,
          20,
          20,
          20,
          20,
          20,
          20,
          20,
          20,
          20,
          20,
          20,
          20,
          20,
          20,
          20,
          20,
          20,
          20,
          20,
          20,
          20,
          20,
          20,
          20,
          20,
          20,
          20,
          20,
          20,
          20,
          20,
          20,
          20,
          20,
          20,
          20,
          20,
          20,
          20,
          20,
          20,
          20,
          20,
          20,
          20,
          20,
          20,
          20,
          20,
          20,
          20,
          20,
          20,
          20,
          20,
          20,
          20,
          20,
          20,
          20
         ],
         "xaxis": "x13",
         "yaxis": "y13"
        },
        {
         "name": "age",
         "type": "histogram",
         "x": [
          22,
          61,
          59,
          46,
          82,
          40,
          41,
          26,
          11,
          61,
          52,
          41,
          36,
          74,
          30,
          35,
          46,
          15,
          25,
          69,
          36,
          7,
          44,
          63,
          22,
          10,
          44,
          43,
          23,
          38,
          53,
          32,
          11,
          41,
          48,
          17,
          88,
          70,
          20,
          49,
          18,
          13,
          30,
          85,
          46,
          72,
          59,
          28,
          35,
          89,
          38,
          48,
          61,
          37,
          81,
          73,
          52,
          20,
          41,
          80,
          22,
          14,
          51
         ],
         "xaxis": "x14",
         "yaxis": "y14"
        },
        {
         "name": "sex",
         "type": "histogram",
         "x": [
          0,
          0,
          1,
          1,
          0,
          0,
          0,
          1,
          0,
          0,
          1,
          0,
          0,
          0,
          1,
          1,
          1,
          0,
          0,
          0,
          1,
          0,
          1,
          1,
          1,
          0,
          0,
          1,
          0,
          1,
          1,
          0,
          1,
          0,
          1,
          1,
          1,
          1,
          0,
          0,
          1,
          1,
          1,
          1,
          0,
          0,
          0,
          0,
          1,
          1,
          0,
          1,
          1,
          0,
          1,
          1,
          0,
          0,
          1,
          1,
          1,
          0,
          1
         ],
         "xaxis": "x15",
         "yaxis": "y15"
        },
        {
         "name": "marital_status",
         "type": "histogram",
         "x": [
          0,
          1,
          1,
          2,
          1,
          0,
          1,
          0,
          0,
          1,
          0,
          0,
          1,
          2,
          1,
          0,
          1,
          0,
          0,
          1,
          0,
          0,
          1,
          2,
          0,
          0,
          1,
          0,
          0,
          0,
          1,
          0,
          0,
          1,
          1,
          0,
          2,
          2,
          0,
          1,
          0,
          0,
          0,
          2,
          2,
          1,
          1,
          1,
          1,
          2,
          1,
          1,
          2,
          1,
          1,
          1,
          1,
          0,
          1,
          1,
          0,
          0,
          0
         ],
         "xaxis": "x16",
         "yaxis": "y16"
        },
        {
         "name": "driving_license",
         "type": "histogram",
         "x": [
          false,
          true,
          true,
          true,
          false,
          true,
          true,
          true,
          false,
          true,
          false,
          true,
          true,
          true,
          true,
          true,
          true,
          false,
          true,
          true,
          true,
          false,
          true,
          false,
          false,
          false,
          true,
          true,
          true,
          true,
          true,
          true,
          false,
          true,
          true,
          false,
          false,
          true,
          true,
          true,
          false,
          false,
          true,
          true,
          true,
          true,
          false,
          true,
          true,
          false,
          true,
          true,
          true,
          true,
          false,
          true,
          false,
          true,
          true,
          false,
          true,
          false,
          true
         ],
         "xaxis": "x17",
         "yaxis": "y17"
        },
        {
         "name": "car_availability",
         "type": "histogram",
         "x": [
          2,
          0,
          0,
          0,
          2,
          0,
          1,
          0,
          2,
          1,
          2,
          0,
          0,
          0,
          0,
          0,
          0,
          2,
          1,
          0,
          0,
          2,
          0,
          2,
          2,
          2,
          0,
          0,
          1,
          0,
          0,
          0,
          2,
          0,
          0,
          2,
          2,
          0,
          0,
          0,
          1,
          2,
          1,
          0,
          0,
          0,
          2,
          0,
          0,
          2,
          0,
          0,
          0,
          1,
          2,
          0,
          2,
          1,
          0,
          2,
          1,
          2,
          1
         ],
         "xaxis": "x18",
         "yaxis": "y18"
        },
        {
         "name": "employed",
         "type": "histogram",
         "x": [
          false,
          true,
          true,
          true,
          false,
          true,
          true,
          true,
          false,
          true,
          true,
          true,
          true,
          true,
          true,
          true,
          true,
          false,
          false,
          false,
          true,
          false,
          true,
          true,
          true,
          false,
          true,
          true,
          true,
          true,
          true,
          true,
          false,
          true,
          true,
          true,
          false,
          false,
          true,
          true,
          true,
          false,
          true,
          false,
          true,
          true,
          false,
          true,
          true,
          false,
          true,
          true,
          true,
          true,
          false,
          false,
          true,
          true,
          true,
          false,
          false,
          false,
          true
         ],
         "xaxis": "x19",
         "yaxis": "y19"
        },
        {
         "name": "highest_education",
         "type": "histogram",
         "x": [
          "secondary",
          "secondary",
          "secondary",
          "tertiary_academic",
          "primary",
          "tertiary_professional",
          "primary",
          "tertiary_professional",
          null,
          "secondary",
          "secondary",
          "secondary",
          "tertiary_academic",
          "secondary",
          "secondary",
          "tertiary_academic",
          "tertiary_professional",
          "primary",
          "tertiary_academic",
          "secondary",
          "secondary",
          null,
          "tertiary_professional",
          "secondary",
          "secondary",
          null,
          "secondary",
          "tertiary_academic",
          "secondary",
          "tertiary_professional",
          "secondary",
          "tertiary_professional",
          null,
          "secondary",
          "secondary",
          "primary",
          "secondary",
          "primary",
          "primary",
          "secondary",
          "secondary",
          null,
          "tertiary_academic",
          "primary",
          "secondary",
          "primary",
          "primary",
          "secondary",
          "secondary",
          "tertiary_professional",
          "tertiary_academic",
          "tertiary_professional",
          "secondary",
          "tertiary_professional",
          "primary",
          "secondary",
          "primary",
          "secondary",
          "tertiary_professional",
          "secondary",
          "secondary",
          null,
          "tertiary_professional"
         ],
         "xaxis": "x20",
         "yaxis": "y20"
        },
        {
         "name": "parking_work",
         "type": "histogram",
         "x": [
          "unknown",
          "unknown",
          "unknown",
          "unknown",
          "unknown",
          "paid",
          "unknown",
          "free",
          "unknown",
          "unknown",
          "no",
          "unknown",
          "paid",
          "unknown",
          "free",
          "unknown",
          "unknown",
          "unknown",
          "unknown",
          "unknown",
          "no",
          "unknown",
          "unknown",
          "no",
          "unknown",
          "unknown",
          "unknown",
          "unknown",
          "free",
          "unknown",
          "free",
          "unknown",
          "unknown",
          "unknown",
          "unknown",
          "unknown",
          "unknown",
          "unknown",
          "free",
          "unknown",
          "unknown",
          "unknown",
          "unknown",
          "unknown",
          "unknown",
          "free",
          "unknown",
          "unknown",
          "unknown",
          "unknown",
          "unknown",
          "no",
          "unknown",
          "unknown",
          "unknown",
          "unknown",
          "unknown",
          "unknown",
          "unknown",
          "unknown",
          "unknown",
          "unknown",
          "free"
         ],
         "xaxis": "x21",
         "yaxis": "y21"
        },
        {
         "name": "parking_cost_work",
         "type": "histogram",
         "x": [
          0,
          0,
          0,
          0,
          0,
          40,
          0,
          0,
          0,
          0,
          0,
          0,
          60,
          0,
          0,
          0,
          0,
          0,
          0,
          0,
          0,
          0,
          0,
          0,
          0,
          0,
          0,
          0,
          0,
          0,
          0,
          0,
          0,
          0,
          0,
          0,
          0,
          0,
          0,
          0,
          0,
          0,
          0,
          0,
          0,
          0,
          0,
          0,
          0,
          0,
          0,
          0,
          0,
          0,
          0,
          0,
          0,
          0,
          0,
          0,
          0,
          0,
          0
         ],
         "xaxis": "x22",
         "yaxis": "y22"
        },
        {
         "name": "parking_education",
         "type": "histogram",
         "x": [
          "no",
          "unknown",
          "unknown",
          "unknown",
          "unknown",
          "unknown",
          "unknown",
          "unknown",
          "unknown",
          "unknown",
          "unknown",
          "unknown",
          "unknown",
          "unknown",
          "unknown",
          "unknown",
          "unknown",
          "unknown",
          "unknown",
          "unknown",
          "unknown",
          "unknown",
          "unknown",
          "unknown",
          "unknown",
          "unknown",
          "unknown",
          "unknown",
          "unknown",
          "unknown",
          "unknown",
          "unknown",
          "unknown",
          "unknown",
          "unknown",
          "unknown",
          "unknown",
          "unknown",
          "unknown",
          "unknown",
          "unknown",
          "unknown",
          "unknown",
          "unknown",
          "unknown",
          "unknown",
          "unknown",
          "unknown",
          "unknown",
          "unknown",
          "unknown",
          "unknown",
          "unknown",
          "unknown",
          "unknown",
          "unknown",
          "unknown",
          "unknown",
          "unknown",
          "unknown",
          "unknown",
          "unknown",
          "unknown"
         ],
         "xaxis": "x23",
         "yaxis": "y23"
        },
        {
         "name": "parking_cost_education",
         "type": "histogram",
         "x": [
          0,
          0,
          0,
          0,
          0,
          0,
          0,
          0,
          0,
          0,
          0,
          0,
          0,
          0,
          0,
          0,
          0,
          0,
          0,
          0,
          0,
          0,
          0,
          0,
          0,
          0,
          0,
          0,
          0,
          0,
          0,
          0,
          0,
          0,
          0,
          0,
          0,
          0,
          0,
          0,
          0,
          0,
          0,
          0,
          0,
          0,
          0,
          0,
          0,
          0,
          0,
          0,
          0,
          0,
          0,
          0,
          0,
          0,
          0,
          0,
          0,
          0,
          0
         ],
         "xaxis": "x24",
         "yaxis": "y24"
        },
        {
         "name": "subscriptions_ga",
         "type": "histogram",
         "x": [
          true,
          false,
          false,
          true,
          false,
          false,
          false,
          false,
          false,
          false,
          true,
          false,
          false,
          false,
          false,
          false,
          false,
          false,
          false,
          false,
          false,
          false,
          false,
          false,
          false,
          true,
          true,
          false,
          true,
          false,
          false,
          false,
          false,
          false,
          false,
          false,
          true,
          false,
          false,
          false,
          false,
          false,
          false,
          false,
          false,
          false,
          false,
          true,
          false,
          false,
          false,
          false,
          false,
          false,
          false,
          false,
          false,
          true,
          false,
          true,
          true,
          false,
          false
         ],
         "xaxis": "x25",
         "yaxis": "y25"
        },
        {
         "name": "subscriptions_halbtax",
         "type": "histogram",
         "x": [
          false,
          false,
          true,
          false,
          false,
          true,
          false,
          false,
          false,
          true,
          false,
          false,
          false,
          false,
          true,
          true,
          false,
          false,
          true,
          true,
          true,
          false,
          true,
          true,
          true,
          false,
          false,
          true,
          false,
          false,
          false,
          true,
          false,
          true,
          false,
          true,
          false,
          true,
          false,
          false,
          true,
          false,
          false,
          false,
          true,
          true,
          false,
          false,
          false,
          false,
          true,
          true,
          false,
          true,
          true,
          true,
          false,
          false,
          true,
          false,
          false,
          false,
          true
         ],
         "xaxis": "x26",
         "yaxis": "y26"
        },
        {
         "name": "subscriptions_verbund",
         "type": "histogram",
         "x": [
          false,
          false,
          false,
          false,
          false,
          true,
          false,
          false,
          false,
          false,
          false,
          false,
          false,
          false,
          false,
          false,
          false,
          true,
          false,
          false,
          false,
          false,
          false,
          false,
          false,
          false,
          false,
          false,
          false,
          false,
          false,
          false,
          false,
          false,
          false,
          false,
          false,
          false,
          false,
          false,
          true,
          false,
          true,
          false,
          true,
          false,
          false,
          false,
          false,
          false,
          false,
          false,
          false,
          false,
          false,
          false,
          false,
          false,
          false,
          false,
          false,
          false,
          false
         ],
         "xaxis": "x27",
         "yaxis": "y27"
        },
        {
         "name": "subscriptions_strecke",
         "type": "histogram",
         "x": [
          false,
          false,
          false,
          false,
          false,
          false,
          false,
          false,
          false,
          false,
          false,
          false,
          false,
          false,
          false,
          false,
          false,
          false,
          false,
          false,
          false,
          false,
          true,
          false,
          false,
          false,
          false,
          false,
          false,
          false,
          false,
          false,
          false,
          false,
          false,
          true,
          false,
          false,
          false,
          false,
          true,
          false,
          false,
          false,
          false,
          false,
          false,
          false,
          false,
          false,
          false,
          false,
          false,
          false,
          false,
          false,
          false,
          false,
          false,
          false,
          false,
          true,
          false
         ],
         "xaxis": "x28",
         "yaxis": "y28"
        },
        {
         "name": "subscriptions_gleis7",
         "type": "histogram",
         "x": [
          false,
          false,
          false,
          false,
          false,
          false,
          false,
          false,
          false,
          false,
          false,
          false,
          false,
          false,
          false,
          false,
          false,
          false,
          true,
          false,
          false,
          false,
          false,
          false,
          true,
          false,
          false,
          false,
          false,
          false,
          false,
          false,
          false,
          false,
          false,
          false,
          false,
          false,
          false,
          false,
          true,
          false,
          false,
          false,
          false,
          false,
          false,
          false,
          false,
          false,
          false,
          false,
          false,
          false,
          false,
          false,
          false,
          false,
          false,
          false,
          false,
          false,
          false
         ],
         "xaxis": "x29",
         "yaxis": "y29"
        },
        {
         "name": "subscriptions_junior",
         "type": "histogram",
         "x": [
          false,
          false,
          false,
          false,
          false,
          false,
          false,
          false,
          true,
          false,
          false,
          false,
          false,
          false,
          false,
          false,
          false,
          false,
          false,
          false,
          false,
          false,
          true,
          false,
          false,
          false,
          false,
          false,
          false,
          false,
          false,
          false,
          true,
          true,
          false,
          false,
          false,
          false,
          false,
          false,
          false,
          false,
          false,
          false,
          false,
          false,
          false,
          false,
          false,
          false,
          false,
          false,
          false,
          true,
          false,
          false,
          false,
          false,
          false,
          false,
          false,
          false,
          false
         ],
         "xaxis": "x30",
         "yaxis": "y30"
        },
        {
         "name": "subscriptions_other",
         "type": "histogram",
         "x": [
          false,
          false,
          false,
          false,
          false,
          false,
          false,
          false,
          false,
          false,
          false,
          false,
          false,
          false,
          false,
          false,
          false,
          false,
          false,
          false,
          false,
          false,
          false,
          false,
          false,
          false,
          false,
          false,
          false,
          false,
          false,
          false,
          false,
          false,
          false,
          false,
          false,
          false,
          false,
          false,
          false,
          false,
          false,
          false,
          false,
          false,
          false,
          false,
          false,
          false,
          false,
          false,
          false,
          false,
          false,
          false,
          false,
          false,
          false,
          false,
          false,
          false,
          false
         ],
         "xaxis": "x31",
         "yaxis": "y31"
        },
        {
         "name": "subscriptions_ga_class",
         "type": "histogram",
         "x": [
          false,
          false,
          false,
          false,
          false,
          false,
          false,
          false,
          false,
          false,
          false,
          false,
          false,
          false,
          false,
          false,
          false,
          false,
          false,
          false,
          false,
          false,
          false,
          false,
          false,
          false,
          false,
          false,
          false,
          false,
          false,
          false,
          false,
          false,
          false,
          false,
          false,
          false,
          false,
          false,
          false,
          false,
          false,
          false,
          false,
          false,
          false,
          false,
          false,
          false,
          false,
          false,
          false,
          false,
          false,
          false,
          false,
          false,
          false,
          false,
          false,
          false,
          false
         ],
         "xaxis": "x32",
         "yaxis": "y32"
        },
        {
         "name": "subscriptions_verbund_class",
         "type": "histogram",
         "x": [
          false,
          false,
          false,
          false,
          false,
          false,
          false,
          false,
          false,
          false,
          false,
          false,
          false,
          false,
          false,
          false,
          false,
          false,
          false,
          false,
          false,
          false,
          false,
          false,
          false,
          false,
          false,
          false,
          false,
          false,
          false,
          false,
          false,
          false,
          false,
          false,
          false,
          false,
          false,
          false,
          false,
          false,
          false,
          false,
          false,
          false,
          false,
          false,
          false,
          false,
          false,
          false,
          false,
          false,
          false,
          false,
          false,
          false,
          false,
          false,
          false,
          false,
          false
         ],
         "xaxis": "x33",
         "yaxis": "y33"
        },
        {
         "name": "subscriptions_strecke_class",
         "type": "histogram",
         "x": [
          false,
          false,
          false,
          false,
          false,
          false,
          false,
          false,
          false,
          false,
          false,
          false,
          false,
          false,
          false,
          false,
          false,
          false,
          false,
          false,
          false,
          false,
          false,
          false,
          false,
          false,
          false,
          false,
          false,
          false,
          false,
          false,
          false,
          false,
          false,
          false,
          false,
          false,
          false,
          false,
          false,
          false,
          false,
          false,
          false,
          false,
          false,
          false,
          false,
          false,
          false,
          false,
          false,
          false,
          false,
          false,
          false,
          false,
          false,
          false,
          false,
          false,
          false
         ],
         "xaxis": "x34",
         "yaxis": "y34"
        },
        {
         "name": "age_class",
         "type": "histogram",
         "x": [
          3,
          6,
          6,
          6,
          8,
          5,
          5,
          4,
          1,
          6,
          6,
          5,
          5,
          7,
          5,
          5,
          6,
          2,
          4,
          7,
          5,
          1,
          5,
          6,
          3,
          1,
          5,
          5,
          3,
          5,
          6,
          5,
          1,
          5,
          6,
          2,
          8,
          7,
          3,
          6,
          3,
          1,
          5,
          8,
          6,
          7,
          6,
          4,
          5,
          8,
          5,
          6,
          6,
          5,
          8,
          7,
          6,
          3,
          5,
          8,
          3,
          1,
          6
         ],
         "xaxis": "x35",
         "yaxis": "y35"
        },
        {
         "name": "person_weight",
         "type": "histogram",
         "x": [
          0.981541982973287,
          0.819999514076775,
          0.890608103843751,
          1.39958820767957,
          1.12138168247467,
          1.13236746006662,
          3.10443163800495,
          1.93846242547997,
          0.720104469641893,
          0.807397006089663,
          1.03497257775939,
          1.36627679323939,
          1.05331309539269,
          1.35137441969626,
          1.66517960022131,
          1.51469929859499,
          0.938085659918316,
          1.16241698548658,
          0.925123574233,
          0.742950260168436,
          1.48563681753188,
          2.77792699380964,
          0.859024779515687,
          0.899535897202227,
          1.32699577778904,
          0.671594481281899,
          0.788583026802593,
          1.35679563587164,
          1.76494524871257,
          2.03310125633069,
          1.03591639217454,
          2.42029418654483,
          0.745132117815101,
          1.10683330227189,
          1.00155784845495,
          1.0773580285974,
          1.92991678507396,
          1.27639490063489,
          0.9644074456628,
          1.2263802230842,
          0.887403289903837,
          1.05984296824238,
          2.43480521810663,
          1.97802146646782,
          1.14892230678201,
          0.774154438046678,
          1.88309983957443,
          1.08364441088005,
          2.03870116148398,
          1.56479944449202,
          0.885271185800458,
          0.810252626969161,
          0.979771635148349,
          0.910456701398474,
          1.22350917205446,
          0.919150080826735,
          1.83578951175194,
          2.14658975364258,
          1.13125844328357,
          0.827994665030199,
          1.34461514871652,
          0.859341659691092,
          0.932330628820203
         ],
         "xaxis": "x36",
         "yaxis": "y36"
        },
        {
         "name": "weekend",
         "type": "histogram",
         "x": [
          false,
          false,
          true,
          false,
          false,
          true,
          false,
          true,
          true,
          true,
          false,
          true,
          false,
          true,
          false,
          false,
          false,
          false,
          true,
          false,
          false,
          false,
          true,
          false,
          true,
          true,
          false,
          true,
          true,
          true,
          false,
          false,
          false,
          true,
          false,
          true,
          false,
          false,
          true,
          false,
          false,
          false,
          false,
          false,
          true,
          true,
          true,
          false,
          false,
          true,
          false,
          true,
          false,
          false,
          true,
          false,
          true,
          false,
          false,
          false,
          false,
          false,
          false
         ],
         "xaxis": "x37",
         "yaxis": "y37"
        },
        {
         "name": "date",
         "type": "histogram",
         "x": [
          "2015-02-17T00:00:00",
          "2015-02-24T00:00:00",
          "2015-03-22T00:00:00",
          "2015-03-26T00:00:00",
          "2015-02-09T00:00:00",
          "2015-03-02T00:00:00",
          "2015-03-20T00:00:00",
          "2015-02-02T00:00:00",
          "2015-04-12T00:00:00",
          "2015-04-26T00:00:00",
          "2015-02-18T00:00:00",
          "2015-02-01T00:00:00",
          "2015-04-16T00:00:00",
          "2015-02-26T00:00:00",
          "2015-03-11T00:00:00",
          "2015-04-17T00:00:00",
          "2015-04-29T00:00:00",
          "2015-02-19T00:00:00",
          "2015-04-04T00:00:00",
          "2015-02-23T00:00:00",
          "2015-04-02T00:00:00",
          "2015-02-26T00:00:00",
          "2015-07-12T00:00:00",
          "2015-06-29T00:00:00",
          "2015-07-04T00:00:00",
          "2015-05-24T00:00:00",
          "2015-05-25T00:00:00",
          "2015-07-12T00:00:00",
          "2015-07-25T00:00:00",
          "2015-06-11T00:00:00",
          "2015-05-27T00:00:00",
          "2015-07-09T00:00:00",
          "2015-06-08T00:00:00",
          "2015-07-11T00:00:00",
          "2015-05-26T00:00:00",
          "2015-05-09T00:00:00",
          "2015-06-17T00:00:00",
          "2015-09-18T00:00:00",
          "2015-10-04T00:00:00",
          "2015-07-29T00:00:00",
          "2015-09-16T00:00:00",
          "2015-09-01T00:00:00",
          "2015-09-10T00:00:00",
          "2015-09-23T00:00:00",
          "2015-10-11T00:00:00",
          "2015-10-11T00:00:00",
          "2015-08-09T00:00:00",
          "2015-09-22T00:00:00",
          "2015-09-08T00:00:00",
          "2015-09-03T00:00:00",
          "2015-10-27T00:00:00",
          "2015-10-30T00:00:00",
          "2015-11-03T00:00:00",
          "2015-11-04T00:00:00",
          "2015-11-15T00:00:00",
          "2015-11-18T00:00:00",
          "2015-12-06T00:00:00",
          "2015-11-29T00:00:00",
          "2015-12-10T00:00:00",
          "2015-12-15T00:00:00",
          "2015-12-17T00:00:00",
          "2015-12-25T00:00:00",
          "2015-12-29T00:00:00"
         ],
         "xaxis": "x38",
         "yaxis": "y38"
        }
       ],
       "layout": {
        "annotations": [
         {
          "font": {
           "size": 16
          },
          "showarrow": false,
          "text": "person_id",
          "x": 0.14444444444444446,
          "xanchor": "center",
          "xref": "paper",
          "y": 1,
          "yanchor": "bottom",
          "yref": "paper"
         },
         {
          "font": {
           "size": 16
          },
          "showarrow": false,
          "text": "household_size",
          "x": 0.5,
          "xanchor": "center",
          "xref": "paper",
          "y": 1,
          "yanchor": "bottom",
          "yref": "paper"
         },
         {
          "font": {
           "size": 16
          },
          "showarrow": false,
          "text": "number_of_cars",
          "x": 0.8555555555555556,
          "xanchor": "center",
          "xref": "paper",
          "y": 1,
          "yanchor": "bottom",
          "yref": "paper"
         },
         {
          "font": {
           "size": 16
          },
          "showarrow": false,
          "text": "number_of_bikes",
          "x": 0.14444444444444446,
          "xanchor": "center",
          "xref": "paper",
          "y": 0.9201183431952662,
          "yanchor": "bottom",
          "yref": "paper"
         },
         {
          "font": {
           "size": 16
          },
          "showarrow": false,
          "text": "income_class",
          "x": 0.5,
          "xanchor": "center",
          "xref": "paper",
          "y": 0.9201183431952662,
          "yanchor": "bottom",
          "yref": "paper"
         },
         {
          "font": {
           "size": 16
          },
          "showarrow": false,
          "text": "home_x",
          "x": 0.8555555555555556,
          "xanchor": "center",
          "xref": "paper",
          "y": 0.9201183431952662,
          "yanchor": "bottom",
          "yref": "paper"
         },
         {
          "font": {
           "size": 16
          },
          "showarrow": false,
          "text": "home_y",
          "x": 0.14444444444444446,
          "xanchor": "center",
          "xref": "paper",
          "y": 0.8402366863905325,
          "yanchor": "bottom",
          "yref": "paper"
         },
         {
          "font": {
           "size": 16
          },
          "showarrow": false,
          "text": "household_size_class",
          "x": 0.5,
          "xanchor": "center",
          "xref": "paper",
          "y": 0.8402366863905325,
          "yanchor": "bottom",
          "yref": "paper"
         },
         {
          "font": {
           "size": 16
          },
          "showarrow": false,
          "text": "number_of_cars_class",
          "x": 0.8555555555555556,
          "xanchor": "center",
          "xref": "paper",
          "y": 0.8402366863905325,
          "yanchor": "bottom",
          "yref": "paper"
         },
         {
          "font": {
           "size": 16
          },
          "showarrow": false,
          "text": "number_of_bikes_class",
          "x": 0.14444444444444446,
          "xanchor": "center",
          "xref": "paper",
          "y": 0.7603550295857988,
          "yanchor": "bottom",
          "yref": "paper"
         },
         {
          "font": {
           "size": 16
          },
          "showarrow": false,
          "text": "household_weight",
          "x": 0.5,
          "xanchor": "center",
          "xref": "paper",
          "y": 0.7603550295857988,
          "yanchor": "bottom",
          "yref": "paper"
         },
         {
          "font": {
           "size": 16
          },
          "showarrow": false,
          "text": "sp_region",
          "x": 0.8555555555555556,
          "xanchor": "center",
          "xref": "paper",
          "y": 0.7603550295857988,
          "yanchor": "bottom",
          "yref": "paper"
         },
         {
          "font": {
           "size": 16
          },
          "showarrow": false,
          "text": "canton_id",
          "x": 0.14444444444444446,
          "xanchor": "center",
          "xref": "paper",
          "y": 0.680473372781065,
          "yanchor": "bottom",
          "yref": "paper"
         },
         {
          "font": {
           "size": 16
          },
          "showarrow": false,
          "text": "age",
          "x": 0.5,
          "xanchor": "center",
          "xref": "paper",
          "y": 0.680473372781065,
          "yanchor": "bottom",
          "yref": "paper"
         },
         {
          "font": {
           "size": 16
          },
          "showarrow": false,
          "text": "sex",
          "x": 0.8555555555555556,
          "xanchor": "center",
          "xref": "paper",
          "y": 0.680473372781065,
          "yanchor": "bottom",
          "yref": "paper"
         },
         {
          "font": {
           "size": 16
          },
          "showarrow": false,
          "text": "marital_status",
          "x": 0.14444444444444446,
          "xanchor": "center",
          "xref": "paper",
          "y": 0.6005917159763314,
          "yanchor": "bottom",
          "yref": "paper"
         },
         {
          "font": {
           "size": 16
          },
          "showarrow": false,
          "text": "driving_license",
          "x": 0.5,
          "xanchor": "center",
          "xref": "paper",
          "y": 0.6005917159763314,
          "yanchor": "bottom",
          "yref": "paper"
         },
         {
          "font": {
           "size": 16
          },
          "showarrow": false,
          "text": "car_availability",
          "x": 0.8555555555555556,
          "xanchor": "center",
          "xref": "paper",
          "y": 0.6005917159763314,
          "yanchor": "bottom",
          "yref": "paper"
         },
         {
          "font": {
           "size": 16
          },
          "showarrow": false,
          "text": "employed",
          "x": 0.14444444444444446,
          "xanchor": "center",
          "xref": "paper",
          "y": 0.5207100591715976,
          "yanchor": "bottom",
          "yref": "paper"
         },
         {
          "font": {
           "size": 16
          },
          "showarrow": false,
          "text": "highest_education",
          "x": 0.5,
          "xanchor": "center",
          "xref": "paper",
          "y": 0.5207100591715976,
          "yanchor": "bottom",
          "yref": "paper"
         },
         {
          "font": {
           "size": 16
          },
          "showarrow": false,
          "text": "parking_work",
          "x": 0.8555555555555556,
          "xanchor": "center",
          "xref": "paper",
          "y": 0.5207100591715976,
          "yanchor": "bottom",
          "yref": "paper"
         },
         {
          "font": {
           "size": 16
          },
          "showarrow": false,
          "text": "parking_cost_work",
          "x": 0.14444444444444446,
          "xanchor": "center",
          "xref": "paper",
          "y": 0.4408284023668639,
          "yanchor": "bottom",
          "yref": "paper"
         },
         {
          "font": {
           "size": 16
          },
          "showarrow": false,
          "text": "parking_education",
          "x": 0.5,
          "xanchor": "center",
          "xref": "paper",
          "y": 0.4408284023668639,
          "yanchor": "bottom",
          "yref": "paper"
         },
         {
          "font": {
           "size": 16
          },
          "showarrow": false,
          "text": "parking_cost_education",
          "x": 0.8555555555555556,
          "xanchor": "center",
          "xref": "paper",
          "y": 0.4408284023668639,
          "yanchor": "bottom",
          "yref": "paper"
         },
         {
          "font": {
           "size": 16
          },
          "showarrow": false,
          "text": "subscriptions_ga",
          "x": 0.14444444444444446,
          "xanchor": "center",
          "xref": "paper",
          "y": 0.36094674556213013,
          "yanchor": "bottom",
          "yref": "paper"
         },
         {
          "font": {
           "size": 16
          },
          "showarrow": false,
          "text": "subscriptions_halbtax",
          "x": 0.5,
          "xanchor": "center",
          "xref": "paper",
          "y": 0.36094674556213013,
          "yanchor": "bottom",
          "yref": "paper"
         },
         {
          "font": {
           "size": 16
          },
          "showarrow": false,
          "text": "subscriptions_verbund",
          "x": 0.8555555555555556,
          "xanchor": "center",
          "xref": "paper",
          "y": 0.36094674556213013,
          "yanchor": "bottom",
          "yref": "paper"
         },
         {
          "font": {
           "size": 16
          },
          "showarrow": false,
          "text": "subscriptions_strecke",
          "x": 0.14444444444444446,
          "xanchor": "center",
          "xref": "paper",
          "y": 0.28106508875739644,
          "yanchor": "bottom",
          "yref": "paper"
         },
         {
          "font": {
           "size": 16
          },
          "showarrow": false,
          "text": "subscriptions_gleis7",
          "x": 0.5,
          "xanchor": "center",
          "xref": "paper",
          "y": 0.28106508875739644,
          "yanchor": "bottom",
          "yref": "paper"
         },
         {
          "font": {
           "size": 16
          },
          "showarrow": false,
          "text": "subscriptions_junior",
          "x": 0.8555555555555556,
          "xanchor": "center",
          "xref": "paper",
          "y": 0.28106508875739644,
          "yanchor": "bottom",
          "yref": "paper"
         },
         {
          "font": {
           "size": 16
          },
          "showarrow": false,
          "text": "subscriptions_other",
          "x": 0.14444444444444446,
          "xanchor": "center",
          "xref": "paper",
          "y": 0.2011834319526627,
          "yanchor": "bottom",
          "yref": "paper"
         },
         {
          "font": {
           "size": 16
          },
          "showarrow": false,
          "text": "subscriptions_ga_class",
          "x": 0.5,
          "xanchor": "center",
          "xref": "paper",
          "y": 0.2011834319526627,
          "yanchor": "bottom",
          "yref": "paper"
         },
         {
          "font": {
           "size": 16
          },
          "showarrow": false,
          "text": "subscriptions_verbund_class",
          "x": 0.8555555555555556,
          "xanchor": "center",
          "xref": "paper",
          "y": 0.2011834319526627,
          "yanchor": "bottom",
          "yref": "paper"
         },
         {
          "font": {
           "size": 16
          },
          "showarrow": false,
          "text": "subscriptions_strecke_class",
          "x": 0.14444444444444446,
          "xanchor": "center",
          "xref": "paper",
          "y": 0.12130177514792898,
          "yanchor": "bottom",
          "yref": "paper"
         },
         {
          "font": {
           "size": 16
          },
          "showarrow": false,
          "text": "age_class",
          "x": 0.5,
          "xanchor": "center",
          "xref": "paper",
          "y": 0.12130177514792898,
          "yanchor": "bottom",
          "yref": "paper"
         },
         {
          "font": {
           "size": 16
          },
          "showarrow": false,
          "text": "person_weight",
          "x": 0.8555555555555556,
          "xanchor": "center",
          "xref": "paper",
          "y": 0.12130177514792898,
          "yanchor": "bottom",
          "yref": "paper"
         },
         {
          "font": {
           "size": 16
          },
          "showarrow": false,
          "text": "weekend",
          "x": 0.14444444444444446,
          "xanchor": "center",
          "xref": "paper",
          "y": 0.04142011834319526,
          "yanchor": "bottom",
          "yref": "paper"
         },
         {
          "font": {
           "size": 16
          },
          "showarrow": false,
          "text": "date",
          "x": 0.5,
          "xanchor": "center",
          "xref": "paper",
          "y": 0.04142011834319526,
          "yanchor": "bottom",
          "yref": "paper"
         }
        ],
        "height": 3900,
        "template": {
         "data": {
          "bar": [
           {
            "error_x": {
             "color": "#2a3f5f"
            },
            "error_y": {
             "color": "#2a3f5f"
            },
            "marker": {
             "line": {
              "color": "#E5ECF6",
              "width": 0.5
             },
             "pattern": {
              "fillmode": "overlay",
              "size": 10,
              "solidity": 0.2
             }
            },
            "type": "bar"
           }
          ],
          "barpolar": [
           {
            "marker": {
             "line": {
              "color": "#E5ECF6",
              "width": 0.5
             },
             "pattern": {
              "fillmode": "overlay",
              "size": 10,
              "solidity": 0.2
             }
            },
            "type": "barpolar"
           }
          ],
          "carpet": [
           {
            "aaxis": {
             "endlinecolor": "#2a3f5f",
             "gridcolor": "white",
             "linecolor": "white",
             "minorgridcolor": "white",
             "startlinecolor": "#2a3f5f"
            },
            "baxis": {
             "endlinecolor": "#2a3f5f",
             "gridcolor": "white",
             "linecolor": "white",
             "minorgridcolor": "white",
             "startlinecolor": "#2a3f5f"
            },
            "type": "carpet"
           }
          ],
          "choropleth": [
           {
            "colorbar": {
             "outlinewidth": 0,
             "ticks": ""
            },
            "type": "choropleth"
           }
          ],
          "contour": [
           {
            "colorbar": {
             "outlinewidth": 0,
             "ticks": ""
            },
            "colorscale": [
             [
              0,
              "#0d0887"
             ],
             [
              0.1111111111111111,
              "#46039f"
             ],
             [
              0.2222222222222222,
              "#7201a8"
             ],
             [
              0.3333333333333333,
              "#9c179e"
             ],
             [
              0.4444444444444444,
              "#bd3786"
             ],
             [
              0.5555555555555556,
              "#d8576b"
             ],
             [
              0.6666666666666666,
              "#ed7953"
             ],
             [
              0.7777777777777778,
              "#fb9f3a"
             ],
             [
              0.8888888888888888,
              "#fdca26"
             ],
             [
              1,
              "#f0f921"
             ]
            ],
            "type": "contour"
           }
          ],
          "contourcarpet": [
           {
            "colorbar": {
             "outlinewidth": 0,
             "ticks": ""
            },
            "type": "contourcarpet"
           }
          ],
          "heatmap": [
           {
            "colorbar": {
             "outlinewidth": 0,
             "ticks": ""
            },
            "colorscale": [
             [
              0,
              "#0d0887"
             ],
             [
              0.1111111111111111,
              "#46039f"
             ],
             [
              0.2222222222222222,
              "#7201a8"
             ],
             [
              0.3333333333333333,
              "#9c179e"
             ],
             [
              0.4444444444444444,
              "#bd3786"
             ],
             [
              0.5555555555555556,
              "#d8576b"
             ],
             [
              0.6666666666666666,
              "#ed7953"
             ],
             [
              0.7777777777777778,
              "#fb9f3a"
             ],
             [
              0.8888888888888888,
              "#fdca26"
             ],
             [
              1,
              "#f0f921"
             ]
            ],
            "type": "heatmap"
           }
          ],
          "heatmapgl": [
           {
            "colorbar": {
             "outlinewidth": 0,
             "ticks": ""
            },
            "colorscale": [
             [
              0,
              "#0d0887"
             ],
             [
              0.1111111111111111,
              "#46039f"
             ],
             [
              0.2222222222222222,
              "#7201a8"
             ],
             [
              0.3333333333333333,
              "#9c179e"
             ],
             [
              0.4444444444444444,
              "#bd3786"
             ],
             [
              0.5555555555555556,
              "#d8576b"
             ],
             [
              0.6666666666666666,
              "#ed7953"
             ],
             [
              0.7777777777777778,
              "#fb9f3a"
             ],
             [
              0.8888888888888888,
              "#fdca26"
             ],
             [
              1,
              "#f0f921"
             ]
            ],
            "type": "heatmapgl"
           }
          ],
          "histogram": [
           {
            "marker": {
             "pattern": {
              "fillmode": "overlay",
              "size": 10,
              "solidity": 0.2
             }
            },
            "type": "histogram"
           }
          ],
          "histogram2d": [
           {
            "colorbar": {
             "outlinewidth": 0,
             "ticks": ""
            },
            "colorscale": [
             [
              0,
              "#0d0887"
             ],
             [
              0.1111111111111111,
              "#46039f"
             ],
             [
              0.2222222222222222,
              "#7201a8"
             ],
             [
              0.3333333333333333,
              "#9c179e"
             ],
             [
              0.4444444444444444,
              "#bd3786"
             ],
             [
              0.5555555555555556,
              "#d8576b"
             ],
             [
              0.6666666666666666,
              "#ed7953"
             ],
             [
              0.7777777777777778,
              "#fb9f3a"
             ],
             [
              0.8888888888888888,
              "#fdca26"
             ],
             [
              1,
              "#f0f921"
             ]
            ],
            "type": "histogram2d"
           }
          ],
          "histogram2dcontour": [
           {
            "colorbar": {
             "outlinewidth": 0,
             "ticks": ""
            },
            "colorscale": [
             [
              0,
              "#0d0887"
             ],
             [
              0.1111111111111111,
              "#46039f"
             ],
             [
              0.2222222222222222,
              "#7201a8"
             ],
             [
              0.3333333333333333,
              "#9c179e"
             ],
             [
              0.4444444444444444,
              "#bd3786"
             ],
             [
              0.5555555555555556,
              "#d8576b"
             ],
             [
              0.6666666666666666,
              "#ed7953"
             ],
             [
              0.7777777777777778,
              "#fb9f3a"
             ],
             [
              0.8888888888888888,
              "#fdca26"
             ],
             [
              1,
              "#f0f921"
             ]
            ],
            "type": "histogram2dcontour"
           }
          ],
          "mesh3d": [
           {
            "colorbar": {
             "outlinewidth": 0,
             "ticks": ""
            },
            "type": "mesh3d"
           }
          ],
          "parcoords": [
           {
            "line": {
             "colorbar": {
              "outlinewidth": 0,
              "ticks": ""
             }
            },
            "type": "parcoords"
           }
          ],
          "pie": [
           {
            "automargin": true,
            "type": "pie"
           }
          ],
          "scatter": [
           {
            "fillpattern": {
             "fillmode": "overlay",
             "size": 10,
             "solidity": 0.2
            },
            "type": "scatter"
           }
          ],
          "scatter3d": [
           {
            "line": {
             "colorbar": {
              "outlinewidth": 0,
              "ticks": ""
             }
            },
            "marker": {
             "colorbar": {
              "outlinewidth": 0,
              "ticks": ""
             }
            },
            "type": "scatter3d"
           }
          ],
          "scattercarpet": [
           {
            "marker": {
             "colorbar": {
              "outlinewidth": 0,
              "ticks": ""
             }
            },
            "type": "scattercarpet"
           }
          ],
          "scattergeo": [
           {
            "marker": {
             "colorbar": {
              "outlinewidth": 0,
              "ticks": ""
             }
            },
            "type": "scattergeo"
           }
          ],
          "scattergl": [
           {
            "marker": {
             "colorbar": {
              "outlinewidth": 0,
              "ticks": ""
             }
            },
            "type": "scattergl"
           }
          ],
          "scattermapbox": [
           {
            "marker": {
             "colorbar": {
              "outlinewidth": 0,
              "ticks": ""
             }
            },
            "type": "scattermapbox"
           }
          ],
          "scatterpolar": [
           {
            "marker": {
             "colorbar": {
              "outlinewidth": 0,
              "ticks": ""
             }
            },
            "type": "scatterpolar"
           }
          ],
          "scatterpolargl": [
           {
            "marker": {
             "colorbar": {
              "outlinewidth": 0,
              "ticks": ""
             }
            },
            "type": "scatterpolargl"
           }
          ],
          "scatterternary": [
           {
            "marker": {
             "colorbar": {
              "outlinewidth": 0,
              "ticks": ""
             }
            },
            "type": "scatterternary"
           }
          ],
          "surface": [
           {
            "colorbar": {
             "outlinewidth": 0,
             "ticks": ""
            },
            "colorscale": [
             [
              0,
              "#0d0887"
             ],
             [
              0.1111111111111111,
              "#46039f"
             ],
             [
              0.2222222222222222,
              "#7201a8"
             ],
             [
              0.3333333333333333,
              "#9c179e"
             ],
             [
              0.4444444444444444,
              "#bd3786"
             ],
             [
              0.5555555555555556,
              "#d8576b"
             ],
             [
              0.6666666666666666,
              "#ed7953"
             ],
             [
              0.7777777777777778,
              "#fb9f3a"
             ],
             [
              0.8888888888888888,
              "#fdca26"
             ],
             [
              1,
              "#f0f921"
             ]
            ],
            "type": "surface"
           }
          ],
          "table": [
           {
            "cells": {
             "fill": {
              "color": "#EBF0F8"
             },
             "line": {
              "color": "white"
             }
            },
            "header": {
             "fill": {
              "color": "#C8D4E3"
             },
             "line": {
              "color": "white"
             }
            },
            "type": "table"
           }
          ]
         },
         "layout": {
          "annotationdefaults": {
           "arrowcolor": "#2a3f5f",
           "arrowhead": 0,
           "arrowwidth": 1
          },
          "autotypenumbers": "strict",
          "coloraxis": {
           "colorbar": {
            "outlinewidth": 0,
            "ticks": ""
           }
          },
          "colorscale": {
           "diverging": [
            [
             0,
             "#8e0152"
            ],
            [
             0.1,
             "#c51b7d"
            ],
            [
             0.2,
             "#de77ae"
            ],
            [
             0.3,
             "#f1b6da"
            ],
            [
             0.4,
             "#fde0ef"
            ],
            [
             0.5,
             "#f7f7f7"
            ],
            [
             0.6,
             "#e6f5d0"
            ],
            [
             0.7,
             "#b8e186"
            ],
            [
             0.8,
             "#7fbc41"
            ],
            [
             0.9,
             "#4d9221"
            ],
            [
             1,
             "#276419"
            ]
           ],
           "sequential": [
            [
             0,
             "#0d0887"
            ],
            [
             0.1111111111111111,
             "#46039f"
            ],
            [
             0.2222222222222222,
             "#7201a8"
            ],
            [
             0.3333333333333333,
             "#9c179e"
            ],
            [
             0.4444444444444444,
             "#bd3786"
            ],
            [
             0.5555555555555556,
             "#d8576b"
            ],
            [
             0.6666666666666666,
             "#ed7953"
            ],
            [
             0.7777777777777778,
             "#fb9f3a"
            ],
            [
             0.8888888888888888,
             "#fdca26"
            ],
            [
             1,
             "#f0f921"
            ]
           ],
           "sequentialminus": [
            [
             0,
             "#0d0887"
            ],
            [
             0.1111111111111111,
             "#46039f"
            ],
            [
             0.2222222222222222,
             "#7201a8"
            ],
            [
             0.3333333333333333,
             "#9c179e"
            ],
            [
             0.4444444444444444,
             "#bd3786"
            ],
            [
             0.5555555555555556,
             "#d8576b"
            ],
            [
             0.6666666666666666,
             "#ed7953"
            ],
            [
             0.7777777777777778,
             "#fb9f3a"
            ],
            [
             0.8888888888888888,
             "#fdca26"
            ],
            [
             1,
             "#f0f921"
            ]
           ]
          },
          "colorway": [
           "#636efa",
           "#EF553B",
           "#00cc96",
           "#ab63fa",
           "#FFA15A",
           "#19d3f3",
           "#FF6692",
           "#B6E880",
           "#FF97FF",
           "#FECB52"
          ],
          "font": {
           "color": "#2a3f5f"
          },
          "geo": {
           "bgcolor": "white",
           "lakecolor": "white",
           "landcolor": "#E5ECF6",
           "showlakes": true,
           "showland": true,
           "subunitcolor": "white"
          },
          "hoverlabel": {
           "align": "left"
          },
          "hovermode": "closest",
          "mapbox": {
           "style": "light"
          },
          "paper_bgcolor": "white",
          "plot_bgcolor": "#E5ECF6",
          "polar": {
           "angularaxis": {
            "gridcolor": "white",
            "linecolor": "white",
            "ticks": ""
           },
           "bgcolor": "#E5ECF6",
           "radialaxis": {
            "gridcolor": "white",
            "linecolor": "white",
            "ticks": ""
           }
          },
          "scene": {
           "xaxis": {
            "backgroundcolor": "#E5ECF6",
            "gridcolor": "white",
            "gridwidth": 2,
            "linecolor": "white",
            "showbackground": true,
            "ticks": "",
            "zerolinecolor": "white"
           },
           "yaxis": {
            "backgroundcolor": "#E5ECF6",
            "gridcolor": "white",
            "gridwidth": 2,
            "linecolor": "white",
            "showbackground": true,
            "ticks": "",
            "zerolinecolor": "white"
           },
           "zaxis": {
            "backgroundcolor": "#E5ECF6",
            "gridcolor": "white",
            "gridwidth": 2,
            "linecolor": "white",
            "showbackground": true,
            "ticks": "",
            "zerolinecolor": "white"
           }
          },
          "shapedefaults": {
           "line": {
            "color": "#2a3f5f"
           }
          },
          "ternary": {
           "aaxis": {
            "gridcolor": "white",
            "linecolor": "white",
            "ticks": ""
           },
           "baxis": {
            "gridcolor": "white",
            "linecolor": "white",
            "ticks": ""
           },
           "bgcolor": "#E5ECF6",
           "caxis": {
            "gridcolor": "white",
            "linecolor": "white",
            "ticks": ""
           }
          },
          "title": {
           "x": 0.05
          },
          "xaxis": {
           "automargin": true,
           "gridcolor": "white",
           "linecolor": "white",
           "ticks": "",
           "title": {
            "standoff": 15
           },
           "zerolinecolor": "white",
           "zerolinewidth": 2
          },
          "yaxis": {
           "automargin": true,
           "gridcolor": "white",
           "linecolor": "white",
           "ticks": "",
           "title": {
            "standoff": 15
           },
           "zerolinecolor": "white",
           "zerolinewidth": 2
          }
         }
        },
        "title": {
         "text": "Distributions of Variables"
        },
        "xaxis": {
         "anchor": "y",
         "domain": [
          0,
          0.2888888888888889
         ]
        },
        "xaxis10": {
         "anchor": "y10",
         "domain": [
          0,
          0.2888888888888889
         ]
        },
        "xaxis11": {
         "anchor": "y11",
         "domain": [
          0.35555555555555557,
          0.6444444444444445
         ]
        },
        "xaxis12": {
         "anchor": "y12",
         "domain": [
          0.7111111111111111,
          1
         ]
        },
        "xaxis13": {
         "anchor": "y13",
         "domain": [
          0,
          0.2888888888888889
         ]
        },
        "xaxis14": {
         "anchor": "y14",
         "domain": [
          0.35555555555555557,
          0.6444444444444445
         ]
        },
        "xaxis15": {
         "anchor": "y15",
         "domain": [
          0.7111111111111111,
          1
         ]
        },
        "xaxis16": {
         "anchor": "y16",
         "domain": [
          0,
          0.2888888888888889
         ]
        },
        "xaxis17": {
         "anchor": "y17",
         "domain": [
          0.35555555555555557,
          0.6444444444444445
         ]
        },
        "xaxis18": {
         "anchor": "y18",
         "domain": [
          0.7111111111111111,
          1
         ]
        },
        "xaxis19": {
         "anchor": "y19",
         "domain": [
          0,
          0.2888888888888889
         ]
        },
        "xaxis2": {
         "anchor": "y2",
         "domain": [
          0.35555555555555557,
          0.6444444444444445
         ]
        },
        "xaxis20": {
         "anchor": "y20",
         "domain": [
          0.35555555555555557,
          0.6444444444444445
         ]
        },
        "xaxis21": {
         "anchor": "y21",
         "domain": [
          0.7111111111111111,
          1
         ]
        },
        "xaxis22": {
         "anchor": "y22",
         "domain": [
          0,
          0.2888888888888889
         ]
        },
        "xaxis23": {
         "anchor": "y23",
         "domain": [
          0.35555555555555557,
          0.6444444444444445
         ]
        },
        "xaxis24": {
         "anchor": "y24",
         "domain": [
          0.7111111111111111,
          1
         ]
        },
        "xaxis25": {
         "anchor": "y25",
         "domain": [
          0,
          0.2888888888888889
         ]
        },
        "xaxis26": {
         "anchor": "y26",
         "domain": [
          0.35555555555555557,
          0.6444444444444445
         ]
        },
        "xaxis27": {
         "anchor": "y27",
         "domain": [
          0.7111111111111111,
          1
         ]
        },
        "xaxis28": {
         "anchor": "y28",
         "domain": [
          0,
          0.2888888888888889
         ]
        },
        "xaxis29": {
         "anchor": "y29",
         "domain": [
          0.35555555555555557,
          0.6444444444444445
         ]
        },
        "xaxis3": {
         "anchor": "y3",
         "domain": [
          0.7111111111111111,
          1
         ]
        },
        "xaxis30": {
         "anchor": "y30",
         "domain": [
          0.7111111111111111,
          1
         ]
        },
        "xaxis31": {
         "anchor": "y31",
         "domain": [
          0,
          0.2888888888888889
         ]
        },
        "xaxis32": {
         "anchor": "y32",
         "domain": [
          0.35555555555555557,
          0.6444444444444445
         ]
        },
        "xaxis33": {
         "anchor": "y33",
         "domain": [
          0.7111111111111111,
          1
         ]
        },
        "xaxis34": {
         "anchor": "y34",
         "domain": [
          0,
          0.2888888888888889
         ]
        },
        "xaxis35": {
         "anchor": "y35",
         "domain": [
          0.35555555555555557,
          0.6444444444444445
         ]
        },
        "xaxis36": {
         "anchor": "y36",
         "domain": [
          0.7111111111111111,
          1
         ]
        },
        "xaxis37": {
         "anchor": "y37",
         "domain": [
          0,
          0.2888888888888889
         ]
        },
        "xaxis38": {
         "anchor": "y38",
         "domain": [
          0.35555555555555557,
          0.6444444444444445
         ]
        },
        "xaxis39": {
         "anchor": "y39",
         "domain": [
          0.7111111111111111,
          1
         ]
        },
        "xaxis4": {
         "anchor": "y4",
         "domain": [
          0,
          0.2888888888888889
         ]
        },
        "xaxis5": {
         "anchor": "y5",
         "domain": [
          0.35555555555555557,
          0.6444444444444445
         ]
        },
        "xaxis6": {
         "anchor": "y6",
         "domain": [
          0.7111111111111111,
          1
         ]
        },
        "xaxis7": {
         "anchor": "y7",
         "domain": [
          0,
          0.2888888888888889
         ]
        },
        "xaxis8": {
         "anchor": "y8",
         "domain": [
          0.35555555555555557,
          0.6444444444444445
         ]
        },
        "xaxis9": {
         "anchor": "y9",
         "domain": [
          0.7111111111111111,
          1
         ]
        },
        "yaxis": {
         "anchor": "x",
         "domain": [
          0.9585798816568047,
          1
         ]
        },
        "yaxis10": {
         "anchor": "x10",
         "domain": [
          0.7189349112426036,
          0.7603550295857988
         ]
        },
        "yaxis11": {
         "anchor": "x11",
         "domain": [
          0.7189349112426036,
          0.7603550295857988
         ]
        },
        "yaxis12": {
         "anchor": "x12",
         "domain": [
          0.7189349112426036,
          0.7603550295857988
         ]
        },
        "yaxis13": {
         "anchor": "x13",
         "domain": [
          0.6390532544378698,
          0.680473372781065
         ]
        },
        "yaxis14": {
         "anchor": "x14",
         "domain": [
          0.6390532544378698,
          0.680473372781065
         ]
        },
        "yaxis15": {
         "anchor": "x15",
         "domain": [
          0.6390532544378698,
          0.680473372781065
         ]
        },
        "yaxis16": {
         "anchor": "x16",
         "domain": [
          0.5591715976331362,
          0.6005917159763314
         ]
        },
        "yaxis17": {
         "anchor": "x17",
         "domain": [
          0.5591715976331362,
          0.6005917159763314
         ]
        },
        "yaxis18": {
         "anchor": "x18",
         "domain": [
          0.5591715976331362,
          0.6005917159763314
         ]
        },
        "yaxis19": {
         "anchor": "x19",
         "domain": [
          0.47928994082840237,
          0.5207100591715976
         ]
        },
        "yaxis2": {
         "anchor": "x2",
         "domain": [
          0.9585798816568047,
          1
         ]
        },
        "yaxis20": {
         "anchor": "x20",
         "domain": [
          0.47928994082840237,
          0.5207100591715976
         ]
        },
        "yaxis21": {
         "anchor": "x21",
         "domain": [
          0.47928994082840237,
          0.5207100591715976
         ]
        },
        "yaxis22": {
         "anchor": "x22",
         "domain": [
          0.3994082840236686,
          0.4408284023668639
         ]
        },
        "yaxis23": {
         "anchor": "x23",
         "domain": [
          0.3994082840236686,
          0.4408284023668639
         ]
        },
        "yaxis24": {
         "anchor": "x24",
         "domain": [
          0.3994082840236686,
          0.4408284023668639
         ]
        },
        "yaxis25": {
         "anchor": "x25",
         "domain": [
          0.3195266272189349,
          0.36094674556213013
         ]
        },
        "yaxis26": {
         "anchor": "x26",
         "domain": [
          0.3195266272189349,
          0.36094674556213013
         ]
        },
        "yaxis27": {
         "anchor": "x27",
         "domain": [
          0.3195266272189349,
          0.36094674556213013
         ]
        },
        "yaxis28": {
         "anchor": "x28",
         "domain": [
          0.23964497041420119,
          0.28106508875739644
         ]
        },
        "yaxis29": {
         "anchor": "x29",
         "domain": [
          0.23964497041420119,
          0.28106508875739644
         ]
        },
        "yaxis3": {
         "anchor": "x3",
         "domain": [
          0.9585798816568047,
          1
         ]
        },
        "yaxis30": {
         "anchor": "x30",
         "domain": [
          0.23964497041420119,
          0.28106508875739644
         ]
        },
        "yaxis31": {
         "anchor": "x31",
         "domain": [
          0.15976331360946744,
          0.2011834319526627
         ]
        },
        "yaxis32": {
         "anchor": "x32",
         "domain": [
          0.15976331360946744,
          0.2011834319526627
         ]
        },
        "yaxis33": {
         "anchor": "x33",
         "domain": [
          0.15976331360946744,
          0.2011834319526627
         ]
        },
        "yaxis34": {
         "anchor": "x34",
         "domain": [
          0.07988165680473372,
          0.12130177514792898
         ]
        },
        "yaxis35": {
         "anchor": "x35",
         "domain": [
          0.07988165680473372,
          0.12130177514792898
         ]
        },
        "yaxis36": {
         "anchor": "x36",
         "domain": [
          0.07988165680473372,
          0.12130177514792898
         ]
        },
        "yaxis37": {
         "anchor": "x37",
         "domain": [
          0,
          0.04142011834319526
         ]
        },
        "yaxis38": {
         "anchor": "x38",
         "domain": [
          0,
          0.04142011834319526
         ]
        },
        "yaxis39": {
         "anchor": "x39",
         "domain": [
          0,
          0.04142011834319526
         ]
        },
        "yaxis4": {
         "anchor": "x4",
         "domain": [
          0.8786982248520709,
          0.9201183431952662
         ]
        },
        "yaxis5": {
         "anchor": "x5",
         "domain": [
          0.8786982248520709,
          0.9201183431952662
         ]
        },
        "yaxis6": {
         "anchor": "x6",
         "domain": [
          0.8786982248520709,
          0.9201183431952662
         ]
        },
        "yaxis7": {
         "anchor": "x7",
         "domain": [
          0.7988165680473372,
          0.8402366863905325
         ]
        },
        "yaxis8": {
         "anchor": "x8",
         "domain": [
          0.7988165680473372,
          0.8402366863905325
         ]
        },
        "yaxis9": {
         "anchor": "x9",
         "domain": [
          0.7988165680473372,
          0.8402366863905325
         ]
        }
       }
      }
     },
     "metadata": {},
     "output_type": "display_data"
    }
   ],
   "source": [
    "variables_hh = [\n",
    "    \"person_id\", \"household_size\", \"number_of_cars\", \"number_of_bikes\", \"income_class\",\n",
    "    \"home_x\", \"home_y\", \"household_size_class\", \"number_of_cars_class\", \"number_of_bikes_class\", \"household_weight\",\n",
    "    \"sp_region\", \"canton_id\"]\n",
    "\n",
    "variables_p = [\n",
    "    \"age\", \"sex\",\n",
    "    \"marital_status\",\n",
    "    \"driving_license\",\n",
    "    \"car_availability\",\n",
    "    \"employed\",\n",
    "    \"highest_education\",\n",
    "    \"parking_work\", \"parking_cost_work\",\n",
    "    \"parking_education\", \"parking_cost_education\",\n",
    "    \"subscriptions_ga\",\n",
    "    \"subscriptions_halbtax\",\n",
    "    \"subscriptions_verbund\",\n",
    "    \"subscriptions_strecke\",\n",
    "    \"subscriptions_gleis7\",\n",
    "    \"subscriptions_junior\",\n",
    "    \"subscriptions_other\",\n",
    "    \"subscriptions_ga_class\",\n",
    "    \"subscriptions_verbund_class\",\n",
    "    \"subscriptions_strecke_class\",\n",
    "    \"age_class\", \"person_weight\",\n",
    "    \"weekend\", \"date\"\n",
    "]\n",
    "\n",
    "# Assuming df is your DataFrame and variables is your list of variables to plot\n",
    "variables = variables_hh + variables_p  # Combine your two lists of variables\n",
    "\n",
    "# Calculate the number of rows needed for the subplots (3 columns)\n",
    "num_rows = math.ceil(len(variables) / 3)\n",
    "\n",
    "# Create a subplot figure with the calculated number of rows and 3 columns\n",
    "fig = make_subplots(rows=num_rows, cols=3, subplot_titles=variables)\n",
    "\n",
    "# Add a histogram to each subplot for the respective variable\n",
    "for i, var in enumerate(variables):\n",
    "    row = math.ceil((i + 1) / 3)\n",
    "    col = (i % 3) + 1\n",
    "    fig.add_trace(\n",
    "        go.Histogram(x=df[var], name=var),\n",
    "        row=row, col=col\n",
    "    )\n",
    "\n",
    "# Update layout if needed\n",
    "fig.update_layout(\n",
    "    title_text='Distributions of Variables',\n",
    "    height=300 * num_rows,  # Adjust the height based on the number of rows\n",
    ")\n",
    "\n",
    "# Show the figure\n",
    "fig.show()"
   ]
  },
  {
   "cell_type": "code",
   "execution_count": null,
   "metadata": {},
   "outputs": [],
   "source": []
  },
  {
   "cell_type": "code",
   "execution_count": null,
   "metadata": {},
   "outputs": [],
   "source": []
  },
  {
   "cell_type": "code",
   "execution_count": null,
   "metadata": {},
   "outputs": [],
   "source": []
  },
  {
   "cell_type": "code",
   "execution_count": null,
   "metadata": {},
   "outputs": [],
   "source": []
  },
  {
   "cell_type": "code",
   "execution_count": null,
   "metadata": {},
   "outputs": [],
   "source": []
  },
  {
   "cell_type": "code",
   "execution_count": null,
   "metadata": {},
   "outputs": [],
   "source": []
  },
  {
   "cell_type": "code",
   "execution_count": null,
   "metadata": {},
   "outputs": [],
   "source": []
  },
  {
   "cell_type": "code",
   "execution_count": null,
   "metadata": {},
   "outputs": [],
   "source": []
  },
  {
   "cell_type": "code",
   "execution_count": null,
   "metadata": {},
   "outputs": [],
   "source": []
  },
  {
   "cell_type": "code",
   "execution_count": null,
   "metadata": {},
   "outputs": [],
   "source": []
  },
  {
   "cell_type": "code",
   "execution_count": null,
   "metadata": {},
   "outputs": [],
   "source": []
  },
  {
   "cell_type": "code",
   "execution_count": null,
   "metadata": {},
   "outputs": [],
   "source": []
  },
  {
   "cell_type": "code",
   "execution_count": null,
   "metadata": {},
   "outputs": [],
   "source": []
  }
 ],
 "metadata": {
  "kernelspec": {
   "display_name": "abmt",
   "language": "python",
   "name": "python3"
  },
  "language_info": {
   "codemirror_mode": {
    "name": "ipython",
    "version": 3
   },
   "file_extension": ".py",
   "mimetype": "text/x-python",
   "name": "python",
   "nbconvert_exporter": "python",
   "pygments_lexer": "ipython3",
   "version": "3.12.3"
  }
 },
 "nbformat": 4,
 "nbformat_minor": 2
}
