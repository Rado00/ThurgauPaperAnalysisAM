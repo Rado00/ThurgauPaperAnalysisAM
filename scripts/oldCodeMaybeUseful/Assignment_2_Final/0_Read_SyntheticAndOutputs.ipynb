{
 "cells": [
  {
   "cell_type": "code",
   "execution_count": 2,
   "metadata": {},
   "outputs": [],
   "source": [
    "import matsim\n",
    "import os\n",
    "import contextily as ctx\n",
    "import geopandas as gpd\n",
    "import pandas as pd\n",
    "import matplotlib.pyplot as plt\n",
    "from collections import defaultdict\n",
    "import plotly.express as px\n",
    "import plotly.graph_objects as go\n",
    "from plotly.subplots import make_subplots\n",
    "from my_matsim_utils import *\n",
    "%matplotlib inline"
   ]
  },
  {
   "cell_type": "code",
   "execution_count": 3,
   "metadata": {},
   "outputs": [],
   "source": [
    "# pip install contextily\n",
    "# pip install geopandas\n",
    "# pip install pandas\n",
    "# pip install matplotlib\n",
    "# pip install collections \n",
    "\n",
    "# pip install plotly"
   ]
  },
  {
   "cell_type": "markdown",
   "metadata": {},
   "source": [
    "### <font color =\"gold\"> Choose Population % to be read"
   ]
  },
  {
   "cell_type": "code",
   "execution_count": 4,
   "metadata": {},
   "outputs": [],
   "source": [
    "#CHECK THIS FOR THE PATH\n",
    "pct = 100\n",
    "place = \"Frauenfeld\"\n",
    "scenario_name = \"BaselineScenario\"\n",
    "simulation_name = \"Frauenfeld_Baseline_100pct_11\""
   ]
  },
  {
   "cell_type": "code",
   "execution_count": 5,
   "metadata": {},
   "outputs": [],
   "source": [
    "import os\n",
    "import platform\n",
    "\n",
    "def get_data_folder_path():\n",
    "    # Get the current operating system\n",
    "    os_type = platform.system()\n",
    "    user_name = os.getlogin()\n",
    "\n",
    "    # Define data folder paths for different systems\n",
    "    if os_type == 'Windows' and user_name == 'muaa':\n",
    "        data_folder_path = f\"C://Users//{user_name}//Documents//3_MIEI//2023_ABMT_Data//{place}//\"    \n",
    "    elif os_type == 'Linux' and user_name == 'comura':\n",
    "        data_folder_path = '/cluster/home/comura/.../'\n",
    "    elif os_type == 'Linux' and user_name == 'cmuratori':\n",
    "        data_folder_path = '/cluster/home/cmuratori/.../'\n",
    "    elif os_type == 'Linux' and user_name == 'muaa':\n",
    "        data_folder_path = '/cluster/home/muaa/.../'\n",
    "    else:\n",
    "        raise Exception(\"Unsupported system configuration\")\n",
    "\n",
    "    return data_folder_path"
   ]
  },
  {
   "cell_type": "code",
   "execution_count": 6,
   "metadata": {},
   "outputs": [],
   "source": [
    "data_folder_path = get_data_folder_path()\n",
    "scenario_path = f\"{data_folder_path}//{scenario_name}//{pct}pct//\"\n",
    "output_folder_path = f\"{data_folder_path}//{simulation_name}//\""
   ]
  },
  {
   "cell_type": "markdown",
   "metadata": {},
   "source": [
    "### <font color =\"gold\"> Network\n",
    "\n",
    "How to read in and visualize the network"
   ]
  },
  {
   "cell_type": "code",
   "execution_count": 7,
   "metadata": {
    "scrolled": true
   },
   "outputs": [
    {
     "name": "stderr",
     "output_type": "stream",
     "text": [
      "c:\\Users\\muaa\\AppData\\Local\\Programs\\Python\\Python312\\Lib\\site-packages\\pyproj\\crs\\crs.py:141: FutureWarning: '+init=<authority>:<code>' syntax is deprecated. '<authority>:<code>' is the preferred initialization method. When making the change, be mindful of axis order changes: https://pyproj4.github.io/pyproj/stable/gotchas.html#axis-order-changes-in-proj-6\n",
      "  in_crs_string = _prepare_from_proj_string(in_crs_string)\n"
     ]
    }
   ],
   "source": [
    "# This reads in the network in a structure that contains two tables, one for links and one for nodes.\n",
    "network = matsim.read_network(os.path.join(scenario_path, \"network.xml.gz\"))\n",
    "\n",
    "# this creates a geographic dataframe\n",
    "network_geo = network.as_geo('epsg:2056')"
   ]
  },
  {
   "cell_type": "code",
   "execution_count": 8,
   "metadata": {},
   "outputs": [],
   "source": [
    "network_geo.to_file(f'{data_folder_path}/0_PreProcess_CSVs_SyntheticAndOutputs/{pct}pct/network_geo.geojson', driver='GeoJSON')"
   ]
  },
  {
   "cell_type": "markdown",
   "metadata": {},
   "source": [
    "### Reading Data"
   ]
  },
  {
   "cell_type": "code",
   "execution_count": 9,
   "metadata": {},
   "outputs": [],
   "source": [
    "# The plan reader\n",
    "plans_synt = matsim.plan_reader_dataframe(os.path.join(scenario_path, f\"imputed_population.xml.gz\"))\n",
    "households_synt = my_houshold_reader(os.path.join(scenario_path, \"households.xml.gz\"))\n",
    "\n",
    "plans_sim = matsim.plan_reader_dataframe(os.path.join(output_folder_path, \"output_plans.xml.gz\"))     \n",
    "households_sim = my_houshold_reader(os.path.join(output_folder_path, \"output_households.xml.gz\"))\n"
   ]
  },
  {
   "cell_type": "code",
   "execution_count": 10,
   "metadata": {},
   "outputs": [],
   "source": [
    "df_households_synt = households_synt.households\n",
    "\n",
    "df_activity_synt = plans_synt.activities\n",
    "# df_plans_synt = plans.plans\n",
    "df_legs_synt = plans_synt.legs\n",
    "df_persons_synt = plans_synt.persons\n",
    "df_routes_synt = plans_synt.routes\n",
    "\n",
    "df_activity_sim = plans_sim.activities\n",
    "# df_plans_sim = plans.plans\n",
    "df_legs_sim = plans_sim.legs\n",
    "df_persons_sim = plans_sim.persons\n",
    "df_routes_sim = plans_sim.routes"
   ]
  },
  {
   "cell_type": "code",
   "execution_count": 11,
   "metadata": {},
   "outputs": [],
   "source": [
    "# Save _synth dataframes\n",
    "df_households_synt.to_csv(f'{data_folder_path}/0_PreProcess_CSVs_SyntheticAndOutputs/{pct}pct/df_households_synt.csv', index=False)\n",
    "df_activity_synt.to_csv(f'{data_folder_path}/0_PreProcess_CSVs_SyntheticAndOutputs/{pct}pct/df_activity_synt.csv', index=False)\n",
    "# df_plans_synt.to_csv(f'{data_folder_path}/0_PreProcess_CSVs_SyntheticAndOutputs/{pct}pct/df_plans_synt.csv', index=False)\n",
    "df_legs_synt.to_csv(f'{data_folder_path}/0_PreProcess_CSVs_SyntheticAndOutputs/{pct}pct/df_legs_synt.csv', index=False)\n",
    "df_persons_synt.to_csv(f'{data_folder_path}/0_PreProcess_CSVs_SyntheticAndOutputs/{pct}pct/df_persons_synt.csv', index=False)\n",
    "df_routes_synt.to_csv(f'{data_folder_path}/0_PreProcess_CSVs_SyntheticAndOutputs/{pct}pct/df_routes_synt.csv', index=False)\n",
    "\n",
    "# Save _sim dataframes\n",
    "df_activity_sim.to_csv(f'{data_folder_path}/0_PreProcess_CSVs_SyntheticAndOutputs/{pct}pct/df_activity_sim.csv', index=False)\n",
    "df_legs_sim.to_csv(f'{data_folder_path}/0_PreProcess_CSVs_SyntheticAndOutputs/{pct}pct/df_legs_sim.csv', index=False)\n",
    "df_persons_sim.to_csv(f'{data_folder_path}/0_PreProcess_CSVs_SyntheticAndOutputs/{pct}pct/df_persons_sim.csv', index=False)\n",
    "df_routes_sim.to_csv(f'{data_folder_path}/0_PreProcess_CSVs_SyntheticAndOutputs/{pct}pct/df_routes_sim.csv', index=False)"
   ]
  }
 ],
 "metadata": {
  "kernelspec": {
   "display_name": "Python 3 (ipykernel)",
   "language": "python",
   "name": "python3"
  },
  "language_info": {
   "codemirror_mode": {
    "name": "ipython",
    "version": 3
   },
   "file_extension": ".py",
   "mimetype": "text/x-python",
   "name": "python",
   "nbconvert_exporter": "python",
   "pygments_lexer": "ipython3",
   "version": "3.12.3"
  },
  "vscode": {
   "interpreter": {
    "hash": "e844146b4402922edc282834f163f9a0d641b235707d4d6937c70f86c82d4552"
   }
  }
 },
 "nbformat": 4,
 "nbformat_minor": 4
}
