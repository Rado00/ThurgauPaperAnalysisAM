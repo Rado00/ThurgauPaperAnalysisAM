{
 "cells": [
  {
   "cell_type": "markdown",
   "metadata": {
    "tags": []
   },
   "source": [
    "# <font color=\"yellow\"> Data Analysis Corrado"
   ]
  },
  {
   "cell_type": "code",
   "execution_count": 66,
   "metadata": {},
   "outputs": [],
   "source": [
    "# pip install seaborn"
   ]
  },
  {
   "cell_type": "code",
   "execution_count": 67,
   "metadata": {},
   "outputs": [],
   "source": [
    "# Import necessary Libraries\n",
    "import os\n",
    "import matsim\n",
    "import pandas as pd\n",
    "import seaborn as sns\n",
    "import geopandas as gpd\n",
    "import contextily as ctx\n",
    "import matplotlib.pyplot as plt\n",
    "from collections import defaultdict\n",
    "pd.set_option('display.max_rows', 500)\n",
    "pd.set_option('display.max_columns', 500)\n",
    "pd.set_option('display.width', 1000)\n",
    "%matplotlib inline"
   ]
  },
  {
   "cell_type": "code",
   "execution_count": 68,
   "metadata": {},
   "outputs": [],
   "source": [
    "import os\n",
    "import platform\n",
    "\n",
    "def get_data_folder_path():\n",
    "    # Get the current operating system\n",
    "    os_type = platform.system()\n",
    "    user_name = os.getlogin()\n",
    "\n",
    "    # Define data folder paths for different systems\n",
    "    if os_type == 'Windows' and user_name == 'Alice':\n",
    "        data_folder_path = f\"C:\\\\Users\\\\{user_name}\\\\Documents\\\\Data\"\n",
    "    elif os_type == 'Linux' and user_name == 'salathem':\n",
    "        data_folder_path = '/cluster/home/salathem/Programming/data/'\n",
    "    elif os_type == 'Darwin':\n",
    "        data_folder_path = '/Users/Marco/Library/CloudStorage/OneDrive-Persönlich/ETHZ/Agent Based Modeling/data/'\n",
    "    else:\n",
    "        raise Exception(\"Unsupported system configuration\")\n",
    "\n",
    "    return data_folder_path"
   ]
  },
  {
   "cell_type": "code",
   "execution_count": 69,
   "metadata": {},
   "outputs": [],
   "source": [
    "# Path of the .gz file\n",
    "data_folder_path = get_data_folder_path()\n",
    "plan_path = data_folder_path + '/scenarios/Zurich/10pct/zurich_population_10pct.xml.gz'"
   ]
  },
  {
   "cell_type": "code",
   "execution_count": 70,
   "metadata": {},
   "outputs": [],
   "source": [
    "# Read the data\n",
    "plan_df = matsim.plan_reader_dataframe(plan_path)"
   ]
  },
  {
   "cell_type": "markdown",
   "metadata": {},
   "source": [
    "## <font color=\"green\"> Activities Dataframe"
   ]
  },
  {
   "cell_type": "code",
   "execution_count": 71,
   "metadata": {},
   "outputs": [
    {
     "data": {
      "text/plain": [
       "(1052661, 13)"
      ]
     },
     "execution_count": 71,
     "metadata": {},
     "output_type": "execute_result"
    }
   ],
   "source": [
    "# Shape of activities dataframe\n",
    "plan_df.activities.shape"
   ]
  },
  {
   "cell_type": "code",
   "execution_count": 72,
   "metadata": {},
   "outputs": [
    {
     "data": {
      "text/html": [
       "<div>\n",
       "<style scoped>\n",
       "    .dataframe tbody tr th:only-of-type {\n",
       "        vertical-align: middle;\n",
       "    }\n",
       "\n",
       "    .dataframe tbody tr th {\n",
       "        vertical-align: top;\n",
       "    }\n",
       "\n",
       "    .dataframe thead th {\n",
       "        text-align: right;\n",
       "    }\n",
       "</style>\n",
       "<table border=\"1\" class=\"dataframe\">\n",
       "  <thead>\n",
       "    <tr style=\"text-align: right;\">\n",
       "      <th></th>\n",
       "      <th>id</th>\n",
       "      <th>plan_id</th>\n",
       "      <th>type</th>\n",
       "      <th>link</th>\n",
       "      <th>facility</th>\n",
       "      <th>x</th>\n",
       "      <th>y</th>\n",
       "      <th>end_time</th>\n",
       "      <th>headway_min</th>\n",
       "      <th>max_dur</th>\n",
       "      <th>start_time</th>\n",
       "      <th>city</th>\n",
       "      <th>typeBeforeCutting</th>\n",
       "    </tr>\n",
       "  </thead>\n",
       "  <tbody>\n",
       "    <tr>\n",
       "      <th>0</th>\n",
       "      <td>1</td>\n",
       "      <td>1</td>\n",
       "      <td>home</td>\n",
       "      <td>270549</td>\n",
       "      <td>home4</td>\n",
       "      <td>2679482.0</td>\n",
       "      <td>1237545.0</td>\n",
       "      <td>07:50:56</td>\n",
       "      <td>30.0</td>\n",
       "      <td>NaN</td>\n",
       "      <td>NaN</td>\n",
       "      <td>NaN</td>\n",
       "      <td>NaN</td>\n",
       "    </tr>\n",
       "    <tr>\n",
       "      <th>1</th>\n",
       "      <td>2</td>\n",
       "      <td>1</td>\n",
       "      <td>pt interaction</td>\n",
       "      <td>617713</td>\n",
       "      <td>NaN</td>\n",
       "      <td>2679299.97008475</td>\n",
       "      <td>1237575.0077440983</td>\n",
       "      <td>NaN</td>\n",
       "      <td>NaN</td>\n",
       "      <td>00:00:00</td>\n",
       "      <td>NaN</td>\n",
       "      <td>NaN</td>\n",
       "      <td>NaN</td>\n",
       "    </tr>\n",
       "    <tr>\n",
       "      <th>2</th>\n",
       "      <td>3</td>\n",
       "      <td>1</td>\n",
       "      <td>pt interaction</td>\n",
       "      <td>586404</td>\n",
       "      <td>NaN</td>\n",
       "      <td>2681990.0107938214</td>\n",
       "      <td>1247298.9705903793</td>\n",
       "      <td>NaN</td>\n",
       "      <td>NaN</td>\n",
       "      <td>00:00:00</td>\n",
       "      <td>NaN</td>\n",
       "      <td>NaN</td>\n",
       "      <td>NaN</td>\n",
       "    </tr>\n",
       "    <tr>\n",
       "      <th>3</th>\n",
       "      <td>4</td>\n",
       "      <td>1</td>\n",
       "      <td>pt interaction</td>\n",
       "      <td>4222</td>\n",
       "      <td>NaN</td>\n",
       "      <td>2681934.8161827456</td>\n",
       "      <td>1247302.7661533705</td>\n",
       "      <td>NaN</td>\n",
       "      <td>NaN</td>\n",
       "      <td>00:00:00</td>\n",
       "      <td>NaN</td>\n",
       "      <td>NaN</td>\n",
       "      <td>NaN</td>\n",
       "    </tr>\n",
       "    <tr>\n",
       "      <th>4</th>\n",
       "      <td>5</td>\n",
       "      <td>1</td>\n",
       "      <td>pt interaction</td>\n",
       "      <td>955504</td>\n",
       "      <td>NaN</td>\n",
       "      <td>2683187.8521402166</td>\n",
       "      <td>1248065.21559948</td>\n",
       "      <td>NaN</td>\n",
       "      <td>NaN</td>\n",
       "      <td>00:00:00</td>\n",
       "      <td>NaN</td>\n",
       "      <td>NaN</td>\n",
       "      <td>NaN</td>\n",
       "    </tr>\n",
       "    <tr>\n",
       "      <th>...</th>\n",
       "      <td>...</td>\n",
       "      <td>...</td>\n",
       "      <td>...</td>\n",
       "      <td>...</td>\n",
       "      <td>...</td>\n",
       "      <td>...</td>\n",
       "      <td>...</td>\n",
       "      <td>...</td>\n",
       "      <td>...</td>\n",
       "      <td>...</td>\n",
       "      <td>...</td>\n",
       "      <td>...</td>\n",
       "      <td>...</td>\n",
       "    </tr>\n",
       "    <tr>\n",
       "      <th>1052656</th>\n",
       "      <td>1052657</td>\n",
       "      <td>133776</td>\n",
       "      <td>freight_unloading</td>\n",
       "      <td>35479</td>\n",
       "      <td>26754</td>\n",
       "      <td>2682060.0</td>\n",
       "      <td>1246395.0</td>\n",
       "      <td>30:00:00</td>\n",
       "      <td>NaN</td>\n",
       "      <td>NaN</td>\n",
       "      <td>14:34:42</td>\n",
       "      <td>true</td>\n",
       "      <td>NaN</td>\n",
       "    </tr>\n",
       "    <tr>\n",
       "      <th>1052657</th>\n",
       "      <td>1052658</td>\n",
       "      <td>133777</td>\n",
       "      <td>outside</td>\n",
       "      <td>955137</td>\n",
       "      <td>outside_172</td>\n",
       "      <td>2674949.6031440143</td>\n",
       "      <td>1256659.6554805986</td>\n",
       "      <td>09:04:30</td>\n",
       "      <td>Infinity</td>\n",
       "      <td>NaN</td>\n",
       "      <td>NaN</td>\n",
       "      <td>NaN</td>\n",
       "      <td>NaN</td>\n",
       "    </tr>\n",
       "    <tr>\n",
       "      <th>1052658</th>\n",
       "      <td>1052659</td>\n",
       "      <td>133777</td>\n",
       "      <td>outside</td>\n",
       "      <td>1051610</td>\n",
       "      <td>outside_173</td>\n",
       "      <td>2676371.5836751675</td>\n",
       "      <td>1258109.5280177006</td>\n",
       "      <td>09:07:36</td>\n",
       "      <td>NaN</td>\n",
       "      <td>NaN</td>\n",
       "      <td>NaN</td>\n",
       "      <td>NaN</td>\n",
       "      <td>NaN</td>\n",
       "    </tr>\n",
       "    <tr>\n",
       "      <th>1052659</th>\n",
       "      <td>1052660</td>\n",
       "      <td>133778</td>\n",
       "      <td>outside</td>\n",
       "      <td>656482</td>\n",
       "      <td>outside_12</td>\n",
       "      <td>2672729.0272778366</td>\n",
       "      <td>1252736.3294066396</td>\n",
       "      <td>13:05:42</td>\n",
       "      <td>12.0</td>\n",
       "      <td>NaN</td>\n",
       "      <td>NaN</td>\n",
       "      <td>NaN</td>\n",
       "      <td>NaN</td>\n",
       "    </tr>\n",
       "    <tr>\n",
       "      <th>1052660</th>\n",
       "      <td>1052661</td>\n",
       "      <td>133778</td>\n",
       "      <td>freight_unloading</td>\n",
       "      <td>533846</td>\n",
       "      <td>9472</td>\n",
       "      <td>2682032.0</td>\n",
       "      <td>1248258.0</td>\n",
       "      <td>30:00:00</td>\n",
       "      <td>NaN</td>\n",
       "      <td>NaN</td>\n",
       "      <td>12:18:09</td>\n",
       "      <td>true</td>\n",
       "      <td>NaN</td>\n",
       "    </tr>\n",
       "  </tbody>\n",
       "</table>\n",
       "<p>1052661 rows × 13 columns</p>\n",
       "</div>"
      ],
      "text/plain": [
       "              id  plan_id               type     link     facility                   x                   y  end_time headway_min   max_dur start_time  city typeBeforeCutting\n",
       "0              1        1               home   270549        home4           2679482.0           1237545.0  07:50:56        30.0       NaN        NaN   NaN               NaN\n",
       "1              2        1     pt interaction   617713          NaN    2679299.97008475  1237575.0077440983       NaN         NaN  00:00:00        NaN   NaN               NaN\n",
       "2              3        1     pt interaction   586404          NaN  2681990.0107938214  1247298.9705903793       NaN         NaN  00:00:00        NaN   NaN               NaN\n",
       "3              4        1     pt interaction     4222          NaN  2681934.8161827456  1247302.7661533705       NaN         NaN  00:00:00        NaN   NaN               NaN\n",
       "4              5        1     pt interaction   955504          NaN  2683187.8521402166    1248065.21559948       NaN         NaN  00:00:00        NaN   NaN               NaN\n",
       "...          ...      ...                ...      ...          ...                 ...                 ...       ...         ...       ...        ...   ...               ...\n",
       "1052656  1052657   133776  freight_unloading    35479        26754           2682060.0           1246395.0  30:00:00         NaN       NaN   14:34:42  true               NaN\n",
       "1052657  1052658   133777            outside   955137  outside_172  2674949.6031440143  1256659.6554805986  09:04:30    Infinity       NaN        NaN   NaN               NaN\n",
       "1052658  1052659   133777            outside  1051610  outside_173  2676371.5836751675  1258109.5280177006  09:07:36         NaN       NaN        NaN   NaN               NaN\n",
       "1052659  1052660   133778            outside   656482   outside_12  2672729.0272778366  1252736.3294066396  13:05:42        12.0       NaN        NaN   NaN               NaN\n",
       "1052660  1052661   133778  freight_unloading   533846         9472           2682032.0           1248258.0  30:00:00         NaN       NaN   12:18:09  true               NaN\n",
       "\n",
       "[1052661 rows x 13 columns]"
      ]
     },
     "execution_count": 72,
     "metadata": {},
     "output_type": "execute_result"
    }
   ],
   "source": [
    "# Head of activities dataframe\n",
    "plan_df.activities"
   ]
  },
  {
   "cell_type": "code",
   "execution_count": 73,
   "metadata": {},
   "outputs": [],
   "source": [
    "#plan_df.activities[plan_df.activities['plan_id'] == 1]"
   ]
  },
  {
   "cell_type": "code",
   "execution_count": 74,
   "metadata": {},
   "outputs": [
    {
     "data": {
      "text/plain": [
       "id                         0\n",
       "plan_id                    0\n",
       "type                       0\n",
       "link                       0\n",
       "facility              385067\n",
       "x                          0\n",
       "y                          0\n",
       "end_time              464683\n",
       "headway_min           518845\n",
       "max_dur               667594\n",
       "start_time            712467\n",
       "city                  810649\n",
       "typeBeforeCutting    1051410\n",
       "dtype: int64"
      ]
     },
     "execution_count": 74,
     "metadata": {},
     "output_type": "execute_result"
    }
   ],
   "source": [
    "plan_df.activities.isnull().sum()"
   ]
  },
  {
   "cell_type": "code",
   "execution_count": 75,
   "metadata": {},
   "outputs": [
    {
     "data": {
      "text/plain": [
       "type\n",
       "pt interaction       385067\n",
       "outside              247934\n",
       "home                 206399\n",
       "work                  77309\n",
       "leisure               52304\n",
       "shop                  34409\n",
       "other                 28114\n",
       "education             16500\n",
       "freight_loading        2326\n",
       "freight_unloading      2299\n",
       "Name: count, dtype: int64"
      ]
     },
     "execution_count": 75,
     "metadata": {},
     "output_type": "execute_result"
    }
   ],
   "source": [
    "plan_df.activities['type'].value_counts()"
   ]
  },
  {
   "cell_type": "code",
   "execution_count": 76,
   "metadata": {},
   "outputs": [
    {
     "name": "stderr",
     "output_type": "stream",
     "text": [
      "/tmp/ipykernel_11725/1408306275.py:9: FutureWarning: \n",
      "\n",
      "Passing `palette` without assigning `hue` is deprecated and will be removed in v0.14.0. Assign the `x` variable to `hue` and set `legend=False` for the same effect.\n",
      "\n",
      "  sns.barplot(x=missing_counts_activities.index, y=missing_counts_activities.values, palette=\"pastel\")\n"
     ]
    },
    {
     "data": {
      "image/png": "[encoded data removed]",
      "text/plain": [
       "<Figure size 2000x500 with 1 Axes>"
      ]
     },
     "metadata": {},
     "output_type": "display_data"
    }
   ],
   "source": [
    "# Plot of missing values of activities dataframe\n",
    "missing_counts_activities = plan_df.activities.isnull().sum()\n",
    "\n",
    "# Set the style\n",
    "sns.set(style=\"darkgrid\")\n",
    "\n",
    "# Create a countplot to visualize missing value counts\n",
    "plt.figure(figsize=(20, 5))\n",
    "sns.barplot(x=missing_counts_activities.index, y=missing_counts_activities.values, palette=\"pastel\")\n",
    "plt.xlabel(\"Columns\")\n",
    "plt.ylabel(\"Missing Value Count\")\n",
    "plt.title(\"Missing Value Count by Column of activities dataframe\")\n",
    "plt.show()"
   ]
  },
  {
   "cell_type": "code",
   "execution_count": 77,
   "metadata": {},
   "outputs": [
    {
     "data": {
      "text/plain": [
       "133778"
      ]
     },
     "execution_count": 77,
     "metadata": {},
     "output_type": "execute_result"
    }
   ],
   "source": [
    "# Unique plan_id of tyhe activities dataframe\n",
    "plan_df.activities['plan_id'].nunique()"
   ]
  },
  {
   "cell_type": "markdown",
   "metadata": {},
   "source": [
    "## <font color=\"green\"> Legs Dataframe"
   ]
  },
  {
   "cell_type": "code",
   "execution_count": 78,
   "metadata": {},
   "outputs": [
    {
     "data": {
      "text/plain": [
       "(918883, 6)"
      ]
     },
     "execution_count": 78,
     "metadata": {},
     "output_type": "execute_result"
    }
   ],
   "source": [
    "# Shape of the legs dataframe\n",
    "plan_df.legs.shape"
   ]
  },
  {
   "cell_type": "code",
   "execution_count": 79,
   "metadata": {},
   "outputs": [
    {
     "data": {
      "text/html": [
       "<div>\n",
       "<style scoped>\n",
       "    .dataframe tbody tr th:only-of-type {\n",
       "        vertical-align: middle;\n",
       "    }\n",
       "\n",
       "    .dataframe tbody tr th {\n",
       "        vertical-align: top;\n",
       "    }\n",
       "\n",
       "    .dataframe thead th {\n",
       "        text-align: right;\n",
       "    }\n",
       "</style>\n",
       "<table border=\"1\" class=\"dataframe\">\n",
       "  <thead>\n",
       "    <tr style=\"text-align: right;\">\n",
       "      <th></th>\n",
       "      <th>id</th>\n",
       "      <th>plan_id</th>\n",
       "      <th>mode</th>\n",
       "      <th>dep_time</th>\n",
       "      <th>trav_time</th>\n",
       "      <th>routingMode</th>\n",
       "    </tr>\n",
       "  </thead>\n",
       "  <tbody>\n",
       "    <tr>\n",
       "      <th>0</th>\n",
       "      <td>1</td>\n",
       "      <td>1</td>\n",
       "      <td>access_walk</td>\n",
       "      <td>07:50:56</td>\n",
       "      <td>00:03:20</td>\n",
       "      <td>pt</td>\n",
       "    </tr>\n",
       "    <tr>\n",
       "      <th>1</th>\n",
       "      <td>2</td>\n",
       "      <td>1</td>\n",
       "      <td>pt</td>\n",
       "      <td>07:54:16</td>\n",
       "      <td>00:47:44</td>\n",
       "      <td>pt</td>\n",
       "    </tr>\n",
       "    <tr>\n",
       "      <th>2</th>\n",
       "      <td>3</td>\n",
       "      <td>1</td>\n",
       "      <td>walk</td>\n",
       "      <td>08:42:00</td>\n",
       "      <td>00:00:59</td>\n",
       "      <td>pt</td>\n",
       "    </tr>\n",
       "    <tr>\n",
       "      <th>3</th>\n",
       "      <td>4</td>\n",
       "      <td>1</td>\n",
       "      <td>pt</td>\n",
       "      <td>08:42:59</td>\n",
       "      <td>00:12:00</td>\n",
       "      <td>pt</td>\n",
       "    </tr>\n",
       "    <tr>\n",
       "      <th>4</th>\n",
       "      <td>5</td>\n",
       "      <td>1</td>\n",
       "      <td>walk</td>\n",
       "      <td>08:55:00</td>\n",
       "      <td>00:00:00</td>\n",
       "      <td>pt</td>\n",
       "    </tr>\n",
       "  </tbody>\n",
       "</table>\n",
       "</div>"
      ],
      "text/plain": [
       "   id  plan_id         mode  dep_time trav_time routingMode\n",
       "0   1        1  access_walk  07:50:56  00:03:20          pt\n",
       "1   2        1           pt  07:54:16  00:47:44          pt\n",
       "2   3        1         walk  08:42:00  00:00:59          pt\n",
       "3   4        1           pt  08:42:59  00:12:00          pt\n",
       "4   5        1         walk  08:55:00  00:00:00          pt"
      ]
     },
     "execution_count": 79,
     "metadata": {},
     "output_type": "execute_result"
    }
   ],
   "source": [
    "# Head of the legs dataframe\n",
    "plan_df.legs.head()"
   ]
  },
  {
   "cell_type": "code",
   "execution_count": 80,
   "metadata": {},
   "outputs": [
    {
     "name": "stderr",
     "output_type": "stream",
     "text": [
      "/tmp/ipykernel_11725/863743039.py:9: FutureWarning: \n",
      "\n",
      "Passing `palette` without assigning `hue` is deprecated and will be removed in v0.14.0. Assign the `x` variable to `hue` and set `legend=False` for the same effect.\n",
      "\n",
      "  sns.barplot(x=missing_counts_legs.index, y=missing_counts_legs.values, palette=\"pastel\")\n"
     ]
    },
    {
     "data": {
      "image/png": "[encoded data removed]",
      "text/plain": [
       "<Figure size 700x300 with 1 Axes>"
      ]
     },
     "metadata": {},
     "output_type": "display_data"
    }
   ],
   "source": [
    "# Plot of missing values of legs dataframe\n",
    "missing_counts_legs = plan_df.legs.isnull().sum()\n",
    "\n",
    "# Set the style\n",
    "sns.set(style=\"dark\")\n",
    "\n",
    "# Create a countplot to visualize missing value counts\n",
    "plt.figure(figsize=(7, 3))\n",
    "sns.barplot(x=missing_counts_legs.index, y=missing_counts_legs.values, palette=\"pastel\")\n",
    "plt.xlabel(\"Columns\")\n",
    "plt.ylabel(\"Missing Value Count\")\n",
    "plt.title(\"Missing Value Count by Column of legs dataframe\")\n",
    "plt.show()"
   ]
  },
  {
   "cell_type": "markdown",
   "metadata": {},
   "source": [
    "## <font color=\"green\"> Persons Dataframe"
   ]
  },
  {
   "cell_type": "code",
   "execution_count": 81,
   "metadata": {},
   "outputs": [
    {
     "data": {
      "text/plain": [
       "(133778, 22)"
      ]
     },
     "execution_count": 81,
     "metadata": {},
     "output_type": "execute_result"
    }
   ],
   "source": [
    "# Shape of persons dataframe\n",
    "plan_df.persons.shape"
   ]
  },
  {
   "cell_type": "code",
   "execution_count": 82,
   "metadata": {},
   "outputs": [
    {
     "name": "stderr",
     "output_type": "stream",
     "text": [
      "/tmp/ipykernel_11725/1571534594.py:9: FutureWarning: \n",
      "\n",
      "Passing `palette` without assigning `hue` is deprecated and will be removed in v0.14.0. Assign the `x` variable to `hue` and set `legend=False` for the same effect.\n",
      "\n",
      "  sns.barplot(x=missing_counts_persons.index, y=missing_counts_persons.values, palette=\"pastel\")\n"
     ]
    },
    {
     "data": {
      "image/png": "[encoded data removed]",
      "text/plain": [
       "<Figure size 3700x500 with 1 Axes>"
      ]
     },
     "metadata": {},
     "output_type": "display_data"
    }
   ],
   "source": [
    "# Plot of missing values of persons dataframe\n",
    "missing_counts_persons = plan_df.persons.isnull().sum()\n",
    "\n",
    "# Set the style\n",
    "sns.set(style=\"ticks\")\n",
    "\n",
    "# Create a countplot to visualize missing value counts\n",
    "plt.figure(figsize=(37, 5))\n",
    "sns.barplot(x=missing_counts_persons.index, y=missing_counts_persons.values, palette=\"pastel\")\n",
    "plt.xlabel(\"Columns\")\n",
    "plt.ylabel(\"Missing Value Count\")\n",
    "plt.title(\"Missing Value Count by Column of persons dataframe\")\n",
    "plt.show()"
   ]
  },
  {
   "cell_type": "code",
   "execution_count": 83,
   "metadata": {},
   "outputs": [],
   "source": [
    "# Drop rows with missin values of age columns in persons dataframe\n",
    "plan_df.persons.dropna(subset=['age'], inplace=True)"
   ]
  },
  {
   "cell_type": "code",
   "execution_count": 84,
   "metadata": {},
   "outputs": [
    {
     "data": {
      "text/plain": [
       "(128263, 22)"
      ]
     },
     "execution_count": 84,
     "metadata": {},
     "output_type": "execute_result"
    }
   ],
   "source": [
    "# Shape of dropped datafarme\n",
    "plan_df.persons.shape"
   ]
  },
  {
   "cell_type": "code",
   "execution_count": 85,
   "metadata": {},
   "outputs": [
    {
     "data": {
      "text/html": [
       "<div>\n",
       "<style scoped>\n",
       "    .dataframe tbody tr th:only-of-type {\n",
       "        vertical-align: middle;\n",
       "    }\n",
       "\n",
       "    .dataframe tbody tr th {\n",
       "        vertical-align: top;\n",
       "    }\n",
       "\n",
       "    .dataframe thead th {\n",
       "        text-align: right;\n",
       "    }\n",
       "</style>\n",
       "<table border=\"1\" class=\"dataframe\">\n",
       "  <thead>\n",
       "    <tr style=\"text-align: right;\">\n",
       "      <th></th>\n",
       "      <th>id</th>\n",
       "      <th>age</th>\n",
       "      <th>bikeAvailability</th>\n",
       "      <th>carAvail</th>\n",
       "      <th>employed</th>\n",
       "      <th>hasLicense</th>\n",
       "      <th>home_x</th>\n",
       "      <th>home_y</th>\n",
       "      <th>isCarPassenger</th>\n",
       "      <th>isOutside</th>\n",
       "      <th>mzHeadId</th>\n",
       "      <th>mzPersonId</th>\n",
       "      <th>ptHasGA</th>\n",
       "      <th>ptHasHalbtax</th>\n",
       "      <th>ptHasStrecke</th>\n",
       "      <th>ptHasVerbund</th>\n",
       "      <th>sex</th>\n",
       "      <th>spRegion</th>\n",
       "      <th>statpopHouseholdId</th>\n",
       "      <th>statpopPersonId</th>\n",
       "      <th>isFreight</th>\n",
       "      <th>type</th>\n",
       "    </tr>\n",
       "  </thead>\n",
       "  <tbody>\n",
       "    <tr>\n",
       "      <th>0</th>\n",
       "      <td>10</td>\n",
       "      <td>30</td>\n",
       "      <td>FOR_SOME</td>\n",
       "      <td>never</td>\n",
       "      <td>true</td>\n",
       "      <td>no</td>\n",
       "      <td>2679482.0</td>\n",
       "      <td>1237545.0</td>\n",
       "      <td>false</td>\n",
       "      <td>true</td>\n",
       "      <td>374775</td>\n",
       "      <td>281604</td>\n",
       "      <td>true</td>\n",
       "      <td>false</td>\n",
       "      <td>false</td>\n",
       "      <td>false</td>\n",
       "      <td>f</td>\n",
       "      <td>1</td>\n",
       "      <td>201200010000137</td>\n",
       "      <td>201240012081086</td>\n",
       "      <td>NaN</td>\n",
       "      <td>NaN</td>\n",
       "    </tr>\n",
       "    <tr>\n",
       "      <th>1</th>\n",
       "      <td>100</td>\n",
       "      <td>3</td>\n",
       "      <td>FOR_SOME</td>\n",
       "      <td>never</td>\n",
       "      <td>false</td>\n",
       "      <td>no</td>\n",
       "      <td>NaN</td>\n",
       "      <td>NaN</td>\n",
       "      <td>true</td>\n",
       "      <td>false</td>\n",
       "      <td>324961</td>\n",
       "      <td>-1</td>\n",
       "      <td>true</td>\n",
       "      <td>true</td>\n",
       "      <td>true</td>\n",
       "      <td>true</td>\n",
       "      <td>f</td>\n",
       "      <td>1</td>\n",
       "      <td>201200010000049</td>\n",
       "      <td>201240013385042</td>\n",
       "      <td>NaN</td>\n",
       "      <td>NaN</td>\n",
       "    </tr>\n",
       "    <tr>\n",
       "      <th>2</th>\n",
       "      <td>1000</td>\n",
       "      <td>48</td>\n",
       "      <td>FOR_SOME</td>\n",
       "      <td>never</td>\n",
       "      <td>true</td>\n",
       "      <td>yes</td>\n",
       "      <td>2678966.0</td>\n",
       "      <td>1235785.0</td>\n",
       "      <td>false</td>\n",
       "      <td>true</td>\n",
       "      <td>137604</td>\n",
       "      <td>496052</td>\n",
       "      <td>false</td>\n",
       "      <td>false</td>\n",
       "      <td>false</td>\n",
       "      <td>false</td>\n",
       "      <td>f</td>\n",
       "      <td>1</td>\n",
       "      <td>201200010000745</td>\n",
       "      <td>201240009138483</td>\n",
       "      <td>NaN</td>\n",
       "      <td>NaN</td>\n",
       "    </tr>\n",
       "    <tr>\n",
       "      <th>3</th>\n",
       "      <td>1000157</td>\n",
       "      <td>52</td>\n",
       "      <td>FOR_ALL</td>\n",
       "      <td>always</td>\n",
       "      <td>true</td>\n",
       "      <td>yes</td>\n",
       "      <td>2695732.0</td>\n",
       "      <td>1259962.0</td>\n",
       "      <td>false</td>\n",
       "      <td>true</td>\n",
       "      <td>275258</td>\n",
       "      <td>212563</td>\n",
       "      <td>false</td>\n",
       "      <td>false</td>\n",
       "      <td>false</td>\n",
       "      <td>true</td>\n",
       "      <td>f</td>\n",
       "      <td>1</td>\n",
       "      <td>201202300043212</td>\n",
       "      <td>201240010759877</td>\n",
       "      <td>NaN</td>\n",
       "      <td>NaN</td>\n",
       "    </tr>\n",
       "    <tr>\n",
       "      <th>4</th>\n",
       "      <td>1000183</td>\n",
       "      <td>32</td>\n",
       "      <td>FOR_ALL</td>\n",
       "      <td>always</td>\n",
       "      <td>true</td>\n",
       "      <td>yes</td>\n",
       "      <td>2696352.0</td>\n",
       "      <td>1261689.0</td>\n",
       "      <td>false</td>\n",
       "      <td>true</td>\n",
       "      <td>410086</td>\n",
       "      <td>130607</td>\n",
       "      <td>false</td>\n",
       "      <td>true</td>\n",
       "      <td>false</td>\n",
       "      <td>false</td>\n",
       "      <td>f</td>\n",
       "      <td>1</td>\n",
       "      <td>201202300041144</td>\n",
       "      <td>201240010762942</td>\n",
       "      <td>NaN</td>\n",
       "      <td>NaN</td>\n",
       "    </tr>\n",
       "  </tbody>\n",
       "</table>\n",
       "</div>"
      ],
      "text/plain": [
       "        id age bikeAvailability carAvail employed hasLicense     home_x     home_y isCarPassenger isOutside mzHeadId mzPersonId ptHasGA ptHasHalbtax ptHasStrecke ptHasVerbund sex spRegion statpopHouseholdId  statpopPersonId isFreight type\n",
       "0       10  30         FOR_SOME    never     true         no  2679482.0  1237545.0          false      true   374775     281604    true        false        false        false   f        1    201200010000137  201240012081086       NaN  NaN\n",
       "1      100   3         FOR_SOME    never    false         no        NaN        NaN           true     false   324961         -1    true         true         true         true   f        1    201200010000049  201240013385042       NaN  NaN\n",
       "2     1000  48         FOR_SOME    never     true        yes  2678966.0  1235785.0          false      true   137604     496052   false        false        false        false   f        1    201200010000745  201240009138483       NaN  NaN\n",
       "3  1000157  52          FOR_ALL   always     true        yes  2695732.0  1259962.0          false      true   275258     212563   false        false        false         true   f        1    201202300043212  201240010759877       NaN  NaN\n",
       "4  1000183  32          FOR_ALL   always     true        yes  2696352.0  1261689.0          false      true   410086     130607   false         true        false        false   f        1    201202300041144  201240010762942       NaN  NaN"
      ]
     },
     "execution_count": 85,
     "metadata": {},
     "output_type": "execute_result"
    }
   ],
   "source": [
    "# Head of dropped persons dataframe\n",
    "plan_df.persons.head()"
   ]
  },
  {
   "cell_type": "code",
   "execution_count": 86,
   "metadata": {},
   "outputs": [
    {
     "data": {
      "text/plain": [
       "spRegion\n",
       "1    106524\n",
       "3     17941\n",
       "2      3798\n",
       "Name: count, dtype: int64"
      ]
     },
     "execution_count": 86,
     "metadata": {},
     "output_type": "execute_result"
    }
   ],
   "source": [
    "# Value counts of spRegion of persons dataframe\n",
    "plan_df.persons['spRegion'].value_counts()"
   ]
  },
  {
   "cell_type": "code",
   "execution_count": 87,
   "metadata": {},
   "outputs": [
    {
     "data": {
      "text/plain": [
       "id                         0\n",
       "age                        0\n",
       "bikeAvailability           0\n",
       "carAvail                   0\n",
       "employed                   0\n",
       "hasLicense                 0\n",
       "home_x                  9413\n",
       "home_y                  9413\n",
       "isCarPassenger             0\n",
       "isOutside                  0\n",
       "mzHeadId                   0\n",
       "mzPersonId                 0\n",
       "ptHasGA                    0\n",
       "ptHasHalbtax               0\n",
       "ptHasStrecke               0\n",
       "ptHasVerbund               0\n",
       "sex                        0\n",
       "spRegion                   0\n",
       "statpopHouseholdId         0\n",
       "statpopPersonId            0\n",
       "isFreight             128263\n",
       "type                  128263\n",
       "dtype: int64"
      ]
     },
     "execution_count": 87,
     "metadata": {},
     "output_type": "execute_result"
    }
   ],
   "source": [
    "plan_df.persons.isnull().sum()"
   ]
  },
  {
   "cell_type": "code",
   "execution_count": 88,
   "metadata": {},
   "outputs": [
    {
     "data": {
      "text/plain": [
       "(128263, 22)"
      ]
     },
     "execution_count": 88,
     "metadata": {},
     "output_type": "execute_result"
    }
   ],
   "source": [
    "plan_df.persons.shape"
   ]
  },
  {
   "cell_type": "markdown",
   "metadata": {},
   "source": [
    "## <font color=\"green\"> Plan Dataframe"
   ]
  },
  {
   "cell_type": "code",
   "execution_count": 89,
   "metadata": {},
   "outputs": [
    {
     "data": {
      "text/plain": [
       "(133778, 3)"
      ]
     },
     "execution_count": 89,
     "metadata": {},
     "output_type": "execute_result"
    }
   ],
   "source": [
    "# Shape of plans dataframe\n",
    "plan_df.plans.shape"
   ]
  },
  {
   "cell_type": "code",
   "execution_count": 90,
   "metadata": {},
   "outputs": [
    {
     "data": {
      "text/html": [
       "<div>\n",
       "<style scoped>\n",
       "    .dataframe tbody tr th:only-of-type {\n",
       "        vertical-align: middle;\n",
       "    }\n",
       "\n",
       "    .dataframe tbody tr th {\n",
       "        vertical-align: top;\n",
       "    }\n",
       "\n",
       "    .dataframe thead th {\n",
       "        text-align: right;\n",
       "    }\n",
       "</style>\n",
       "<table border=\"1\" class=\"dataframe\">\n",
       "  <thead>\n",
       "    <tr style=\"text-align: right;\">\n",
       "      <th></th>\n",
       "      <th>id</th>\n",
       "      <th>person_id</th>\n",
       "      <th>selected</th>\n",
       "    </tr>\n",
       "  </thead>\n",
       "  <tbody>\n",
       "    <tr>\n",
       "      <th>0</th>\n",
       "      <td>1</td>\n",
       "      <td>10</td>\n",
       "      <td>yes</td>\n",
       "    </tr>\n",
       "    <tr>\n",
       "      <th>1</th>\n",
       "      <td>2</td>\n",
       "      <td>100</td>\n",
       "      <td>yes</td>\n",
       "    </tr>\n",
       "    <tr>\n",
       "      <th>2</th>\n",
       "      <td>3</td>\n",
       "      <td>1000</td>\n",
       "      <td>yes</td>\n",
       "    </tr>\n",
       "    <tr>\n",
       "      <th>3</th>\n",
       "      <td>4</td>\n",
       "      <td>1000157</td>\n",
       "      <td>yes</td>\n",
       "    </tr>\n",
       "    <tr>\n",
       "      <th>4</th>\n",
       "      <td>5</td>\n",
       "      <td>1000183</td>\n",
       "      <td>yes</td>\n",
       "    </tr>\n",
       "  </tbody>\n",
       "</table>\n",
       "</div>"
      ],
      "text/plain": [
       "   id person_id selected\n",
       "0   1        10      yes\n",
       "1   2       100      yes\n",
       "2   3      1000      yes\n",
       "3   4   1000157      yes\n",
       "4   5   1000183      yes"
      ]
     },
     "execution_count": 90,
     "metadata": {},
     "output_type": "execute_result"
    }
   ],
   "source": [
    "# Head of plans dataframe\n",
    "plan_df.plans.head()"
   ]
  },
  {
   "cell_type": "code",
   "execution_count": 91,
   "metadata": {},
   "outputs": [
    {
     "data": {
      "text/plain": [
       "id           0\n",
       "person_id    0\n",
       "selected     0\n",
       "dtype: int64"
      ]
     },
     "execution_count": 91,
     "metadata": {},
     "output_type": "execute_result"
    }
   ],
   "source": [
    "# Missing values of plans dataframe\n",
    "plan_df.plans.isnull().sum()"
   ]
  },
  {
   "cell_type": "code",
   "execution_count": 92,
   "metadata": {},
   "outputs": [
    {
     "name": "stderr",
     "output_type": "stream",
     "text": [
      "/tmp/ipykernel_11725/2969688155.py:9: FutureWarning: \n",
      "\n",
      "Passing `palette` without assigning `hue` is deprecated and will be removed in v0.14.0. Assign the `x` variable to `hue` and set `legend=False` for the same effect.\n",
      "\n",
      "  sns.barplot(x=missing_counts_plans.index, y=missing_counts_plans.values, palette=\"pastel\")\n"
     ]
    },
    {
     "data": {
      "image/png": "[encoded data removed]",
      "text/plain": [
       "<Figure size 500x200 with 1 Axes>"
      ]
     },
     "metadata": {},
     "output_type": "display_data"
    }
   ],
   "source": [
    "# Plot of missing values of plans dataframe\n",
    "missing_counts_plans = plan_df.plans.isnull().sum()\n",
    "\n",
    "# Set the style\n",
    "sns.set(style=\"white\")\n",
    "\n",
    "# Create a countplot to visualize missing value counts\n",
    "plt.figure(figsize=(5, 2))\n",
    "sns.barplot(x=missing_counts_plans.index, y=missing_counts_plans.values, palette=\"pastel\")\n",
    "plt.xlabel(\"Columns\")\n",
    "plt.ylabel(\"Missing Value Count\")\n",
    "plt.title(\"Missing Value Count by Column of plans dataframe\")\n",
    "plt.show()"
   ]
  },
  {
   "cell_type": "code",
   "execution_count": 93,
   "metadata": {},
   "outputs": [
    {
     "data": {
      "text/plain": [
       "selected\n",
       "yes    133778\n",
       "Name: count, dtype: int64"
      ]
     },
     "execution_count": 93,
     "metadata": {},
     "output_type": "execute_result"
    }
   ],
   "source": [
    "# Unique value of selected column of plans dataframe\n",
    "plan_df.plans['selected'].value_counts()"
   ]
  },
  {
   "cell_type": "markdown",
   "metadata": {},
   "source": [
    "## <font color=\"green\"> Routes Dataframe"
   ]
  },
  {
   "cell_type": "code",
   "execution_count": 94,
   "metadata": {},
   "outputs": [
    {
     "data": {
      "text/plain": [
       "(722610, 9)"
      ]
     },
     "execution_count": 94,
     "metadata": {},
     "output_type": "execute_result"
    }
   ],
   "source": [
    "# Shape of the routes dataframe\n",
    "plan_df.routes.shape"
   ]
  },
  {
   "cell_type": "code",
   "execution_count": 95,
   "metadata": {},
   "outputs": [
    {
     "data": {
      "text/html": [
       "<div>\n",
       "<style scoped>\n",
       "    .dataframe tbody tr th:only-of-type {\n",
       "        vertical-align: middle;\n",
       "    }\n",
       "\n",
       "    .dataframe tbody tr th {\n",
       "        vertical-align: top;\n",
       "    }\n",
       "\n",
       "    .dataframe thead th {\n",
       "        text-align: right;\n",
       "    }\n",
       "</style>\n",
       "<table border=\"1\" class=\"dataframe\">\n",
       "  <thead>\n",
       "    <tr style=\"text-align: right;\">\n",
       "      <th></th>\n",
       "      <th>id</th>\n",
       "      <th>leg_id</th>\n",
       "      <th>value</th>\n",
       "      <th>type</th>\n",
       "      <th>start_link</th>\n",
       "      <th>end_link</th>\n",
       "      <th>trav_time</th>\n",
       "      <th>distance</th>\n",
       "      <th>vehicleRefId</th>\n",
       "    </tr>\n",
       "  </thead>\n",
       "  <tbody>\n",
       "    <tr>\n",
       "      <th>0</th>\n",
       "      <td>1</td>\n",
       "      <td>1</td>\n",
       "      <td>None</td>\n",
       "      <td>generic</td>\n",
       "      <td>270549</td>\n",
       "      <td>617713</td>\n",
       "      <td>00:03:20</td>\n",
       "      <td>239.83275324790645</td>\n",
       "      <td>NaN</td>\n",
       "    </tr>\n",
       "    <tr>\n",
       "      <th>1</th>\n",
       "      <td>2</td>\n",
       "      <td>3</td>\n",
       "      <td>None</td>\n",
       "      <td>generic</td>\n",
       "      <td>586404</td>\n",
       "      <td>4222</td>\n",
       "      <td>00:00:59</td>\n",
       "      <td>71.92245024668337</td>\n",
       "      <td>NaN</td>\n",
       "    </tr>\n",
       "    <tr>\n",
       "      <th>2</th>\n",
       "      <td>3</td>\n",
       "      <td>5</td>\n",
       "      <td>None</td>\n",
       "      <td>generic</td>\n",
       "      <td>955504</td>\n",
       "      <td>955475</td>\n",
       "      <td>00:00:00</td>\n",
       "      <td>0.0</td>\n",
       "      <td>NaN</td>\n",
       "    </tr>\n",
       "    <tr>\n",
       "      <th>3</th>\n",
       "      <td>4</td>\n",
       "      <td>7</td>\n",
       "      <td>None</td>\n",
       "      <td>generic</td>\n",
       "      <td>771011</td>\n",
       "      <td>166874</td>\n",
       "      <td>00:00:26</td>\n",
       "      <td>30.317917906969893</td>\n",
       "      <td>NaN</td>\n",
       "    </tr>\n",
       "    <tr>\n",
       "      <th>4</th>\n",
       "      <td>5</td>\n",
       "      <td>8</td>\n",
       "      <td>None</td>\n",
       "      <td>generic</td>\n",
       "      <td>166874</td>\n",
       "      <td>166874</td>\n",
       "      <td>00:00:00</td>\n",
       "      <td>0.0</td>\n",
       "      <td>NaN</td>\n",
       "    </tr>\n",
       "  </tbody>\n",
       "</table>\n",
       "</div>"
      ],
      "text/plain": [
       "   id  leg_id value     type start_link end_link trav_time            distance vehicleRefId\n",
       "0   1       1  None  generic     270549   617713  00:03:20  239.83275324790645          NaN\n",
       "1   2       3  None  generic     586404     4222  00:00:59   71.92245024668337          NaN\n",
       "2   3       5  None  generic     955504   955475  00:00:00                 0.0          NaN\n",
       "3   4       7  None  generic     771011   166874  00:00:26  30.317917906969893          NaN\n",
       "4   5       8  None  generic     166874   166874  00:00:00                 0.0          NaN"
      ]
     },
     "execution_count": 95,
     "metadata": {},
     "output_type": "execute_result"
    }
   ],
   "source": [
    "# Head of the routes dataframe\n",
    "plan_df.routes.head()"
   ]
  },
  {
   "cell_type": "code",
   "execution_count": 96,
   "metadata": {},
   "outputs": [
    {
     "name": "stderr",
     "output_type": "stream",
     "text": [
      "/tmp/ipykernel_11725/2158357896.py:9: FutureWarning: \n",
      "\n",
      "Passing `palette` without assigning `hue` is deprecated and will be removed in v0.14.0. Assign the `x` variable to `hue` and set `legend=False` for the same effect.\n",
      "\n",
      "  sns.barplot(x=missing_counts_routes.index, y=missing_counts_routes.values, palette=\"pastel\")\n"
     ]
    },
    {
     "data": {
      "image/png": "[encoded data removed]",
      "text/plain": [
       "<Figure size 1000x400 with 1 Axes>"
      ]
     },
     "metadata": {},
     "output_type": "display_data"
    }
   ],
   "source": [
    "# Plot of missing values of routes dataframe\n",
    "missing_counts_routes = plan_df.routes.isnull().sum()\n",
    "\n",
    "# Set the style\n",
    "sns.set(style=\"darkgrid\")\n",
    "\n",
    "# Create a countplot to visualize missing value counts\n",
    "plt.figure(figsize=(10, 4))\n",
    "sns.barplot(x=missing_counts_routes.index, y=missing_counts_routes.values, palette=\"pastel\")\n",
    "plt.xlabel(\"Columns\")\n",
    "plt.ylabel(\"Missing Value Count\")\n",
    "plt.title(\"Missing Value Count by Column of routes dataframe\")\n",
    "plt.show()"
   ]
  },
  {
   "cell_type": "markdown",
   "metadata": {},
   "source": [
    "### <font color=\"orange\"> Task 01: Age Distribution"
   ]
  },
  {
   "cell_type": "code",
   "execution_count": 97,
   "metadata": {},
   "outputs": [],
   "source": [
    "# Change type of age column of persons dartaframe to integer\n",
    "plan_df.persons['age'] = plan_df.persons['age'].astype(int)"
   ]
  },
  {
   "cell_type": "code",
   "execution_count": 98,
   "metadata": {},
   "outputs": [
    {
     "name": "stderr",
     "output_type": "stream",
     "text": [
      "/tmp/ipykernel_11725/885247551.py:7: FutureWarning: \n",
      "\n",
      "Passing `palette` without assigning `hue` is deprecated and will be removed in v0.14.0. Assign the `x` variable to `hue` and set `legend=False` for the same effect.\n",
      "\n",
      "  sns.countplot(data=plan_df.persons, x=\"age\", palette=\"pastel\", edgecolor=\".6\")\n"
     ]
    },
    {
     "data": {
      "image/png": "[encoded data removed]",
      "text/plain": [
       "<Figure size 2000x600 with 1 Axes>"
      ]
     },
     "metadata": {},
     "output_type": "display_data"
    }
   ],
   "source": [
    "# Plot age distribution of the persons\n",
    "# set sns style\n",
    "sns.set(style=\"darkgrid\")\n",
    "plt.figure(figsize=(20, 6))\n",
    "\n",
    "# Create a countplot for the 'age' column\n",
    "sns.countplot(data=plan_df.persons, x=\"age\", palette=\"pastel\", edgecolor=\".6\")\n",
    "\n",
    "# Add labels and a title to the plot\n",
    "plt.xlabel(\"Age\")\n",
    "plt.ylabel(\"Frequency\")\n",
    "plt.title(\"Distribution of Age\")\n",
    "\n",
    "# Set the x-axis and y-axis \n",
    "max_frequency = plan_df.persons['age'].value_counts().iloc[0] + 50\n",
    "plt.ylim(0, max_frequency) \n",
    "xticks_range = range(0, 100, 5)\n",
    "xtick_labels = range(0, 100, 5)\n",
    "plt.xticks(xticks_range, xtick_labels)\n",
    "plt.yticks()\n",
    "\n",
    "# Show the plot\n",
    "plt.show()"
   ]
  },
  {
   "cell_type": "code",
   "execution_count": 99,
   "metadata": {},
   "outputs": [
    {
     "data": {
      "text/plain": [
       "age\n",
       "32    2530\n",
       "45    2514\n",
       "34    2491\n",
       "44    2456\n",
       "31    2434\n",
       "Name: count, dtype: int64"
      ]
     },
     "execution_count": 99,
     "metadata": {},
     "output_type": "execute_result"
    }
   ],
   "source": [
    "# Head of value counts of age column of persons dataframe\n",
    "plan_df.persons['age'].value_counts().head()"
   ]
  },
  {
   "cell_type": "code",
   "execution_count": 100,
   "metadata": {},
   "outputs": [
    {
     "name": "stderr",
     "output_type": "stream",
     "text": [
      "/tmp/ipykernel_11725/4227037069.py:9: FutureWarning: \n",
      "\n",
      "Passing `palette` without assigning `hue` is deprecated and will be removed in v0.14.0. Assign the `x` variable to `hue` and set `legend=False` for the same effect.\n",
      "\n",
      "  sns.countplot(data=plan_df_higher_six, x=\"age\", palette=\"pastel\", edgecolor=\".6\")\n"
     ]
    },
    {
     "data": {
      "image/png": "[encoded data removed]",
      "text/plain": [
       "<Figure size 2000x600 with 1 Axes>"
      ]
     },
     "metadata": {},
     "output_type": "display_data"
    }
   ],
   "source": [
    "# Drop persons with lower than 6 years old from persons dataframe and plot again age distribution\n",
    "plan_df_higher_six = plan_df.persons[plan_df.persons['age'] >= 6]\n",
    "\n",
    "# set sns style\n",
    "sns.set(style=\"darkgrid\")\n",
    "plt.figure(figsize=(20, 6))\n",
    "\n",
    "# Create a countplot for the 'age' column\n",
    "sns.countplot(data=plan_df_higher_six, x=\"age\", palette=\"pastel\", edgecolor=\".6\")\n",
    "\n",
    "\n",
    "# Add labels and a title to the plot\n",
    "plt.xlabel(\"Age\")\n",
    "plt.ylabel(\"Frequency\")\n",
    "plt.title(\"Distribution of Age\")\n",
    "\n",
    "# Set the x-axis and y-axis \n",
    "max_frequency = plan_df_higher_six['age'].value_counts().iloc[0] + 50\n",
    "plt.ylim(0, max_frequency) \n",
    "xticks_range = range(4, 100, 5)\n",
    "plt.xticks(xticks_range)\n",
    "plt.yticks()\n",
    "\n",
    "# Show the plot\n",
    "plt.show()"
   ]
  },
  {
   "cell_type": "code",
   "execution_count": 101,
   "metadata": {},
   "outputs": [
    {
     "data": {
      "image/png": "[encoded data removed]",
      "text/plain": [
       "<Figure size 2000x600 with 1 Axes>"
      ]
     },
     "metadata": {},
     "output_type": "display_data"
    }
   ],
   "source": [
    "# Plot histogram of the ages of persons with higher than 6 years old\n",
    "num_bins = 15\n",
    "\n",
    "# Set sns style\n",
    "sns.set(style=\"whitegrid\")\n",
    "plt.figure(figsize=(20, 6))\n",
    "\n",
    "# Create a histogram with specified number of bins\n",
    "plt.hist(plan_df_higher_six['age'], bins=num_bins, color=\"skyblue\", edgecolor=\"k\")\n",
    "\n",
    "\n",
    "# Add labels and a title to the plot\n",
    "plt.xlabel(\"Bins\")\n",
    "plt.ylabel(\"Frequency\")\n",
    "plt.title(\"Distribution of Age\")\n",
    "xticks_range = range(0, 100, 10)\n",
    "plt.xticks(xticks_range)\n",
    "\n",
    "# Show the plot\n",
    "plt.show()"
   ]
  },
  {
   "cell_type": "markdown",
   "metadata": {},
   "source": [
    "### <font color=\"orange\"> Task 2: Sex Distribution </font>"
   ]
  },
  {
   "cell_type": "code",
   "execution_count": 102,
   "metadata": {},
   "outputs": [
    {
     "data": {
      "image/png": "[encoded data removed]",
      "text/plain": [
       "<Figure size 640x480 with 1 Axes>"
      ]
     },
     "metadata": {},
     "output_type": "display_data"
    }
   ],
   "source": [
    "# Sex Distribution of the persons dataframe\n",
    "labels = gender_counts = plan_df.persons['sex'].value_counts().index\n",
    "sizes = gender_counts = plan_df.persons['sex'].value_counts()\n",
    "\n",
    "# Create a figure and axes\n",
    "fig, ax = plt.subplots()\n",
    "\n",
    "# Set the colors of pie chart\n",
    "colors = ['orange', 'blue']\n",
    "\n",
    "# Set the background color of the plot\n",
    "fig.set_facecolor('white')  \n",
    "\n",
    "# Create the pie chart\n",
    "ax.pie(sizes, labels=labels, colors=colors, autopct='%1.1f%%', startangle=90)\n",
    "\n",
    "# Add a title\n",
    "plt.title(\"Sex Distribution\")\n",
    "\n",
    "# Show the plot\n",
    "plt.show()"
   ]
  },
  {
   "cell_type": "markdown",
   "metadata": {},
   "source": [
    "### <font color=\"orange\"> Task 03: Activity Type Distribution <font>"
   ]
  },
  {
   "cell_type": "code",
   "execution_count": 103,
   "metadata": {},
   "outputs": [
    {
     "name": "stderr",
     "output_type": "stream",
     "text": [
      "/tmp/ipykernel_11725/3542718516.py:7: FutureWarning: \n",
      "\n",
      "Passing `palette` without assigning `hue` is deprecated and will be removed in v0.14.0. Assign the `x` variable to `hue` and set `legend=False` for the same effect.\n",
      "\n",
      "  sns.countplot(data=plan_df.activities, x=\"type\", palette=\"pastel\", edgecolor=\".6\")\n"
     ]
    },
    {
     "data": {
      "image/png": "[encoded data removed]",
      "text/plain": [
       "<Figure size 2000x600 with 1 Axes>"
      ]
     },
     "metadata": {},
     "output_type": "display_data"
    }
   ],
   "source": [
    "# Plot activity types distribution of the activities dataframe\n",
    "# set sns style\n",
    "sns.set(style=\"darkgrid\")\n",
    "plt.figure(figsize=(20, 6))\n",
    "\n",
    "# Create a countplot for the 'sex' column with a circular aspect\n",
    "sns.countplot(data=plan_df.activities, x=\"type\", palette=\"pastel\", edgecolor=\".6\")\n",
    "\n",
    "\n",
    "# Add labels and a title to the plot\n",
    "plt.xlabel(\"Activity\")\n",
    "plt.ylabel(\"Frequency\")\n",
    "plt.title(\"Distribution of Activity Types\")\n",
    "\n",
    "# Set the x-axis and y-axis \n",
    "max_frequency = plan_df.activities['type'].value_counts().iloc[0] + 50\n",
    "plt.ylim(0, max_frequency) \n",
    "xticks_range = range(0, 10)\n",
    "plt.xticks(xticks_range)\n",
    "plt.yticks()\n",
    "\n",
    "# Show the plot\n",
    "plt.show()"
   ]
  },
  {
   "cell_type": "code",
   "execution_count": 104,
   "metadata": {},
   "outputs": [
    {
     "data": {
      "text/plain": [
       "type\n",
       "pt interaction       385067\n",
       "outside              247934\n",
       "home                 206399\n",
       "work                  77309\n",
       "leisure               52304\n",
       "shop                  34409\n",
       "other                 28114\n",
       "education             16500\n",
       "freight_loading        2326\n",
       "freight_unloading      2299\n",
       "Name: count, dtype: int64"
      ]
     },
     "execution_count": 104,
     "metadata": {},
     "output_type": "execute_result"
    }
   ],
   "source": [
    "# Activity types value counts\n",
    "plan_df.activities['type'].value_counts()"
   ]
  },
  {
   "cell_type": "markdown",
   "metadata": {},
   "source": [
    "### <font color=\"orange\"> Task 04: Trip Chain Distribution"
   ]
  },
  {
   "cell_type": "code",
   "execution_count": 105,
   "metadata": {},
   "outputs": [],
   "source": [
    "# Replacement dictionary\n",
    "replacements = {\n",
    "    'home': 'H',\n",
    "    'education': 'E',\n",
    "    'pt interaction': 'PT',\n",
    "    'outside': 'OU',\n",
    "    'leisure': 'L',\n",
    "    'other': 'O',\n",
    "    'shop': 'S',\n",
    "    'work': 'W',\n",
    "    'freight_loading': 'FL',\n",
    "    'freight_unloading': 'FU'\n",
    "}"
   ]
  },
  {
   "cell_type": "code",
   "execution_count": 106,
   "metadata": {},
   "outputs": [],
   "source": [
    "# Create a new column with short form of activity types\n",
    "plan_df.activities['short_type'] = plan_df.activities['type'].replace(replacements)"
   ]
  },
  {
   "cell_type": "code",
   "execution_count": 107,
   "metadata": {},
   "outputs": [],
   "source": [
    "# Eliminate PT from activities dataframe\n",
    "clean_activities_df = plan_df.activities[plan_df.activities['short_type'] != 'PT']"
   ]
  },
  {
   "cell_type": "code",
   "execution_count": 108,
   "metadata": {},
   "outputs": [
    {
     "data": {
      "text/plain": [
       "(667594, 14)"
      ]
     },
     "execution_count": 108,
     "metadata": {},
     "output_type": "execute_result"
    }
   ],
   "source": [
    "clean_activities_df.shape"
   ]
  },
  {
   "cell_type": "code",
   "execution_count": 109,
   "metadata": {},
   "outputs": [
    {
     "data": {
      "text/html": [
       "<div>\n",
       "<style scoped>\n",
       "    .dataframe tbody tr th:only-of-type {\n",
       "        vertical-align: middle;\n",
       "    }\n",
       "\n",
       "    .dataframe tbody tr th {\n",
       "        vertical-align: top;\n",
       "    }\n",
       "\n",
       "    .dataframe thead th {\n",
       "        text-align: right;\n",
       "    }\n",
       "</style>\n",
       "<table border=\"1\" class=\"dataframe\">\n",
       "  <thead>\n",
       "    <tr style=\"text-align: right;\">\n",
       "      <th></th>\n",
       "      <th>id</th>\n",
       "      <th>plan_id</th>\n",
       "      <th>type</th>\n",
       "      <th>link</th>\n",
       "      <th>facility</th>\n",
       "      <th>x</th>\n",
       "      <th>y</th>\n",
       "      <th>end_time</th>\n",
       "      <th>headway_min</th>\n",
       "      <th>max_dur</th>\n",
       "      <th>start_time</th>\n",
       "      <th>city</th>\n",
       "      <th>typeBeforeCutting</th>\n",
       "      <th>short_type</th>\n",
       "    </tr>\n",
       "  </thead>\n",
       "  <tbody>\n",
       "    <tr>\n",
       "      <th>0</th>\n",
       "      <td>1</td>\n",
       "      <td>1</td>\n",
       "      <td>home</td>\n",
       "      <td>270549</td>\n",
       "      <td>home4</td>\n",
       "      <td>2679482.0</td>\n",
       "      <td>1237545.0</td>\n",
       "      <td>07:50:56</td>\n",
       "      <td>30.0</td>\n",
       "      <td>NaN</td>\n",
       "      <td>NaN</td>\n",
       "      <td>NaN</td>\n",
       "      <td>NaN</td>\n",
       "      <td>H</td>\n",
       "    </tr>\n",
       "    <tr>\n",
       "      <th>7</th>\n",
       "      <td>8</td>\n",
       "      <td>1</td>\n",
       "      <td>outside</td>\n",
       "      <td>166874</td>\n",
       "      <td>outside_1</td>\n",
       "      <td>2687164.597205863</td>\n",
       "      <td>1240056.4327108893</td>\n",
       "      <td>08:20:56</td>\n",
       "      <td>30.0</td>\n",
       "      <td>NaN</td>\n",
       "      <td>NaN</td>\n",
       "      <td>NaN</td>\n",
       "      <td>NaN</td>\n",
       "      <td>OU</td>\n",
       "    </tr>\n",
       "    <tr>\n",
       "      <th>8</th>\n",
       "      <td>9</td>\n",
       "      <td>1</td>\n",
       "      <td>outside</td>\n",
       "      <td>166874</td>\n",
       "      <td>outside_1</td>\n",
       "      <td>2687164.597205863</td>\n",
       "      <td>1240056.4327108893</td>\n",
       "      <td>08:44:00</td>\n",
       "      <td>30.0</td>\n",
       "      <td>NaN</td>\n",
       "      <td>NaN</td>\n",
       "      <td>NaN</td>\n",
       "      <td>NaN</td>\n",
       "      <td>OU</td>\n",
       "    </tr>\n",
       "    <tr>\n",
       "      <th>9</th>\n",
       "      <td>10</td>\n",
       "      <td>1</td>\n",
       "      <td>outside</td>\n",
       "      <td>978218</td>\n",
       "      <td>outside_2</td>\n",
       "      <td>2688162.5789000895</td>\n",
       "      <td>1240087.2224383662</td>\n",
       "      <td>08:59:00</td>\n",
       "      <td>48.0</td>\n",
       "      <td>NaN</td>\n",
       "      <td>NaN</td>\n",
       "      <td>NaN</td>\n",
       "      <td>NaN</td>\n",
       "      <td>OU</td>\n",
       "    </tr>\n",
       "    <tr>\n",
       "      <th>16</th>\n",
       "      <td>17</td>\n",
       "      <td>1</td>\n",
       "      <td>home</td>\n",
       "      <td>270549</td>\n",
       "      <td>home4</td>\n",
       "      <td>2679482.0</td>\n",
       "      <td>1237545.0</td>\n",
       "      <td>11:05:56</td>\n",
       "      <td>60.0</td>\n",
       "      <td>NaN</td>\n",
       "      <td>08:35:56</td>\n",
       "      <td>NaN</td>\n",
       "      <td>NaN</td>\n",
       "      <td>H</td>\n",
       "    </tr>\n",
       "  </tbody>\n",
       "</table>\n",
       "</div>"
      ],
      "text/plain": [
       "    id  plan_id     type    link   facility                   x                   y  end_time headway_min max_dur start_time city typeBeforeCutting short_type\n",
       "0    1        1     home  270549      home4           2679482.0           1237545.0  07:50:56        30.0     NaN        NaN  NaN               NaN          H\n",
       "7    8        1  outside  166874  outside_1   2687164.597205863  1240056.4327108893  08:20:56        30.0     NaN        NaN  NaN               NaN         OU\n",
       "8    9        1  outside  166874  outside_1   2687164.597205863  1240056.4327108893  08:44:00        30.0     NaN        NaN  NaN               NaN         OU\n",
       "9   10        1  outside  978218  outside_2  2688162.5789000895  1240087.2224383662  08:59:00        48.0     NaN        NaN  NaN               NaN         OU\n",
       "16  17        1     home  270549      home4           2679482.0           1237545.0  11:05:56        60.0     NaN   08:35:56  NaN               NaN          H"
      ]
     },
     "execution_count": 109,
     "metadata": {},
     "output_type": "execute_result"
    }
   ],
   "source": [
    "clean_activities_df.head()"
   ]
  },
  {
   "cell_type": "code",
   "execution_count": 110,
   "metadata": {},
   "outputs": [],
   "source": [
    "# Create the dataframe of activity chains\n",
    "activity_chains = clean_activities_df.groupby('plan_id')['short_type'].apply(lambda x: '-'.join(x)).reset_index()"
   ]
  },
  {
   "cell_type": "code",
   "execution_count": 111,
   "metadata": {},
   "outputs": [
    {
     "data": {
      "text/html": [
       "<div>\n",
       "<style scoped>\n",
       "    .dataframe tbody tr th:only-of-type {\n",
       "        vertical-align: middle;\n",
       "    }\n",
       "\n",
       "    .dataframe tbody tr th {\n",
       "        vertical-align: top;\n",
       "    }\n",
       "\n",
       "    .dataframe thead th {\n",
       "        text-align: right;\n",
       "    }\n",
       "</style>\n",
       "<table border=\"1\" class=\"dataframe\">\n",
       "  <thead>\n",
       "    <tr style=\"text-align: right;\">\n",
       "      <th></th>\n",
       "      <th>plan_id</th>\n",
       "      <th>short_type</th>\n",
       "    </tr>\n",
       "  </thead>\n",
       "  <tbody>\n",
       "    <tr>\n",
       "      <th>0</th>\n",
       "      <td>1</td>\n",
       "      <td>H-OU-OU-OU-H-L-O-L-L-O-L-O-L-H-L-H</td>\n",
       "    </tr>\n",
       "    <tr>\n",
       "      <th>1</th>\n",
       "      <td>2</td>\n",
       "      <td>H</td>\n",
       "    </tr>\n",
       "    <tr>\n",
       "      <th>2</th>\n",
       "      <td>3</td>\n",
       "      <td>OU-OU-OU-OU-OU-OU-OU-OU</td>\n",
       "    </tr>\n",
       "    <tr>\n",
       "      <th>3</th>\n",
       "      <td>4</td>\n",
       "      <td>OU-L-W-OU</td>\n",
       "    </tr>\n",
       "    <tr>\n",
       "      <th>4</th>\n",
       "      <td>5</td>\n",
       "      <td>OU-OU-OU-L-OU</td>\n",
       "    </tr>\n",
       "  </tbody>\n",
       "</table>\n",
       "</div>"
      ],
      "text/plain": [
       "   plan_id                          short_type\n",
       "0        1  H-OU-OU-OU-H-L-O-L-L-O-L-O-L-H-L-H\n",
       "1        2                                   H\n",
       "2        3             OU-OU-OU-OU-OU-OU-OU-OU\n",
       "3        4                           OU-L-W-OU\n",
       "4        5                       OU-OU-OU-L-OU"
      ]
     },
     "execution_count": 111,
     "metadata": {},
     "output_type": "execute_result"
    }
   ],
   "source": [
    "activity_chains.head()"
   ]
  },
  {
   "cell_type": "code",
   "execution_count": 112,
   "metadata": {},
   "outputs": [
    {
     "data": {
      "text/plain": [
       "short_type\n",
       "OU-W-OU                    7327\n",
       "OU-OU-OU-OU                6368\n",
       "H-W-H                      5630\n",
       "OU-OU-W-OU                 4918\n",
       "H                          4425\n",
       "OU-OU                      3625\n",
       "H-S-H                      3417\n",
       "H-OU-OU-H                  3301\n",
       "OU-OU-OU-OU-OU-OU          3082\n",
       "H-L-H                      2778\n",
       "H-H                        1887\n",
       "OU-L-OU                    1732\n",
       "H-OU-OU-OU-H               1706\n",
       "H-W-H-W-H                  1434\n",
       "H-E-H                      1402\n",
       "H-E-H-E-H                  1235\n",
       "OU-OU-OU-OU-OU             1157\n",
       "FL-OU                      1153\n",
       "OU-FU                      1151\n",
       "OU-OU-OU-OU-OU-OU-OU-OU    1139\n",
       "Name: count, dtype: int64"
      ]
     },
     "execution_count": 112,
     "metadata": {},
     "output_type": "execute_result"
    }
   ],
   "source": [
    "# First 15 most frequent activityu chain\n",
    "activity_chains['short_type'].value_counts().head(20)"
   ]
  },
  {
   "cell_type": "code",
   "execution_count": 113,
   "metadata": {},
   "outputs": [
    {
     "data": {
      "text/plain": [
       "short_type\n",
       "OU-W-OU                            7327\n",
       "OU-OU-OU-OU                        6368\n",
       "H-W-H                              5630\n",
       "OU-OU-W-OU                         4918\n",
       "H                                  4425\n",
       "                                   ... \n",
       "H-OU-OU-OU-OU-OU-OU-S-L-OU-OU-H       1\n",
       "H-H-O-OU-OU-O-H-H-H                   1\n",
       "H-E-H-L-H-E-H-O-H                     1\n",
       "H-O-S-L-H-O-H-OU-OU-H-O-L-L-O-H       1\n",
       "FL-OU-OU-OU-OU-OU-OU-FU               1\n",
       "Name: count, Length: 10242, dtype: int64"
      ]
     },
     "execution_count": 113,
     "metadata": {},
     "output_type": "execute_result"
    }
   ],
   "source": [
    "activity_chains['short_type'].value_counts()"
   ]
  },
  {
   "cell_type": "code",
   "execution_count": 114,
   "metadata": {},
   "outputs": [
    {
     "data": {
      "text/plain": [
       "104"
      ]
     },
     "execution_count": 114,
     "metadata": {},
     "output_type": "execute_result"
    }
   ],
   "source": [
    "plan_df.persons['age'].nunique()"
   ]
  },
  {
   "cell_type": "code",
   "execution_count": 115,
   "metadata": {},
   "outputs": [
    {
     "data": {
      "text/plain": [
       "array([ 30,   3,  48,  52,  32,  28,  40,  36,  38,  26,  31,  25,  55,\n",
       "        70,  71,  69,  23,  59,  46,  41,  64,  33,  42,   5,  27,  50,\n",
       "        11,  13,  35,  63,  65,  75,  21,  62,  60,  34,  44,  43,  56,\n",
       "        66,  57,  29,  53,  19,  83,  51,  15,  22,  84,  58,  61,  37,\n",
       "        54,  45,  67,  17,  47,  24,  49,  72,  77,  39,  87,  16,  74,\n",
       "        10,  14,  18,  73,   0,   2,  80,   6,  68,  20,   9,  82,  88,\n",
       "         8,  85,  81,  97,  89,  78,  92,  79,  90,  12,   1,  76,   4,\n",
       "        96,  86,   7,  93,  94,  95,  91,  99, 101, 100,  98, 103, 102])"
      ]
     },
     "execution_count": 115,
     "metadata": {},
     "output_type": "execute_result"
    }
   ],
   "source": [
    "plan_df.persons['age'].unique()"
   ]
  },
  {
   "cell_type": "code",
   "execution_count": 116,
   "metadata": {},
   "outputs": [],
   "source": [
    "pipo = activity_chains['short_type'].value_counts().index"
   ]
  },
  {
   "cell_type": "code",
   "execution_count": 117,
   "metadata": {},
   "outputs": [],
   "source": [
    "values_to_drop = pipo[10:]"
   ]
  },
  {
   "cell_type": "code",
   "execution_count": 118,
   "metadata": {},
   "outputs": [],
   "source": [
    "most_frequent_activity_chains = activity_chains[~activity_chains['short_type'].isin(values_to_drop)]"
   ]
  },
  {
   "cell_type": "code",
   "execution_count": 119,
   "metadata": {},
   "outputs": [
    {
     "name": "stderr",
     "output_type": "stream",
     "text": [
      "/tmp/ipykernel_11725/611942375.py:8: FutureWarning: \n",
      "\n",
      "Passing `palette` without assigning `hue` is deprecated and will be removed in v0.14.0. Assign the `x` variable to `hue` and set `legend=False` for the same effect.\n",
      "\n",
      "  sns.countplot(data=most_frequent_activity_chains, x=\"short_type\", order=value_counts.index, palette=\"pastel\", edgecolor=\".6\")\n"
     ]
    },
    {
     "data": {
      "image/png": "[encoded data removed]",
      "text/plain": [
       "<Figure size 2000x600 with 1 Axes>"
      ]
     },
     "metadata": {},
     "output_type": "display_data"
    }
   ],
   "source": [
    "# Plot most frequent activity chain distribution of the most_frequent_activity_chains dataframe\n",
    "# set sns style\n",
    "sns.set(style=\"darkgrid\")\n",
    "plt.figure(figsize=(20, 6))\n",
    "\n",
    "# Create a countplot for the 'sex' column with a circular aspect\n",
    "value_counts = most_frequent_activity_chains['short_type'].value_counts().sort_values(ascending=False)\n",
    "sns.countplot(data=most_frequent_activity_chains, x=\"short_type\", order=value_counts.index, palette=\"pastel\", edgecolor=\".6\")\n",
    "\n",
    "\n",
    "# Add labels and a title to the plot\n",
    "plt.xlabel(\"Activity Chains\")\n",
    "plt.ylabel(\"Frequency\")\n",
    "plt.title(\"Distribution of Activity Chains Types\")\n",
    "\n",
    "# Set the x-axis and y-axis \n",
    "max_frequency = most_frequent_activity_chains['short_type'].value_counts().iloc[0] + 50\n",
    "plt.ylim(0, max_frequency) \n",
    "xticks_range = range(0, 10)\n",
    "plt.xticks(xticks_range)\n",
    "plt.yticks()\n",
    "\n",
    "# Save the plot\n",
    "# plt.savefig(\"pippo.png\", dpi=300)\n",
    "\n",
    "# Show the plot\n",
    "plt.show()"
   ]
  },
  {
   "cell_type": "markdown",
   "metadata": {},
   "source": [
    "### <font color=\"orange\"> Task 05: O-D Distribution by Zone"
   ]
  },
  {
   "cell_type": "code",
   "execution_count": 120,
   "metadata": {},
   "outputs": [],
   "source": [
    "final_activities_df = clean_activities_df[['id', 'plan_id', 'type', 'facility', 'x', 'y', 'end_time', 'start_time']]"
   ]
  },
  {
   "cell_type": "code",
   "execution_count": 121,
   "metadata": {},
   "outputs": [
    {
     "data": {
      "text/html": [
       "<div>\n",
       "<style scoped>\n",
       "    .dataframe tbody tr th:only-of-type {\n",
       "        vertical-align: middle;\n",
       "    }\n",
       "\n",
       "    .dataframe tbody tr th {\n",
       "        vertical-align: top;\n",
       "    }\n",
       "\n",
       "    .dataframe thead th {\n",
       "        text-align: right;\n",
       "    }\n",
       "</style>\n",
       "<table border=\"1\" class=\"dataframe\">\n",
       "  <thead>\n",
       "    <tr style=\"text-align: right;\">\n",
       "      <th></th>\n",
       "      <th>id</th>\n",
       "      <th>plan_id</th>\n",
       "      <th>type</th>\n",
       "      <th>facility</th>\n",
       "      <th>x</th>\n",
       "      <th>y</th>\n",
       "      <th>end_time</th>\n",
       "      <th>start_time</th>\n",
       "    </tr>\n",
       "  </thead>\n",
       "  <tbody>\n",
       "    <tr>\n",
       "      <th>0</th>\n",
       "      <td>1</td>\n",
       "      <td>1</td>\n",
       "      <td>home</td>\n",
       "      <td>home4</td>\n",
       "      <td>2679482.0</td>\n",
       "      <td>1237545.0</td>\n",
       "      <td>07:50:56</td>\n",
       "      <td>NaN</td>\n",
       "    </tr>\n",
       "    <tr>\n",
       "      <th>7</th>\n",
       "      <td>8</td>\n",
       "      <td>1</td>\n",
       "      <td>outside</td>\n",
       "      <td>outside_1</td>\n",
       "      <td>2687164.597205863</td>\n",
       "      <td>1240056.4327108893</td>\n",
       "      <td>08:20:56</td>\n",
       "      <td>NaN</td>\n",
       "    </tr>\n",
       "    <tr>\n",
       "      <th>8</th>\n",
       "      <td>9</td>\n",
       "      <td>1</td>\n",
       "      <td>outside</td>\n",
       "      <td>outside_1</td>\n",
       "      <td>2687164.597205863</td>\n",
       "      <td>1240056.4327108893</td>\n",
       "      <td>08:44:00</td>\n",
       "      <td>NaN</td>\n",
       "    </tr>\n",
       "    <tr>\n",
       "      <th>9</th>\n",
       "      <td>10</td>\n",
       "      <td>1</td>\n",
       "      <td>outside</td>\n",
       "      <td>outside_2</td>\n",
       "      <td>2688162.5789000895</td>\n",
       "      <td>1240087.2224383662</td>\n",
       "      <td>08:59:00</td>\n",
       "      <td>NaN</td>\n",
       "    </tr>\n",
       "    <tr>\n",
       "      <th>16</th>\n",
       "      <td>17</td>\n",
       "      <td>1</td>\n",
       "      <td>home</td>\n",
       "      <td>home4</td>\n",
       "      <td>2679482.0</td>\n",
       "      <td>1237545.0</td>\n",
       "      <td>11:05:56</td>\n",
       "      <td>08:35:56</td>\n",
       "    </tr>\n",
       "  </tbody>\n",
       "</table>\n",
       "</div>"
      ],
      "text/plain": [
       "    id  plan_id     type   facility                   x                   y  end_time start_time\n",
       "0    1        1     home      home4           2679482.0           1237545.0  07:50:56        NaN\n",
       "7    8        1  outside  outside_1   2687164.597205863  1240056.4327108893  08:20:56        NaN\n",
       "8    9        1  outside  outside_1   2687164.597205863  1240056.4327108893  08:44:00        NaN\n",
       "9   10        1  outside  outside_2  2688162.5789000895  1240087.2224383662  08:59:00        NaN\n",
       "16  17        1     home      home4           2679482.0           1237545.0  11:05:56   08:35:56"
      ]
     },
     "execution_count": 121,
     "metadata": {},
     "output_type": "execute_result"
    }
   ],
   "source": [
    "final_activities_df.head()"
   ]
  },
  {
   "cell_type": "code",
   "execution_count": 122,
   "metadata": {},
   "outputs": [],
   "source": [
    "# Initialize lists to store x values\n",
    "id_list = []\n",
    "plan_id = []\n",
    "origin_list = []\n",
    "destination_list = []\n",
    "x_list_o = []\n",
    "y_list_o = []\n",
    "x_list_d = []\n",
    "y_list_d = []\n",
    "start_time = []\n",
    "end_time = []\n",
    "\n",
    "\n",
    "# Iterate through the DataFrame\n",
    "for i in range(len(final_activities_df)-1):\n",
    "    current_plan_id = final_activities_df['plan_id'].iloc[i]\n",
    "    next_plan_id = final_activities_df['plan_id'].iloc[i + 1]\n",
    "    current_facility = final_activities_df['facility'].iloc[i]\n",
    "    next_facility = final_activities_df['facility'].iloc[i + 1]\n",
    "    if current_plan_id == next_plan_id and current_facility != next_facility:\n",
    "        id_list.append(final_activities_df['id'].iloc[i])\n",
    "        plan_id.append(final_activities_df['plan_id'].iloc[i])\n",
    "        origin_list.append(final_activities_df['type'].iloc[i])\n",
    "        destination_list.append(final_activities_df['type'].iloc[i + 1])\n",
    "        x_list_o.append(final_activities_df['x'].iloc[i])\n",
    "        y_list_o.append(final_activities_df['y'].iloc[i])\n",
    "        x_list_d.append(final_activities_df['x'].iloc[i + 1])\n",
    "        y_list_d.append(final_activities_df['y'].iloc[i + 1])\n",
    "        start_time.append(final_activities_df['end_time'].iloc[i])\n",
    "        end_time.append(final_activities_df['start_time'].iloc[i + 1])\n",
    "    else:\n",
    "        id_list.append(None)\n",
    "        plan_id.append(None)\n",
    "        origin_list.append(None)\n",
    "        destination_list.append(None)\n",
    "        x_list_o.append(None)\n",
    "        y_list_o.append(None)\n",
    "        x_list_d.append(None)\n",
    "        y_list_d.append(None)\n",
    "        start_time.append(None)\n",
    "        end_time.append(None)"
   ]
  },
  {
   "cell_type": "code",
   "execution_count": 123,
   "metadata": {},
   "outputs": [],
   "source": [
    "OD_trips = pd.DataFrame({'id': id_list, 'plan_id': plan_id, 'origin': origin_list, 'destination': destination_list,\n",
    "                        'x_o': x_list_o, 'y_o': y_list_o, 'x_d': x_list_d, 'y_d': y_list_d, 'trip_start_time':start_time, 'trip_end_time': end_time})"
   ]
  },
  {
   "cell_type": "code",
   "execution_count": 124,
   "metadata": {},
   "outputs": [
    {
     "data": {
      "text/plain": [
       "(667593, 10)"
      ]
     },
     "execution_count": 124,
     "metadata": {},
     "output_type": "execute_result"
    }
   ],
   "source": [
    "OD_trips.shape"
   ]
  },
  {
   "cell_type": "code",
   "execution_count": 125,
   "metadata": {},
   "outputs": [],
   "source": [
    "OD_trips.dropna(subset=['id'], inplace=True)"
   ]
  },
  {
   "cell_type": "code",
   "execution_count": 126,
   "metadata": {},
   "outputs": [
    {
     "data": {
      "text/plain": [
       "(509229, 10)"
      ]
     },
     "execution_count": 126,
     "metadata": {},
     "output_type": "execute_result"
    }
   ],
   "source": [
    "OD_trips.shape"
   ]
  },
  {
   "cell_type": "code",
   "execution_count": 127,
   "metadata": {},
   "outputs": [],
   "source": [
    "# OD_trips.to_csv(\"od_trips.csv\", index=False)"
   ]
  },
  {
   "cell_type": "code",
   "execution_count": 128,
   "metadata": {},
   "outputs": [
    {
     "data": {
      "text/html": [
       "<div>\n",
       "<style scoped>\n",
       "    .dataframe tbody tr th:only-of-type {\n",
       "        vertical-align: middle;\n",
       "    }\n",
       "\n",
       "    .dataframe tbody tr th {\n",
       "        vertical-align: top;\n",
       "    }\n",
       "\n",
       "    .dataframe thead th {\n",
       "        text-align: right;\n",
       "    }\n",
       "</style>\n",
       "<table border=\"1\" class=\"dataframe\">\n",
       "  <thead>\n",
       "    <tr style=\"text-align: right;\">\n",
       "      <th></th>\n",
       "      <th>id</th>\n",
       "      <th>plan_id</th>\n",
       "      <th>origin</th>\n",
       "      <th>destination</th>\n",
       "      <th>x_o</th>\n",
       "      <th>y_o</th>\n",
       "      <th>x_d</th>\n",
       "      <th>y_d</th>\n",
       "      <th>trip_start_time</th>\n",
       "      <th>trip_end_time</th>\n",
       "    </tr>\n",
       "  </thead>\n",
       "  <tbody>\n",
       "    <tr>\n",
       "      <th>0</th>\n",
       "      <td>1.0</td>\n",
       "      <td>1.0</td>\n",
       "      <td>home</td>\n",
       "      <td>outside</td>\n",
       "      <td>2679482.0</td>\n",
       "      <td>1237545.0</td>\n",
       "      <td>2687164.597205863</td>\n",
       "      <td>1240056.4327108893</td>\n",
       "      <td>07:50:56</td>\n",
       "      <td>NaN</td>\n",
       "    </tr>\n",
       "    <tr>\n",
       "      <th>2</th>\n",
       "      <td>9.0</td>\n",
       "      <td>1.0</td>\n",
       "      <td>outside</td>\n",
       "      <td>outside</td>\n",
       "      <td>2687164.597205863</td>\n",
       "      <td>1240056.4327108893</td>\n",
       "      <td>2688162.5789000895</td>\n",
       "      <td>1240087.2224383662</td>\n",
       "      <td>08:44:00</td>\n",
       "      <td>NaN</td>\n",
       "    </tr>\n",
       "    <tr>\n",
       "      <th>3</th>\n",
       "      <td>10.0</td>\n",
       "      <td>1.0</td>\n",
       "      <td>outside</td>\n",
       "      <td>home</td>\n",
       "      <td>2688162.5789000895</td>\n",
       "      <td>1240087.2224383662</td>\n",
       "      <td>2679482.0</td>\n",
       "      <td>1237545.0</td>\n",
       "      <td>08:59:00</td>\n",
       "      <td>08:35:56</td>\n",
       "    </tr>\n",
       "    <tr>\n",
       "      <th>4</th>\n",
       "      <td>17.0</td>\n",
       "      <td>1.0</td>\n",
       "      <td>home</td>\n",
       "      <td>leisure</td>\n",
       "      <td>2679482.0</td>\n",
       "      <td>1237545.0</td>\n",
       "      <td>2680684.0</td>\n",
       "      <td>1236911.0</td>\n",
       "      <td>11:05:56</td>\n",
       "      <td>11:15:56</td>\n",
       "    </tr>\n",
       "    <tr>\n",
       "      <th>5</th>\n",
       "      <td>18.0</td>\n",
       "      <td>1.0</td>\n",
       "      <td>leisure</td>\n",
       "      <td>other</td>\n",
       "      <td>2680684.0</td>\n",
       "      <td>1236911.0</td>\n",
       "      <td>2680896.0</td>\n",
       "      <td>1238970.0</td>\n",
       "      <td>11:35:56</td>\n",
       "      <td>11:40:56</td>\n",
       "    </tr>\n",
       "  </tbody>\n",
       "</table>\n",
       "</div>"
      ],
      "text/plain": [
       "     id  plan_id   origin destination                 x_o                 y_o                 x_d                 y_d trip_start_time trip_end_time\n",
       "0   1.0      1.0     home     outside           2679482.0           1237545.0   2687164.597205863  1240056.4327108893        07:50:56           NaN\n",
       "2   9.0      1.0  outside     outside   2687164.597205863  1240056.4327108893  2688162.5789000895  1240087.2224383662        08:44:00           NaN\n",
       "3  10.0      1.0  outside        home  2688162.5789000895  1240087.2224383662           2679482.0           1237545.0        08:59:00      08:35:56\n",
       "4  17.0      1.0     home     leisure           2679482.0           1237545.0           2680684.0           1236911.0        11:05:56      11:15:56\n",
       "5  18.0      1.0  leisure       other           2680684.0           1236911.0           2680896.0           1238970.0        11:35:56      11:40:56"
      ]
     },
     "execution_count": 128,
     "metadata": {},
     "output_type": "execute_result"
    }
   ],
   "source": [
    "OD_trips.head()"
   ]
  },
  {
   "cell_type": "code",
   "execution_count": null,
   "metadata": {},
   "outputs": [],
   "source": []
  }
 ],
 "metadata": {
  "kernelspec": {
   "display_name": "Python 3",
   "language": "python",
   "name": "python3"
  },
  "language_info": {
   "codemirror_mode": {
    "name": "ipython",
    "version": 3
   },
   "file_extension": ".py",
   "mimetype": "text/x-python",
   "name": "python",
   "nbconvert_exporter": "python",
   "pygments_lexer": "ipython3",
   "version": "3.10.13"
  }
 },
 "nbformat": 4,
 "nbformat_minor": 4
}
