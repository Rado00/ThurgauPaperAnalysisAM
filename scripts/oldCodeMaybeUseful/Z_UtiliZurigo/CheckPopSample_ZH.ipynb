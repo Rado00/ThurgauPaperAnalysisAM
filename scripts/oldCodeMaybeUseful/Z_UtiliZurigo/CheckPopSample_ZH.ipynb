{
 "cells": [
  {
   "cell_type": "code",
   "execution_count": 6,
   "id": "f64682b1-19bd-4113-9f8f-95c8d6e8189b",
   "metadata": {
    "tags": []
   },
   "outputs": [],
   "source": [
    "import gzip\n",
    "import xml.etree.ElementTree as ET\n",
    "\n",
    "# Replace your_file_path.xml.gz with the path to your file\n",
    "file_path_10pct = \"C:/Users/muaa/Documents/3_MIEI/2023_ABMT_Data/Zurich/10pct/zurich_population_10pct.xml\"\n",
    "file_path_25pct = \"C:/Users/muaa/Documents/3_MIEI/2023_ABMT_Data/Zurich/25pct/zurich_population_25pct.xml.gz\"\n",
    "file_path_100pct = \"C:/Users/muaa/Documents/3_MIEI/2023_ABMT_Data/Zurich/100pct/imputed_population_converted_100pct.xml.gz\"\n",
    "\n",
    "\n",
    "def count_unique_persons(file_path):\n",
    "    with gzip.open(file_path, 'r') as file:\n",
    "        tree = ET.parse(file)\n",
    "        root = tree.getroot()\n",
    "        person_ids = set(person.get(\"id\") for person in root.iter('person'))\n",
    "        return len(person_ids)\n"
   ]
  },
  {
   "cell_type": "code",
   "execution_count": 7,
   "id": "d0c5dc5d-7bfb-4391-b483-466a09646e96",
   "metadata": {
    "tags": []
   },
   "outputs": [
    {
     "ename": "PermissionError",
     "evalue": "[Errno 13] Permission denied: 'C:/Users/muaa/Documents/3_MIEI/2023_ABMT_Data/Zurich/10pct/zurich_population_10pct.xml'",
     "output_type": "error",
     "traceback": [
      "\u001b[1;31m---------------------------------------------------------------------------\u001b[0m",
      "\u001b[1;31mPermissionError\u001b[0m                           Traceback (most recent call last)",
      "\u001b[1;32mc:\\Users\\muaa\\Documents\\3_MIEI\\2023_ABMT_Corrado_Muratori\\Analysis\\Assignment 2\\CheckPopSample.ipynb Cell 2\u001b[0m line \u001b[0;36m2\n\u001b[0;32m      <a href='vscode-notebook-cell:/c%3A/Users/muaa/Documents/3_MIEI/2023_ABMT_Corrado_Muratori/Analysis/Assignment%202/CheckPopSample.ipynb#W1sZmlsZQ%3D%3D?line=0'>1</a>\u001b[0m \u001b[39m# Count the unique person IDs\u001b[39;00m\n\u001b[1;32m----> <a href='vscode-notebook-cell:/c%3A/Users/muaa/Documents/3_MIEI/2023_ABMT_Corrado_Muratori/Analysis/Assignment%202/CheckPopSample.ipynb#W1sZmlsZQ%3D%3D?line=1'>2</a>\u001b[0m num_persons_10pct \u001b[39m=\u001b[39m count_unique_persons(file_path_10pct)\n\u001b[0;32m      <a href='vscode-notebook-cell:/c%3A/Users/muaa/Documents/3_MIEI/2023_ABMT_Corrado_Muratori/Analysis/Assignment%202/CheckPopSample.ipynb#W1sZmlsZQ%3D%3D?line=2'>3</a>\u001b[0m \u001b[39mprint\u001b[39m(\u001b[39mf\u001b[39m\u001b[39m\"\u001b[39m\u001b[39mNumber of unique persons: \u001b[39m\u001b[39m{\u001b[39;00mnum_persons_10pct\u001b[39m}\u001b[39;00m\u001b[39m\"\u001b[39m)\n",
      "\u001b[1;32mc:\\Users\\muaa\\Documents\\3_MIEI\\2023_ABMT_Corrado_Muratori\\Analysis\\Assignment 2\\CheckPopSample.ipynb Cell 2\u001b[0m line \u001b[0;36m1\n\u001b[0;32m     <a href='vscode-notebook-cell:/c%3A/Users/muaa/Documents/3_MIEI/2023_ABMT_Corrado_Muratori/Analysis/Assignment%202/CheckPopSample.ipynb#W1sZmlsZQ%3D%3D?line=9'>10</a>\u001b[0m \u001b[39mdef\u001b[39;00m \u001b[39mcount_unique_persons\u001b[39m(file_path):\n\u001b[1;32m---> <a href='vscode-notebook-cell:/c%3A/Users/muaa/Documents/3_MIEI/2023_ABMT_Corrado_Muratori/Analysis/Assignment%202/CheckPopSample.ipynb#W1sZmlsZQ%3D%3D?line=10'>11</a>\u001b[0m     \u001b[39mwith\u001b[39;00m gzip\u001b[39m.\u001b[39;49mopen(file_path, \u001b[39m'\u001b[39;49m\u001b[39mr\u001b[39;49m\u001b[39m'\u001b[39;49m) \u001b[39mas\u001b[39;00m file:\n\u001b[0;32m     <a href='vscode-notebook-cell:/c%3A/Users/muaa/Documents/3_MIEI/2023_ABMT_Corrado_Muratori/Analysis/Assignment%202/CheckPopSample.ipynb#W1sZmlsZQ%3D%3D?line=11'>12</a>\u001b[0m         tree \u001b[39m=\u001b[39m ET\u001b[39m.\u001b[39mparse(file)\n\u001b[0;32m     <a href='vscode-notebook-cell:/c%3A/Users/muaa/Documents/3_MIEI/2023_ABMT_Corrado_Muratori/Analysis/Assignment%202/CheckPopSample.ipynb#W1sZmlsZQ%3D%3D?line=12'>13</a>\u001b[0m         root \u001b[39m=\u001b[39m tree\u001b[39m.\u001b[39mgetroot()\n",
      "File \u001b[1;32mc:\\Users\\muaa\\AppData\\Local\\Programs\\Python\\Python312\\Lib\\gzip.py:61\u001b[0m, in \u001b[0;36mopen\u001b[1;34m(filename, mode, compresslevel, encoding, errors, newline)\u001b[0m\n\u001b[0;32m     59\u001b[0m gz_mode \u001b[39m=\u001b[39m mode\u001b[39m.\u001b[39mreplace(\u001b[39m\"\u001b[39m\u001b[39mt\u001b[39m\u001b[39m\"\u001b[39m, \u001b[39m\"\u001b[39m\u001b[39m\"\u001b[39m)\n\u001b[0;32m     60\u001b[0m \u001b[39mif\u001b[39;00m \u001b[39misinstance\u001b[39m(filename, (\u001b[39mstr\u001b[39m, \u001b[39mbytes\u001b[39m, os\u001b[39m.\u001b[39mPathLike)):\n\u001b[1;32m---> 61\u001b[0m     binary_file \u001b[39m=\u001b[39m GzipFile(filename, gz_mode, compresslevel)\n\u001b[0;32m     62\u001b[0m \u001b[39melif\u001b[39;00m \u001b[39mhasattr\u001b[39m(filename, \u001b[39m\"\u001b[39m\u001b[39mread\u001b[39m\u001b[39m\"\u001b[39m) \u001b[39mor\u001b[39;00m \u001b[39mhasattr\u001b[39m(filename, \u001b[39m\"\u001b[39m\u001b[39mwrite\u001b[39m\u001b[39m\"\u001b[39m):\n\u001b[0;32m     63\u001b[0m     binary_file \u001b[39m=\u001b[39m GzipFile(\u001b[39mNone\u001b[39;00m, gz_mode, compresslevel, filename)\n",
      "File \u001b[1;32mc:\\Users\\muaa\\AppData\\Local\\Programs\\Python\\Python312\\Lib\\gzip.py:192\u001b[0m, in \u001b[0;36mGzipFile.__init__\u001b[1;34m(self, filename, mode, compresslevel, fileobj, mtime)\u001b[0m\n\u001b[0;32m    190\u001b[0m     mode \u001b[39m+\u001b[39m\u001b[39m=\u001b[39m \u001b[39m'\u001b[39m\u001b[39mb\u001b[39m\u001b[39m'\u001b[39m\n\u001b[0;32m    191\u001b[0m \u001b[39mif\u001b[39;00m fileobj \u001b[39mis\u001b[39;00m \u001b[39mNone\u001b[39;00m:\n\u001b[1;32m--> 192\u001b[0m     fileobj \u001b[39m=\u001b[39m \u001b[39mself\u001b[39m\u001b[39m.\u001b[39mmyfileobj \u001b[39m=\u001b[39m builtins\u001b[39m.\u001b[39;49mopen(filename, mode \u001b[39mor\u001b[39;49;00m \u001b[39m'\u001b[39;49m\u001b[39mrb\u001b[39;49m\u001b[39m'\u001b[39;49m)\n\u001b[0;32m    193\u001b[0m \u001b[39mif\u001b[39;00m filename \u001b[39mis\u001b[39;00m \u001b[39mNone\u001b[39;00m:\n\u001b[0;32m    194\u001b[0m     filename \u001b[39m=\u001b[39m \u001b[39mgetattr\u001b[39m(fileobj, \u001b[39m'\u001b[39m\u001b[39mname\u001b[39m\u001b[39m'\u001b[39m, \u001b[39m'\u001b[39m\u001b[39m'\u001b[39m)\n",
      "\u001b[1;31mPermissionError\u001b[0m: [Errno 13] Permission denied: 'C:/Users/muaa/Documents/3_MIEI/2023_ABMT_Data/Zurich/10pct/zurich_population_10pct.xml'"
     ]
    }
   ],
   "source": [
    "# Count the unique person IDs\n",
    "num_persons_10pct = count_unique_persons(file_path_10pct)\n",
    "print(f\"Number of unique persons: {num_persons_10pct}\")"
   ]
  },
  {
   "cell_type": "code",
   "execution_count": null,
   "id": "1e078770-cf6a-43d2-8ad4-15a3d758c701",
   "metadata": {},
   "outputs": [],
   "source": [
    "# Count the unique person IDs\n",
    "num_persons_25pct = count_unique_persons(file_path_25pct)\n",
    "print(f\"Number of unique persons: {num_persons_25pct}\")"
   ]
  },
  {
   "cell_type": "code",
   "execution_count": null,
   "metadata": {},
   "outputs": [],
   "source": [
    "# Count the unique person IDs\n",
    "num_persons_100pct = count_unique_persons(file_path_100pct)\n",
    "print(f\"Number of unique persons: {num_persons_100pct}\")"
   ]
  }
 ],
 "metadata": {
  "kernelspec": {
   "display_name": "Python 3 (ipykernel)",
   "language": "python",
   "name": "python3"
  },
  "language_info": {
   "codemirror_mode": {
    "name": "ipython",
    "version": 3
   },
   "file_extension": ".py",
   "mimetype": "text/x-python",
   "name": "python",
   "nbconvert_exporter": "python",
   "pygments_lexer": "ipython3",
   "version": "3.12.0"
  }
 },
 "nbformat": 4,
 "nbformat_minor": 5
}
